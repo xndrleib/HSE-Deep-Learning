{
 "nbformat": 4,
 "nbformat_minor": 0,
 "metadata": {
  "kernelspec": {
   "display_name": "Python 3",
   "language": "python",
   "name": "python3"
  },
  "language_info": {
   "codemirror_mode": {
    "name": "ipython",
    "version": 3
   },
   "file_extension": ".py",
   "mimetype": "text/x-python",
   "name": "python",
   "nbconvert_exporter": "python",
   "pygments_lexer": "ipython3",
   "version": "3.6.10"
  },
  "colab": {
   "name": "Copy of seminar.ipynb",
   "provenance": [
    {
     "file_id": "https://github.com/yandexdataschool/Practical_DL/blob/fall20/week05_nlp/seminar.ipynb",
     "timestamp": 1634753536906
    }
   ],
   "collapsed_sections": []
  }
 },
 "cells": [
  {
   "cell_type": "markdown",
   "metadata": {
    "id": "NKbrS5Vy5wAG",
    "pycharm": {
     "name": "#%% md\n"
    }
   },
   "source": [
    "## Seminar part 1: Fun with Word Embeddings\n",
    "\n",
    "Today we gonna play with word embeddings: train our own little embedding, load one from   gensim model zoo and use it to visualize text corpora.\n",
    "\n",
    "This whole thing is gonna happen on top of embedding dataset.\n",
    "\n",
    "__Requirements:__  `pip install --upgrade nltk gensim bokeh` , but only if you're running locally."
   ]
  },
  {
   "cell_type": "code",
   "metadata": {
    "collapsed": true,
    "id": "eol3XHb75wAO",
    "colab": {
     "base_uri": "https://localhost:8080/"
    },
    "executionInfo": {
     "status": "ok",
     "timestamp": 1634753557419,
     "user_tz": -180,
     "elapsed": 2567,
     "user": {
      "displayName": "Alexander Khizhik",
      "photoUrl": "https://lh3.googleusercontent.com/a-/AOh14GjRym6vil42cCu9NA8r90vqp_-M76yAL-4-2sShow=s64",
      "userId": "03036007741070590588"
     }
    },
    "outputId": "c63422bf-d414-4de3-ed7f-31c5f9902d97",
    "pycharm": {
     "name": "#%%\n"
    }
   },
   "source": [
    "# !wget \"https://www.dropbox.com/s/obaitrix9jyu84r/quora.txt?dl=1\" -O ./quora.txt -q\n",
    "# alternative download link: https://yadi.sk/i/BPQrUu1NaTduEw"
   ],
   "execution_count": 1,
   "outputs": []
  },
  {
   "cell_type": "code",
   "metadata": {
    "scrolled": false,
    "id": "5NIkgvXH5wAQ",
    "colab": {
     "base_uri": "https://localhost:8080/",
     "height": 35
    },
    "executionInfo": {
     "status": "ok",
     "timestamp": 1634753560363,
     "user_tz": -180,
     "elapsed": 299,
     "user": {
      "displayName": "Alexander Khizhik",
      "photoUrl": "https://lh3.googleusercontent.com/a-/AOh14GjRym6vil42cCu9NA8r90vqp_-M76yAL-4-2sShow=s64",
      "userId": "03036007741070590588"
     }
    },
    "outputId": "2628846e-1e1b-4365-d9fb-40d756ba78b5",
    "pycharm": {
     "name": "#%%\n"
    }
   },
   "source": [
    "import numpy as np\n",
    "\n",
    "data = list(open(\"./quora.txt\"))\n",
    "data[50]"
   ],
   "execution_count": 2,
   "outputs": [
    {
     "data": {
      "text/plain": "\"What TV shows or books help you read people's body language?\\n\""
     },
     "execution_count": 2,
     "metadata": {},
     "output_type": "execute_result"
    }
   ]
  },
  {
   "cell_type": "markdown",
   "metadata": {
    "id": "pX5rEAzP5wAR",
    "pycharm": {
     "name": "#%% md\n"
    }
   },
   "source": [
    "__Tokenization:__ a typical first step for an nlp task is to split raw data into words.\n",
    "The text we're working with is in raw format: with all the punctuation and smiles attached to some words, so a simple str.split won't do.\n",
    "\n",
    "Let's use __`nltk`__ - a library that handles many nlp tasks like tokenization, stemming or part-of-speech tagging."
   ]
  },
  {
   "cell_type": "code",
   "metadata": {
    "id": "cKg9Qc9b5wAS",
    "colab": {
     "base_uri": "https://localhost:8080/"
    },
    "executionInfo": {
     "status": "ok",
     "timestamp": 1634753567356,
     "user_tz": -180,
     "elapsed": 1759,
     "user": {
      "displayName": "Alexander Khizhik",
      "photoUrl": "https://lh3.googleusercontent.com/a-/AOh14GjRym6vil42cCu9NA8r90vqp_-M76yAL-4-2sShow=s64",
      "userId": "03036007741070590588"
     }
    },
    "outputId": "b8b17e8b-8d32-4348-9524-4a50fa453773",
    "pycharm": {
     "name": "#%%\n"
    }
   },
   "source": [
    "from nltk.tokenize import WordPunctTokenizer\n",
    "tokenizer = WordPunctTokenizer()\n",
    "\n",
    "print(tokenizer.tokenize(data[50]))"
   ],
   "execution_count": 3,
   "outputs": [
    {
     "name": "stdout",
     "output_type": "stream",
     "text": [
      "['What', 'TV', 'shows', 'or', 'books', 'help', 'you', 'read', 'people', \"'\", 's', 'body', 'language', '?']\n"
     ]
    }
   ]
  },
  {
   "cell_type": "code",
   "metadata": {
    "collapsed": true,
    "id": "cVOT47x25wAS",
    "executionInfo": {
     "status": "ok",
     "timestamp": 1634753664580,
     "user_tz": -180,
     "elapsed": 4551,
     "user": {
      "displayName": "Alexander Khizhik",
      "photoUrl": "https://lh3.googleusercontent.com/a-/AOh14GjRym6vil42cCu9NA8r90vqp_-M76yAL-4-2sShow=s64",
      "userId": "03036007741070590588"
     }
    },
    "pycharm": {
     "name": "#%%\n"
    }
   },
   "source": [
    "# TASK: lowercase everything and extract tokens with tokenizer. \n",
    "# data_tok should be a list of lists of tokens for each line in data.\n",
    "\n",
    "data_tok = [tokenizer.tokenize(line.lower()) for line in data]"
   ],
   "execution_count": 4,
   "outputs": []
  },
  {
   "cell_type": "code",
   "metadata": {
    "collapsed": true,
    "id": "e9BYIULt5wAT",
    "executionInfo": {
     "status": "ok",
     "timestamp": 1634753666797,
     "user_tz": -180,
     "elapsed": 2228,
     "user": {
      "displayName": "Alexander Khizhik",
      "photoUrl": "https://lh3.googleusercontent.com/a-/AOh14GjRym6vil42cCu9NA8r90vqp_-M76yAL-4-2sShow=s64",
      "userId": "03036007741070590588"
     }
    },
    "pycharm": {
     "name": "#%%\n"
    }
   },
   "source": [
    "assert all(isinstance(row, (list, tuple)) for row in data_tok), \"please convert each line into a list of tokens (strings)\"\n",
    "assert all(all(isinstance(tok, str) for tok in row) for row in data_tok), \"please convert each line into a list of tokens (strings)\"\n",
    "is_latin = lambda tok: all('a' <= x.lower() <= 'z' for x in tok)\n",
    "assert all(map(lambda l: not is_latin(l) or l.islower(), map(' '.join, data_tok))), \"please make sure to lowercase the data\""
   ],
   "execution_count": 5,
   "outputs": []
  },
  {
   "cell_type": "code",
   "metadata": {
    "id": "MW2uXFb15wAU",
    "colab": {
     "base_uri": "https://localhost:8080/"
    },
    "executionInfo": {
     "status": "ok",
     "timestamp": 1634753671069,
     "user_tz": -180,
     "elapsed": 279,
     "user": {
      "displayName": "Alexander Khizhik",
      "photoUrl": "https://lh3.googleusercontent.com/a-/AOh14GjRym6vil42cCu9NA8r90vqp_-M76yAL-4-2sShow=s64",
      "userId": "03036007741070590588"
     }
    },
    "outputId": "4f4d3bc9-5eff-4d54-ff54-0dfb8d08f7ac",
    "pycharm": {
     "name": "#%%\n"
    }
   },
   "source": [
    "print([' '.join(row) for row in data_tok[:2]])"
   ],
   "execution_count": 6,
   "outputs": [
    {
     "name": "stdout",
     "output_type": "stream",
     "text": [
      "[\"can i get back with my ex even though she is pregnant with another guy ' s baby ?\", 'what are some ways to overcome a fast food addiction ?']\n"
     ]
    }
   ]
  },
  {
   "cell_type": "code",
   "metadata": {
    "colab": {
     "base_uri": "https://localhost:8080/"
    },
    "id": "10TQzB9g-Qpa",
    "executionInfo": {
     "status": "ok",
     "timestamp": 1634754782026,
     "user_tz": -180,
     "elapsed": 86565,
     "user": {
      "displayName": "Alexander Khizhik",
      "photoUrl": "https://lh3.googleusercontent.com/a-/AOh14GjRym6vil42cCu9NA8r90vqp_-M76yAL-4-2sShow=s64",
      "userId": "03036007741070590588"
     }
    },
    "outputId": "b7bd8ed7-edfc-4ef6-8c20-dfaf94e454a9",
    "pycharm": {
     "name": "#%%\n"
    }
   },
   "source": [
    "import sentencepiece as spm\n",
    "spm.SentencePieceTrainer.train('--input=quora.txt --model_prefix=m --vocab_size=2000')\n",
    "sp = spm.SentencePieceProcessor()\n",
    "sp.load('m.model')\n",
    "sp.encode_as_pieces(\"What TV shows or books help you read Leo Tolstoy?\\n\")"
   ],
   "execution_count": 7,
   "outputs": [
    {
     "name": "stderr",
     "output_type": "stream",
     "text": [
      "sentencepiece_trainer.cc(177) LOG(INFO) Running command: --input=quora.txt --model_prefix=m --vocab_size=2000\n",
      "sentencepiece_trainer.cc(77) LOG(INFO) Starts training with : \n",
      "trainer_spec {\n",
      "  input: quora.txt\n",
      "  input_format: \n",
      "  model_prefix: m\n",
      "  model_type: UNIGRAM\n",
      "  vocab_size: 2000\n",
      "  self_test_sample_size: 0\n",
      "  character_coverage: 0.9995\n",
      "  input_sentence_size: 0\n",
      "  shuffle_input_sentence: 1\n",
      "  seed_sentencepiece_size: 1000000\n",
      "  shrinking_factor: 0.75\n",
      "  max_sentence_length: 4192\n",
      "  num_threads: 16\n",
      "  num_sub_iterations: 2\n",
      "  max_sentencepiece_length: 16\n",
      "  split_by_unicode_script: 1\n",
      "  split_by_number: 1\n",
      "  split_by_whitespace: 1\n",
      "  split_digits: 0\n",
      "  treat_whitespace_as_suffix: 0\n",
      "  allow_whitespace_only_pieces: 0\n",
      "  required_chars: \n",
      "  byte_fallback: 0\n",
      "  vocabulary_output_piece_score: 1\n",
      "  train_extremely_large_corpus: 0\n",
      "  hard_vocab_limit: 1\n",
      "  use_all_vocab: 0\n",
      "  unk_id: 0\n",
      "  bos_id: 1\n",
      "  eos_id: 2\n",
      "  pad_id: -1\n",
      "  unk_piece: <unk>\n",
      "  bos_piece: <s>\n",
      "  eos_piece: </s>\n",
      "  pad_piece: <pad>\n",
      "  unk_surface:  ⁇ \n",
      "}\n",
      "normalizer_spec {\n",
      "  name: nmt_nfkc\n",
      "  add_dummy_prefix: 1\n",
      "  remove_extra_whitespaces: 1\n",
      "  escape_whitespaces: 1\n",
      "  normalization_rule_tsv: \n",
      "}\n",
      "denormalizer_spec {}\n",
      "trainer_interface.cc(329) LOG(INFO) SentenceIterator is not specified. Using MultiFileSentenceIterator.\n",
      "trainer_interface.cc(178) LOG(INFO) Loading corpus: quora.txt\n",
      "trainer_interface.cc(385) LOG(INFO) Loaded all 537272 sentences\n",
      "trainer_interface.cc(400) LOG(INFO) Adding meta_piece: <unk>\n",
      "trainer_interface.cc(400) LOG(INFO) Adding meta_piece: <s>\n",
      "trainer_interface.cc(400) LOG(INFO) Adding meta_piece: </s>\n",
      "trainer_interface.cc(405) LOG(INFO) Normalizing sentences...\n",
      "trainer_interface.cc(466) LOG(INFO) all chars count=33793457\n",
      "trainer_interface.cc(477) LOG(INFO) Done: 99.9502% characters are covered.\n",
      "trainer_interface.cc(487) LOG(INFO) Alphabet size=82\n",
      "trainer_interface.cc(488) LOG(INFO) Final character coverage=0.999502\n",
      "trainer_interface.cc(520) LOG(INFO) Done! preprocessed 537272 sentences.\n",
      "unigram_model_trainer.cc(139) LOG(INFO) Making suffix array...\n",
      "unigram_model_trainer.cc(143) LOG(INFO) Extracting frequent sub strings...\n",
      "unigram_model_trainer.cc(194) LOG(INFO) Initialized 253588 seed sentencepieces\n",
      "trainer_interface.cc(526) LOG(INFO) Tokenizing input sentences with whitespace: 537272\n",
      "trainer_interface.cc(537) LOG(INFO) Done! 231367\n",
      "unigram_model_trainer.cc(489) LOG(INFO) Using 231367 sentences for EM training\n",
      "unigram_model_trainer.cc(505) LOG(INFO) EM sub_iter=0 size=99812 obj=10.5577 num_tokens=534545 num_tokens/piece=5.35552\n",
      "unigram_model_trainer.cc(505) LOG(INFO) EM sub_iter=1 size=87434 obj=8.25934 num_tokens=536859 num_tokens/piece=6.14016\n",
      "unigram_model_trainer.cc(505) LOG(INFO) EM sub_iter=0 size=65573 obj=8.23067 num_tokens=559125 num_tokens/piece=8.52676\n",
      "unigram_model_trainer.cc(505) LOG(INFO) EM sub_iter=1 size=65539 obj=8.22216 num_tokens=559328 num_tokens/piece=8.53428\n",
      "unigram_model_trainer.cc(505) LOG(INFO) EM sub_iter=0 size=49154 obj=8.26653 num_tokens=593458 num_tokens/piece=12.0734\n",
      "unigram_model_trainer.cc"
     ]
    },
    {
     "data": {
      "text/plain": "['▁What',\n '▁TV',\n '▁show',\n 's',\n '▁or',\n '▁books',\n '▁help',\n '▁you',\n '▁read',\n '▁Le',\n 'o',\n '▁T',\n 'ol',\n 's',\n 'to',\n 'y',\n '?']"
     },
     "execution_count": 7,
     "metadata": {},
     "output_type": "execute_result"
    },
    {
     "name": "stderr",
     "output_type": "stream",
     "text": [
      "(505) LOG(INFO) EM sub_iter=1 size=49152 obj=8.2576 num_tokens=593714 num_tokens/piece=12.0791\n",
      "unigram_model_trainer.cc(505) LOG(INFO) EM sub_iter=0 size=36864 obj=8.32261 num_tokens=632636 num_tokens/piece=17.1613\n",
      "unigram_model_trainer.cc(505) LOG(INFO) EM sub_iter=1 size=36864 obj=8.30988 num_tokens=632694 num_tokens/piece=17.1629\n",
      "unigram_model_trainer.cc(505) LOG(INFO) EM sub_iter=0 size=27648 obj=8.39671 num_tokens=674435 num_tokens/piece=24.3936\n",
      "unigram_model_trainer.cc(505) LOG(INFO) EM sub_iter=1 size=27648 obj=8.38091 num_tokens=674456 num_tokens/piece=24.3944\n",
      "unigram_model_trainer.cc(505) LOG(INFO) EM sub_iter=0 size=20736 obj=8.49523 num_tokens=716513 num_tokens/piece=34.5541\n",
      "unigram_model_trainer.cc(505) LOG(INFO) EM sub_iter=1 size=20736 obj=8.4754 num_tokens=716599 num_tokens/piece=34.5582\n",
      "unigram_model_trainer.cc(505) LOG(INFO) EM sub_iter=0 size=15552 obj=8.61792 num_tokens=759590 num_tokens/piece=48.8419\n",
      "unigram_model_trainer.cc(505) LOG(INFO) EM sub_iter=1 size=15552 obj=8.59248 num_tokens=759595 num_tokens/piece=48.8423\n",
      "unigram_model_trainer.cc(505) LOG(INFO) EM sub_iter=0 size=11664 obj=8.76425 num_tokens=803230 num_tokens/piece=68.864\n",
      "unigram_model_trainer.cc(505) LOG(INFO) EM sub_iter=1 size=11664 obj=8.73285 num_tokens=803362 num_tokens/piece=68.8753\n",
      "unigram_model_trainer.cc(505) LOG(INFO) EM sub_iter=0 size=8748 obj=8.93773 num_tokens=846741 num_tokens/piece=96.7925\n",
      "unigram_model_trainer.cc(505) LOG(INFO) EM sub_iter=1 size=8748 obj=8.90118 num_tokens=847069 num_tokens/piece=96.83\n",
      "unigram_model_trainer.cc(505) LOG(INFO) EM sub_iter=0 size=6561 obj=9.14167 num_tokens=889380 num_tokens/piece=135.556\n",
      "unigram_model_trainer.cc(505) LOG(INFO) EM sub_iter=1 size=6561 obj=9.09816 num_tokens=889303 num_tokens/piece=135.544\n",
      "unigram_model_trainer.cc(505) LOG(INFO) EM sub_iter=0 size=4920 obj=9.37922 num_tokens=932201 num_tokens/piece=189.472\n",
      "unigram_model_trainer.cc(505) LOG(INFO) EM sub_iter=1 size=4920 obj=9.32694 num_tokens=932420 num_tokens/piece=189.516\n",
      "unigram_model_trainer.cc(505) LOG(INFO) EM sub_iter=0 size=3690 obj=9.65324 num_tokens=975658 num_tokens/piece=264.406\n",
      "unigram_model_trainer.cc(505) LOG(INFO) EM sub_iter=1 size=3690 obj=9.59408 num_tokens=975929 num_tokens/piece=264.479\n",
      "unigram_model_trainer.cc(505) LOG(INFO) EM sub_iter=0 size=2767 obj=9.96073 num_tokens=1019551 num_tokens/piece=368.468\n",
      "unigram_model_trainer.cc(505) LOG(INFO) EM sub_iter=1 size=2767 obj=9.89093 num_tokens=1019782 num_tokens/piece=368.551\n",
      "unigram_model_trainer.cc(505) LOG(INFO) EM sub_iter=0 size=2200 obj=10.2099 num_tokens=1053774 num_tokens/piece=478.988\n",
      "unigram_model_trainer.cc(505) LOG(INFO) EM sub_iter=1 size=2200 obj=10.1491 num_tokens=1053899 num_tokens/piece=479.045\n",
      "trainer_interface.cc(615) LOG(INFO) Saving model: m.model\n",
      "trainer_interface.cc(626) LOG(INFO) Saving vocabs: m.vocab\n"
     ]
    }
   ]
  },
  {
   "cell_type": "markdown",
   "metadata": {
    "id": "ADCaROPe5wAV",
    "pycharm": {
     "name": "#%% md\n"
    }
   },
   "source": [
    "__Word vectors:__ as the saying goes, there's more than one way to train word embeddings. There's Word2Vec and GloVe with different objective functions. Then there's fasttext that uses character-level models to train word embeddings. \n",
    "\n",
    "The choice is huge, so let's start someplace small: __gensim__ is another nlp library that features many vector-based models incuding word2vec."
   ]
  },
  {
   "cell_type": "code",
   "metadata": {
    "collapsed": true,
    "id": "h9Z-uE8O5wAW",
    "executionInfo": {
     "status": "ok",
     "timestamp": 1634753870058,
     "user_tz": -180,
     "elapsed": 47962,
     "user": {
      "displayName": "Alexander Khizhik",
      "photoUrl": "https://lh3.googleusercontent.com/a-/AOh14GjRym6vil42cCu9NA8r90vqp_-M76yAL-4-2sShow=s64",
      "userId": "03036007741070590588"
     }
    },
    "pycharm": {
     "name": "#%%\n"
    }
   },
   "source": [
    "from gensim.models import Word2Vec\n",
    "model = Word2Vec(data_tok, \n",
    "                 size=32,      # embedding vector size\n",
    "                 min_count=5,  # consider words that occured at least 5 times\n",
    "                 window=5).wv  # define context as a 5-word window around the target word"
   ],
   "execution_count": 8,
   "outputs": []
  },
  {
   "cell_type": "code",
   "metadata": {
    "id": "YlEWD-7Z5wAX",
    "colab": {
     "base_uri": "https://localhost:8080/"
    },
    "executionInfo": {
     "status": "ok",
     "timestamp": 1634753870058,
     "user_tz": -180,
     "elapsed": 19,
     "user": {
      "displayName": "Alexander Khizhik",
      "photoUrl": "https://lh3.googleusercontent.com/a-/AOh14GjRym6vil42cCu9NA8r90vqp_-M76yAL-4-2sShow=s64",
      "userId": "03036007741070590588"
     }
    },
    "outputId": "65fb7fe4-dd56-45a3-ce91-d78afabda6c9",
    "pycharm": {
     "name": "#%%\n"
    }
   },
   "source": [
    "# now you can get word vectors !\n",
    "model.get_vector('anything')"
   ],
   "execution_count": 9,
   "outputs": [
    {
     "data": {
      "text/plain": "array([-4.1989713 , -1.3303338 ,  0.19310178,  2.4047678 , -1.9668192 ,\n        2.7374995 , -3.3172853 ,  1.4877782 , -1.263495  ,  1.4115069 ,\n        1.9006865 , -1.1134567 , -1.2269176 , -2.308124  , -3.4694107 ,\n        2.800247  , -1.2610112 , -0.18916573,  3.8263962 ,  0.80165374,\n        0.38998643,  1.0338304 ,  0.61900705, -0.6263777 , -0.5175136 ,\n       -1.8875835 ,  0.04529426, -0.8260792 , -0.16931298,  2.5067732 ,\n       -0.7721683 , -2.6880596 ], dtype=float32)"
     },
     "execution_count": 9,
     "metadata": {},
     "output_type": "execute_result"
    }
   ]
  },
  {
   "cell_type": "code",
   "metadata": {
    "id": "GbNii5-P5wAX",
    "colab": {
     "base_uri": "https://localhost:8080/"
    },
    "executionInfo": {
     "status": "ok",
     "timestamp": 1634753870059,
     "user_tz": -180,
     "elapsed": 8,
     "user": {
      "displayName": "Alexander Khizhik",
      "photoUrl": "https://lh3.googleusercontent.com/a-/AOh14GjRym6vil42cCu9NA8r90vqp_-M76yAL-4-2sShow=s64",
      "userId": "03036007741070590588"
     }
    },
    "outputId": "30d4c8d2-263e-4133-b947-5697025d857e",
    "pycharm": {
     "name": "#%%\n"
    }
   },
   "source": [
    "# or query similar words directly. Go play with it!\n",
    "model.most_similar('bread')"
   ],
   "execution_count": 10,
   "outputs": [
    {
     "data": {
      "text/plain": "[('rice', 0.9528459906578064),\n ('sauce', 0.9305557012557983),\n ('cheese', 0.9292029142379761),\n ('butter', 0.9210901260375977),\n ('grass', 0.9143717288970947),\n ('garlic', 0.9123921394348145),\n ('potatoes', 0.912115752696991),\n ('corn', 0.9111881256103516),\n ('beans', 0.9092556238174438),\n ('cream', 0.9043982028961182)]"
     },
     "execution_count": 10,
     "metadata": {},
     "output_type": "execute_result"
    }
   ]
  },
  {
   "cell_type": "markdown",
   "metadata": {
    "id": "EhpS8N-q5wAY",
    "pycharm": {
     "name": "#%% md\n"
    }
   },
   "source": [
    "### Using pre-trained model\n",
    "\n",
    "Took it a while, huh? Now imagine training life-sized (100~300D) word embeddings on gigabytes of text: wikipedia articles or twitter posts. \n",
    "\n",
    "Thankfully, nowadays you can get a pre-trained word embedding model in 2 lines of code (no sms required, promise)."
   ]
  },
  {
   "cell_type": "code",
   "metadata": {
    "collapsed": true,
    "id": "ieulGqaY5wAZ",
    "colab": {
     "base_uri": "https://localhost:8080/"
    },
    "executionInfo": {
     "status": "ok",
     "timestamp": 1634754165161,
     "user_tz": -180,
     "elapsed": 295106,
     "user": {
      "displayName": "Alexander Khizhik",
      "photoUrl": "https://lh3.googleusercontent.com/a-/AOh14GjRym6vil42cCu9NA8r90vqp_-M76yAL-4-2sShow=s64",
      "userId": "03036007741070590588"
     }
    },
    "outputId": "92bdfaaa-3494-4d5d-fabe-1fbd6382457f",
    "pycharm": {
     "name": "#%%\n"
    }
   },
   "source": [
    "import gensim.downloader as api\n",
    "model = api.load('glove-twitter-100')"
   ],
   "execution_count": 11,
   "outputs": []
  },
  {
   "cell_type": "code",
   "metadata": {
    "id": "E1v1Qb1W5wAa",
    "colab": {
     "base_uri": "https://localhost:8080/"
    },
    "executionInfo": {
     "status": "ok",
     "timestamp": 1634754166084,
     "user_tz": -180,
     "elapsed": 927,
     "user": {
      "displayName": "Alexander Khizhik",
      "photoUrl": "https://lh3.googleusercontent.com/a-/AOh14GjRym6vil42cCu9NA8r90vqp_-M76yAL-4-2sShow=s64",
      "userId": "03036007741070590588"
     }
    },
    "outputId": "cfce80e2-92d5-4f89-ff50-05c1d7a9b505",
    "pycharm": {
     "name": "#%%\n"
    }
   },
   "source": [
    "model.most_similar(positive=[\"coder\", \"money\"], negative=[\"brain\"])"
   ],
   "execution_count": 12,
   "outputs": [
    {
     "data": {
      "text/plain": "[('broker', 0.5820155143737793),\n ('bonuses', 0.5424473285675049),\n ('banker', 0.5385112762451172),\n ('designer', 0.5197198390960693),\n ('merchandising', 0.4964233338832855),\n ('treet', 0.49220192432403564),\n ('shopper', 0.4920561909675598),\n ('part-time', 0.49128279089927673),\n ('freelance', 0.4843312203884125),\n ('aupair', 0.4796452522277832)]"
     },
     "execution_count": 12,
     "metadata": {},
     "output_type": "execute_result"
    }
   ]
  },
  {
   "cell_type": "markdown",
   "metadata": {
    "id": "X8-3gXQm5wAc",
    "pycharm": {
     "name": "#%% md\n"
    }
   },
   "source": [
    "### Visualizing word vectors\n",
    "\n",
    "One way to see if our vectors are any good is to plot them. Thing is, those vectors are in 30D+ space and we humans are more used to 2-3D.\n",
    "\n",
    "Luckily, we machine learners know about __dimensionality reduction__ methods.\n",
    "\n",
    "Let's use that to plot 1000 most frequent words"
   ]
  },
  {
   "cell_type": "code",
   "metadata": {
    "id": "IsL98QlS5wAc",
    "colab": {
     "base_uri": "https://localhost:8080/"
    },
    "executionInfo": {
     "status": "ok",
     "timestamp": 1634754166808,
     "user_tz": -180,
     "elapsed": 725,
     "user": {
      "displayName": "Alexander Khizhik",
      "photoUrl": "https://lh3.googleusercontent.com/a-/AOh14GjRym6vil42cCu9NA8r90vqp_-M76yAL-4-2sShow=s64",
      "userId": "03036007741070590588"
     }
    },
    "outputId": "8c1de167-7c15-465c-b46f-ca92b704f6f3",
    "pycharm": {
     "name": "#%%\n"
    }
   },
   "source": [
    "words = sorted(model.vocab.keys(), \n",
    "               key=lambda word: model.vocab[word].count,\n",
    "               reverse=True)[:1000]\n",
    "\n",
    "print(words[::100])"
   ],
   "execution_count": 13,
   "outputs": [
    {
     "name": "stdout",
     "output_type": "stream",
     "text": [
      "['<user>', '_', 'please', 'apa', 'justin', 'text', 'hari', 'playing', 'once', 'sei']\n"
     ]
    }
   ]
  },
  {
   "cell_type": "code",
   "metadata": {
    "id": "YpF4fWlK5wAc",
    "executionInfo": {
     "status": "ok",
     "timestamp": 1634754783093,
     "user_tz": -180,
     "elapsed": 3,
     "user": {
      "displayName": "Alexander Khizhik",
      "photoUrl": "https://lh3.googleusercontent.com/a-/AOh14GjRym6vil42cCu9NA8r90vqp_-M76yAL-4-2sShow=s64",
      "userId": "03036007741070590588"
     }
    },
    "pycharm": {
     "name": "#%%\n"
    }
   },
   "source": [
    "# for each word, compute it's vector with model\n",
    "word_vectors = np.stack([model.get_vector(w) for w in words])"
   ],
   "execution_count": 14,
   "outputs": []
  },
  {
   "cell_type": "code",
   "metadata": {
    "collapsed": true,
    "id": "uKTv2y8D5wAd",
    "executionInfo": {
     "status": "ok",
     "timestamp": 1634754783093,
     "user_tz": -180,
     "elapsed": 2,
     "user": {
      "displayName": "Alexander Khizhik",
      "photoUrl": "https://lh3.googleusercontent.com/a-/AOh14GjRym6vil42cCu9NA8r90vqp_-M76yAL-4-2sShow=s64",
      "userId": "03036007741070590588"
     }
    },
    "pycharm": {
     "name": "#%%\n"
    }
   },
   "source": [
    "assert isinstance(word_vectors, np.ndarray)\n",
    "assert word_vectors.shape == (len(words), 100)\n",
    "assert np.isfinite(word_vectors).all()"
   ],
   "execution_count": 15,
   "outputs": []
  },
  {
   "cell_type": "markdown",
   "metadata": {
    "id": "bX_vWl9x5wAd",
    "pycharm": {
     "name": "#%% md\n"
    }
   },
   "source": [
    "#### Linear projection: PCA\n",
    "\n",
    "The simplest linear dimensionality reduction method is __P__rincipial __C__omponent __A__nalysis.\n",
    "\n",
    "In geometric terms, PCA tries to find axes along which most of the variance occurs. The \"natural\" axes, if you wish.\n",
    "\n",
    "<img src=\"https://github.com/yandexdataschool/Practical_RL/raw/master/yet_another_week/_resource/pca_fish.png\" style=\"width:30%\">\n",
    "\n",
    "\n",
    "Under the hood, it attempts to decompose object-feature matrix $X$ into two smaller matrices: $W$ and $\\hat W$ minimizing _mean squared error_:\n",
    "\n",
    "$$\\|(X W) \\hat{W} - X\\|^2_2 \\to_{W, \\hat{W}} \\min$$\n",
    "- $X \\in \\mathbb{R}^{n \\times m}$ - object matrix (**centered**);\n",
    "- $W \\in \\mathbb{R}^{m \\times d}$ - matrix of direct transformation;\n",
    "- $\\hat{W} \\in \\mathbb{R}^{d \\times m}$ - matrix of reverse transformation;\n",
    "- $n$ samples, $m$ original dimensions and $d$ target dimensions;\n",
    "\n"
   ]
  },
  {
   "cell_type": "code",
   "metadata": {
    "collapsed": true,
    "id": "Ck22AkMU5wAd",
    "executionInfo": {
     "status": "ok",
     "timestamp": 1634754972797,
     "user_tz": -180,
     "elapsed": 310,
     "user": {
      "displayName": "Alexander Khizhik",
      "photoUrl": "https://lh3.googleusercontent.com/a-/AOh14GjRym6vil42cCu9NA8r90vqp_-M76yAL-4-2sShow=s64",
      "userId": "03036007741070590588"
     }
    },
    "pycharm": {
     "name": "#%%\n"
    }
   },
   "source": [
    "from sklearn.decomposition import PCA\n",
    "\n",
    "# map word vectors onto 2d plane with PCA. Use good old sklearn api (fit, transform)\n",
    "# after that, normalize vectors to make sure they have zero mean and unit variance\n",
    "word_vectors_pca = PCA(n_components=2).fit_transform(word_vectors)\n",
    "\n",
    "word_vectors_pca -= word_vectors_pca.mean(axis=0, keepdims=True)\n",
    "word_vectors_pca /= word_vectors_pca.std(axis=0, keepdims=True)"
   ],
   "execution_count": 16,
   "outputs": []
  },
  {
   "cell_type": "code",
   "metadata": {
    "collapsed": true,
    "id": "VUq9sp6t5wAd",
    "executionInfo": {
     "status": "ok",
     "timestamp": 1634754973059,
     "user_tz": -180,
     "elapsed": 2,
     "user": {
      "displayName": "Alexander Khizhik",
      "photoUrl": "https://lh3.googleusercontent.com/a-/AOh14GjRym6vil42cCu9NA8r90vqp_-M76yAL-4-2sShow=s64",
      "userId": "03036007741070590588"
     }
    },
    "pycharm": {
     "name": "#%%\n"
    }
   },
   "source": [
    "assert word_vectors_pca.shape == (len(word_vectors), 2), \"there must be a 2d vector for each word\"\n",
    "assert max(abs(word_vectors_pca.mean(0))) < 1e-5, \"points must be zero-centered\"\n",
    "assert max(abs(1.0 - word_vectors_pca.std(0))) < 1e-2, \"points must have unit variance\""
   ],
   "execution_count": 17,
   "outputs": []
  },
  {
   "cell_type": "markdown",
   "metadata": {
    "id": "fo1h2G0x5wAe",
    "pycharm": {
     "name": "#%% md\n"
    }
   },
   "source": [
    "#### Let's draw it!"
   ]
  },
  {
   "cell_type": "code",
   "metadata": {
    "id": "fLeutNHx_lQC",
    "executionInfo": {
     "status": "ok",
     "timestamp": 1634757401624,
     "user_tz": -180,
     "elapsed": 350,
     "user": {
      "displayName": "Alexander Khizhik",
      "photoUrl": "https://lh3.googleusercontent.com/a-/AOh14GjRym6vil42cCu9NA8r90vqp_-M76yAL-4-2sShow=s64",
      "userId": "03036007741070590588"
     }
    },
    "pycharm": {
     "name": "#%%\n"
    }
   },
   "source": [
    "import bokeh.models as bm\n",
    "import bokeh.plotting as pl\n",
    "from bokeh.io import output_notebook, output_file, reset_output\n",
    "reset_output()\n",
    "output_file('./demo.html')\n",
    "output_notebook()"
   ],
   "execution_count": 18,
   "outputs": [
    {
     "data": {
      "text/html": "\n    <div class=\"bk-root\">\n        <a href=\"https://bokeh.org\" target=\"_blank\" class=\"bk-logo bk-logo-small bk-logo-notebook\"></a>\n        <span id=\"1002\">Loading BokehJS ...</span>\n    </div>"
     },
     "metadata": {},
     "output_type": "display_data"
    },
    {
     "data": {
      "application/javascript": "\n(function(root) {\n  function now() {\n    return new Date();\n  }\n\n  const force = true;\n\n  if (typeof root._bokeh_onload_callbacks === \"undefined\" || force === true) {\n    root._bokeh_onload_callbacks = [];\n    root._bokeh_is_loading = undefined;\n  }\n\n  const JS_MIME_TYPE = 'application/javascript';\n  const HTML_MIME_TYPE = 'text/html';\n  const EXEC_MIME_TYPE = 'application/vnd.bokehjs_exec.v0+json';\n  const CLASS_NAME = 'output_bokeh rendered_html';\n\n  /**\n   * Render data to the DOM node\n   */\n  function render(props, node) {\n    const script = document.createElement(\"script\");\n    node.appendChild(script);\n  }\n\n  /**\n   * Handle when an output is cleared or removed\n   */\n  function handleClearOutput(event, handle) {\n    const cell = handle.cell;\n\n    const id = cell.output_area._bokeh_element_id;\n    const server_id = cell.output_area._bokeh_server_id;\n    // Clean up Bokeh references\n    if (id != null && id in Bokeh.index) {\n      Bokeh.index[id].model.document.clear();\n      delete Bokeh.index[id];\n    }\n\n    if (server_id !== undefined) {\n      // Clean up Bokeh references\n      const cmd_clean = \"from bokeh.io.state import curstate; print(curstate().uuid_to_server['\" + server_id + \"'].get_sessions()[0].document.roots[0]._id)\";\n      cell.notebook.kernel.execute(cmd_clean, {\n        iopub: {\n          output: function(msg) {\n            const id = msg.content.text.trim();\n            if (id in Bokeh.index) {\n              Bokeh.index[id].model.document.clear();\n              delete Bokeh.index[id];\n            }\n          }\n        }\n      });\n      // Destroy server and session\n      const cmd_destroy = \"import bokeh.io.notebook as ion; ion.destroy_server('\" + server_id + \"')\";\n      cell.notebook.kernel.execute(cmd_destroy);\n    }\n  }\n\n  /**\n   * Handle when a new output is added\n   */\n  function handleAddOutput(event, handle) {\n    const output_area = handle.output_area;\n    const output = handle.output;\n\n    // limit handleAddOutput to display_data with EXEC_MIME_TYPE content only\n    if ((output.output_type != \"display_data\") || (!Object.prototype.hasOwnProperty.call(output.data, EXEC_MIME_TYPE))) {\n      return\n    }\n\n    const toinsert = output_area.element.find(\".\" + CLASS_NAME.split(' ')[0]);\n\n    if (output.metadata[EXEC_MIME_TYPE][\"id\"] !== undefined) {\n      toinsert[toinsert.length - 1].firstChild.textContent = output.data[JS_MIME_TYPE];\n      // store reference to embed id on output_area\n      output_area._bokeh_element_id = output.metadata[EXEC_MIME_TYPE][\"id\"];\n    }\n    if (output.metadata[EXEC_MIME_TYPE][\"server_id\"] !== undefined) {\n      const bk_div = document.createElement(\"div\");\n      bk_div.innerHTML = output.data[HTML_MIME_TYPE];\n      const script_attrs = bk_div.children[0].attributes;\n      for (let i = 0; i < script_attrs.length; i++) {\n        toinsert[toinsert.length - 1].firstChild.setAttribute(script_attrs[i].name, script_attrs[i].value);\n        toinsert[toinsert.length - 1].firstChild.textContent = bk_div.children[0].textContent\n      }\n      // store reference to server id on output_area\n      output_area._bokeh_server_id = output.metadata[EXEC_MIME_TYPE][\"server_id\"];\n    }\n  }\n\n  function register_renderer(events, OutputArea) {\n\n    function append_mime(data, metadata, element) {\n      // create a DOM node to render to\n      const toinsert = this.create_output_subarea(\n        metadata,\n        CLASS_NAME,\n        EXEC_MIME_TYPE\n      );\n      this.keyboard_manager.register_events(toinsert);\n      // Render to node\n      const props = {data: data, metadata: metadata[EXEC_MIME_TYPE]};\n      render(props, toinsert[toinsert.length - 1]);\n      element.append(toinsert);\n      return toinsert\n    }\n\n    /* Handle when an output is cleared or removed */\n    events.on('clear_output.CodeCell', handleClearOutput);\n    events.on('delete.Cell', handleClearOutput);\n\n    /* Handle when a new output is added */\n    events.on('output_added.OutputArea', handleAddOutput);\n\n    /**\n     * Register the mime type and append_mime function with output_area\n     */\n    OutputArea.prototype.register_mime_type(EXEC_MIME_TYPE, append_mime, {\n      /* Is output safe? */\n      safe: true,\n      /* Index of renderer in `output_area.display_order` */\n      index: 0\n    });\n  }\n\n  // register the mime type if in Jupyter Notebook environment and previously unregistered\n  if (root.Jupyter !== undefined) {\n    const events = require('base/js/events');\n    const OutputArea = require('notebook/js/outputarea').OutputArea;\n\n    if (OutputArea.prototype.mime_types().indexOf(EXEC_MIME_TYPE) == -1) {\n      register_renderer(events, OutputArea);\n    }\n  }\n\n  \n  if (typeof (root._bokeh_timeout) === \"undefined\" || force === true) {\n    root._bokeh_timeout = Date.now() + 5000;\n    root._bokeh_failed_load = false;\n  }\n\n  const NB_LOAD_WARNING = {'data': {'text/html':\n     \"<div style='background-color: #fdd'>\\n\"+\n     \"<p>\\n\"+\n     \"BokehJS does not appear to have successfully loaded. If loading BokehJS from CDN, this \\n\"+\n     \"may be due to a slow or bad network connection. Possible fixes:\\n\"+\n     \"</p>\\n\"+\n     \"<ul>\\n\"+\n     \"<li>re-rerun `output_notebook()` to attempt to load from CDN again, or</li>\\n\"+\n     \"<li>use INLINE resources instead, as so:</li>\\n\"+\n     \"</ul>\\n\"+\n     \"<code>\\n\"+\n     \"from bokeh.resources import INLINE\\n\"+\n     \"output_notebook(resources=INLINE)\\n\"+\n     \"</code>\\n\"+\n     \"</div>\"}};\n\n  function display_loaded() {\n    const el = document.getElementById(\"1002\");\n    if (el != null) {\n      el.textContent = \"BokehJS is loading...\";\n    }\n    if (root.Bokeh !== undefined) {\n      if (el != null) {\n        el.textContent = \"BokehJS \" + root.Bokeh.version + \" successfully loaded.\";\n      }\n    } else if (Date.now() < root._bokeh_timeout) {\n      setTimeout(display_loaded, 100)\n    }\n  }\n\n\n  function run_callbacks() {\n    try {\n      root._bokeh_onload_callbacks.forEach(function(callback) {\n        if (callback != null)\n          callback();\n      });\n    } finally {\n      delete root._bokeh_onload_callbacks\n    }\n    console.debug(\"Bokeh: all callbacks have finished\");\n  }\n\n  function load_libs(css_urls, js_urls, callback) {\n    if (css_urls == null) css_urls = [];\n    if (js_urls == null) js_urls = [];\n\n    root._bokeh_onload_callbacks.push(callback);\n    if (root._bokeh_is_loading > 0) {\n      console.debug(\"Bokeh: BokehJS is being loaded, scheduling callback at\", now());\n      return null;\n    }\n    if (js_urls == null || js_urls.length === 0) {\n      run_callbacks();\n      return null;\n    }\n    console.debug(\"Bokeh: BokehJS not loaded, scheduling load and callback at\", now());\n    root._bokeh_is_loading = css_urls.length + js_urls.length;\n\n    function on_load() {\n      root._bokeh_is_loading--;\n      if (root._bokeh_is_loading === 0) {\n        console.debug(\"Bokeh: all BokehJS libraries/stylesheets loaded\");\n        run_callbacks()\n      }\n    }\n\n    function on_error(url) {\n      console.error(\"failed to load \" + url);\n    }\n\n    for (let i = 0; i < css_urls.length; i++) {\n      const url = css_urls[i];\n      const element = document.createElement(\"link\");\n      element.onload = on_load;\n      element.onerror = on_error.bind(null, url);\n      element.rel = \"stylesheet\";\n      element.type = \"text/css\";\n      element.href = url;\n      console.debug(\"Bokeh: injecting link tag for BokehJS stylesheet: \", url);\n      document.body.appendChild(element);\n    }\n\n    for (let i = 0; i < js_urls.length; i++) {\n      const url = js_urls[i];\n      const element = document.createElement('script');\n      element.onload = on_load;\n      element.onerror = on_error.bind(null, url);\n      element.async = false;\n      element.src = url;\n      console.debug(\"Bokeh: injecting script tag for BokehJS library: \", url);\n      document.head.appendChild(element);\n    }\n  };\n\n  function inject_raw_css(css) {\n    const element = document.createElement(\"style\");\n    element.appendChild(document.createTextNode(css));\n    document.body.appendChild(element);\n  }\n\n  \n  const js_urls = [\"https://cdn.bokeh.org/bokeh/release/bokeh-2.4.1.min.js\", \"https://cdn.bokeh.org/bokeh/release/bokeh-gl-2.4.1.min.js\", \"https://cdn.bokeh.org/bokeh/release/bokeh-widgets-2.4.1.min.js\", \"https://cdn.bokeh.org/bokeh/release/bokeh-tables-2.4.1.min.js\", \"https://cdn.bokeh.org/bokeh/release/bokeh-mathjax-2.4.1.min.js\"];\n  const css_urls = [];\n  \n\n  const inline_js = [\n    function(Bokeh) {\n      Bokeh.set_log_level(\"info\");\n    },\n    function(Bokeh) {\n    \n    \n    }\n  ];\n\n  function run_inline_js() {\n    \n    if (root.Bokeh !== undefined || force === true) {\n      \n    for (let i = 0; i < inline_js.length; i++) {\n      inline_js[i].call(root, root.Bokeh);\n    }\n    if (force === true) {\n        display_loaded();\n      }} else if (Date.now() < root._bokeh_timeout) {\n      setTimeout(run_inline_js, 100);\n    } else if (!root._bokeh_failed_load) {\n      console.log(\"Bokeh: BokehJS failed to load within specified timeout.\");\n      root._bokeh_failed_load = true;\n    } else if (force !== true) {\n      const cell = $(document.getElementById(\"1002\")).parents('.cell').data().cell;\n      cell.output_area.append_execute_result(NB_LOAD_WARNING)\n    }\n\n  }\n\n  if (root._bokeh_is_loading === 0) {\n    console.debug(\"Bokeh: BokehJS loaded, going straight to plotting\");\n    run_inline_js();\n  } else {\n    load_libs(css_urls, js_urls, function() {\n      console.debug(\"Bokeh: BokehJS plotting callback run at\", now());\n      run_inline_js();\n    });\n  }\n}(window));",
      "application/vnd.bokehjs_load.v0+json": "\n(function(root) {\n  function now() {\n    return new Date();\n  }\n\n  const force = true;\n\n  if (typeof root._bokeh_onload_callbacks === \"undefined\" || force === true) {\n    root._bokeh_onload_callbacks = [];\n    root._bokeh_is_loading = undefined;\n  }\n\n  \n\n  \n  if (typeof (root._bokeh_timeout) === \"undefined\" || force === true) {\n    root._bokeh_timeout = Date.now() + 5000;\n    root._bokeh_failed_load = false;\n  }\n\n  const NB_LOAD_WARNING = {'data': {'text/html':\n     \"<div style='background-color: #fdd'>\\n\"+\n     \"<p>\\n\"+\n     \"BokehJS does not appear to have successfully loaded. If loading BokehJS from CDN, this \\n\"+\n     \"may be due to a slow or bad network connection. Possible fixes:\\n\"+\n     \"</p>\\n\"+\n     \"<ul>\\n\"+\n     \"<li>re-rerun `output_notebook()` to attempt to load from CDN again, or</li>\\n\"+\n     \"<li>use INLINE resources instead, as so:</li>\\n\"+\n     \"</ul>\\n\"+\n     \"<code>\\n\"+\n     \"from bokeh.resources import INLINE\\n\"+\n     \"output_notebook(resources=INLINE)\\n\"+\n     \"</code>\\n\"+\n     \"</div>\"}};\n\n  function display_loaded() {\n    const el = document.getElementById(\"1002\");\n    if (el != null) {\n      el.textContent = \"BokehJS is loading...\";\n    }\n    if (root.Bokeh !== undefined) {\n      if (el != null) {\n        el.textContent = \"BokehJS \" + root.Bokeh.version + \" successfully loaded.\";\n      }\n    } else if (Date.now() < root._bokeh_timeout) {\n      setTimeout(display_loaded, 100)\n    }\n  }\n\n\n  function run_callbacks() {\n    try {\n      root._bokeh_onload_callbacks.forEach(function(callback) {\n        if (callback != null)\n          callback();\n      });\n    } finally {\n      delete root._bokeh_onload_callbacks\n    }\n    console.debug(\"Bokeh: all callbacks have finished\");\n  }\n\n  function load_libs(css_urls, js_urls, callback) {\n    if (css_urls == null) css_urls = [];\n    if (js_urls == null) js_urls = [];\n\n    root._bokeh_onload_callbacks.push(callback);\n    if (root._bokeh_is_loading > 0) {\n      console.debug(\"Bokeh: BokehJS is being loaded, scheduling callback at\", now());\n      return null;\n    }\n    if (js_urls == null || js_urls.length === 0) {\n      run_callbacks();\n      return null;\n    }\n    console.debug(\"Bokeh: BokehJS not loaded, scheduling load and callback at\", now());\n    root._bokeh_is_loading = css_urls.length + js_urls.length;\n\n    function on_load() {\n      root._bokeh_is_loading--;\n      if (root._bokeh_is_loading === 0) {\n        console.debug(\"Bokeh: all BokehJS libraries/stylesheets loaded\");\n        run_callbacks()\n      }\n    }\n\n    function on_error(url) {\n      console.error(\"failed to load \" + url);\n    }\n\n    for (let i = 0; i < css_urls.length; i++) {\n      const url = css_urls[i];\n      const element = document.createElement(\"link\");\n      element.onload = on_load;\n      element.onerror = on_error.bind(null, url);\n      element.rel = \"stylesheet\";\n      element.type = \"text/css\";\n      element.href = url;\n      console.debug(\"Bokeh: injecting link tag for BokehJS stylesheet: \", url);\n      document.body.appendChild(element);\n    }\n\n    for (let i = 0; i < js_urls.length; i++) {\n      const url = js_urls[i];\n      const element = document.createElement('script');\n      element.onload = on_load;\n      element.onerror = on_error.bind(null, url);\n      element.async = false;\n      element.src = url;\n      console.debug(\"Bokeh: injecting script tag for BokehJS library: \", url);\n      document.head.appendChild(element);\n    }\n  };\n\n  function inject_raw_css(css) {\n    const element = document.createElement(\"style\");\n    element.appendChild(document.createTextNode(css));\n    document.body.appendChild(element);\n  }\n\n  \n  const js_urls = [\"https://cdn.bokeh.org/bokeh/release/bokeh-2.4.1.min.js\", \"https://cdn.bokeh.org/bokeh/release/bokeh-gl-2.4.1.min.js\", \"https://cdn.bokeh.org/bokeh/release/bokeh-widgets-2.4.1.min.js\", \"https://cdn.bokeh.org/bokeh/release/bokeh-tables-2.4.1.min.js\", \"https://cdn.bokeh.org/bokeh/release/bokeh-mathjax-2.4.1.min.js\"];\n  const css_urls = [];\n  \n\n  const inline_js = [\n    function(Bokeh) {\n      Bokeh.set_log_level(\"info\");\n    },\n    function(Bokeh) {\n    \n    \n    }\n  ];\n\n  function run_inline_js() {\n    \n    if (root.Bokeh !== undefined || force === true) {\n      \n    for (let i = 0; i < inline_js.length; i++) {\n      inline_js[i].call(root, root.Bokeh);\n    }\n    if (force === true) {\n        display_loaded();\n      }} else if (Date.now() < root._bokeh_timeout) {\n      setTimeout(run_inline_js, 100);\n    } else if (!root._bokeh_failed_load) {\n      console.log(\"Bokeh: BokehJS failed to load within specified timeout.\");\n      root._bokeh_failed_load = true;\n    } else if (force !== true) {\n      const cell = $(document.getElementById(\"1002\")).parents('.cell').data().cell;\n      cell.output_area.append_execute_result(NB_LOAD_WARNING)\n    }\n\n  }\n\n  if (root._bokeh_is_loading === 0) {\n    console.debug(\"Bokeh: BokehJS loaded, going straight to plotting\");\n    run_inline_js();\n  } else {\n    load_libs(css_urls, js_urls, function() {\n      console.debug(\"Bokeh: BokehJS plotting callback run at\", now());\n      run_inline_js();\n    });\n  }\n}(window));"
     },
     "metadata": {},
     "output_type": "display_data"
    }
   ]
  },
  {
   "cell_type": "code",
   "execution_count": 19,
   "outputs": [],
   "source": [
    "def draw_vectors(x, y, radius=10, alpha=0.25, color='blue',\n",
    "                 width=600, height=400, show=True, **kwargs):\n",
    "    \"\"\" draws an interactive plot for data points with auxilirary info on hover \"\"\"\n",
    "    if isinstance(color, str): color = [color] * len(x)\n",
    "    data_source = bm.ColumnDataSource({ 'x' : x, 'y' : y, 'color': color, **kwargs })\n",
    "\n",
    "    fig = pl.figure(active_scroll='wheel_zoom', width=width, height=height)\n",
    "    fig.scatter('x', 'y', size=radius, color='color', alpha=alpha, source=data_source)\n",
    "\n",
    "    fig.add_tools(bm.HoverTool(tooltips=[(key, \"@\" + key) for key in kwargs.keys()]))\n",
    "    if show: pl.show(fig)\n",
    "    return fig"
   ],
   "metadata": {
    "collapsed": false,
    "pycharm": {
     "name": "#%%\n"
    }
   }
  },
  {
   "cell_type": "code",
   "metadata": {
    "id": "c-AJrbQs5wAe",
    "colab": {
     "base_uri": "https://localhost:8080/",
     "height": 434
    },
    "executionInfo": {
     "status": "ok",
     "timestamp": 1634757404153,
     "user_tz": -180,
     "elapsed": 351,
     "user": {
      "displayName": "Alexander Khizhik",
      "photoUrl": "https://lh3.googleusercontent.com/a-/AOh14GjRym6vil42cCu9NA8r90vqp_-M76yAL-4-2sShow=s64",
      "userId": "03036007741070590588"
     }
    },
    "outputId": "98adefb8-4a28-440c-9f95-db00cbd37620",
    "pycharm": {
     "name": "#%%\n"
    }
   },
   "source": [
    "_ = draw_vectors(word_vectors_pca[:, 0], word_vectors_pca[:, 1], token=words)\n",
    "# hover a mouse over there and see if you can identify the clusters"
   ],
   "execution_count": 20,
   "outputs": [
    {
     "data": {
      "text/html": "\n\n\n\n\n\n  <div class=\"bk-root\" id=\"baec43d5-7286-4836-8864-c2f9bf807d75\" data-root-id=\"1004\"></div>\n"
     },
     "metadata": {},
     "output_type": "display_data"
    },
    {
     "data": {
      "application/javascript": "(function(root) {\n  function embed_document(root) {\n    \n  const docs_json = {\"78578461-d1b3-4102-8d45-dcbc8e882f50\":{\"defs\":[],\"roots\":{\"references\":[{\"attributes\":{\"below\":[{\"id\":\"1013\"}],\"center\":[{\"id\":\"1016\"},{\"id\":\"1020\"}],\"height\":400,\"left\":[{\"id\":\"1017\"}],\"renderers\":[{\"id\":\"1039\"}],\"title\":{\"id\":\"1043\"},\"toolbar\":{\"id\":\"1028\"},\"x_range\":{\"id\":\"1005\"},\"x_scale\":{\"id\":\"1009\"},\"y_range\":{\"id\":\"1007\"},\"y_scale\":{\"id\":\"1011\"}},\"id\":\"1004\",\"subtype\":\"Figure\",\"type\":\"Plot\"},{\"attributes\":{},\"id\":\"1005\",\"type\":\"DataRange1d\"},{\"attributes\":{\"axis\":{\"id\":\"1013\"},\"coordinates\":null,\"group\":null,\"ticker\":null},\"id\":\"1016\",\"type\":\"Grid\"},{\"attributes\":{},\"id\":\"1009\",\"type\":\"LinearScale\"},{\"attributes\":{},\"id\":\"1011\",\"type\":\"LinearScale\"},{\"attributes\":{\"fill_alpha\":{\"value\":0.25},\"fill_color\":{\"field\":\"color\"},\"hatch_alpha\":{\"value\":0.25},\"hatch_color\":{\"field\":\"color\"},\"line_alpha\":{\"value\":0.25},\"line_color\":{\"field\":\"color\"},\"size\":{\"value\":10},\"x\":{\"field\":\"x\"},\"y\":{\"field\":\"y\"}},\"id\":\"1036\",\"type\":\"Scatter\"},{\"attributes\":{},\"id\":\"1014\",\"type\":\"BasicTicker\"},{\"attributes\":{\"coordinates\":null,\"formatter\":{\"id\":\"1046\"},\"group\":null,\"major_label_policy\":{\"id\":\"1047\"},\"ticker\":{\"id\":\"1018\"}},\"id\":\"1017\",\"type\":\"LinearAxis\"},{\"attributes\":{\"coordinates\":null,\"data_source\":{\"id\":\"1003\"},\"glyph\":{\"id\":\"1036\"},\"group\":null,\"hover_glyph\":null,\"muted_glyph\":{\"id\":\"1038\"},\"nonselection_glyph\":{\"id\":\"1037\"},\"view\":{\"id\":\"1040\"}},\"id\":\"1039\",\"type\":\"GlyphRenderer\"},{\"attributes\":{\"axis\":{\"id\":\"1017\"},\"coordinates\":null,\"dimension\":1,\"group\":null,\"ticker\":null},\"id\":\"1020\",\"type\":\"Grid\"},{\"attributes\":{\"overlay\":{\"id\":\"1027\"}},\"id\":\"1023\",\"type\":\"BoxZoomTool\"},{\"attributes\":{\"bottom_units\":\"screen\",\"coordinates\":null,\"fill_alpha\":0.5,\"fill_color\":\"lightgrey\",\"group\":null,\"left_units\":\"screen\",\"level\":\"overlay\",\"line_alpha\":1.0,\"line_color\":\"black\",\"line_dash\":[4,4],\"line_width\":2,\"right_units\":\"screen\",\"syncable\":false,\"top_units\":\"screen\"},\"id\":\"1027\",\"type\":\"BoxAnnotation\"},{\"attributes\":{},\"id\":\"1018\",\"type\":\"BasicTicker\"},{\"attributes\":{},\"id\":\"1051\",\"type\":\"UnionRenderers\"},{\"attributes\":{\"data\":{\"color\":[\"blue\",\"blue\",\"blue\",\"blue\",\"blue\",\"blue\",\"blue\",\"blue\",\"blue\",\"blue\",\"blue\",\"blue\",\"blue\",\"blue\",\"blue\",\"blue\",\"blue\",\"blue\",\"blue\",\"blue\",\"blue\",\"blue\",\"blue\",\"blue\",\"blue\",\"blue\",\"blue\",\"blue\",\"blue\",\"blue\",\"blue\",\"blue\",\"blue\",\"blue\",\"blue\",\"blue\",\"blue\",\"blue\",\"blue\",\"blue\",\"blue\",\"blue\",\"blue\",\"blue\",\"blue\",\"blue\",\"blue\",\"blue\",\"blue\",\"blue\",\"blue\",\"blue\",\"blue\",\"blue\",\"blue\",\"blue\",\"blue\",\"blue\",\"blue\",\"blue\",\"blue\",\"blue\",\"blue\",\"blue\",\"blue\",\"blue\",\"blue\",\"blue\",\"blue\",\"blue\",\"blue\",\"blue\",\"blue\",\"blue\",\"blue\",\"blue\",\"blue\",\"blue\",\"blue\",\"blue\",\"blue\",\"blue\",\"blue\",\"blue\",\"blue\",\"blue\",\"blue\",\"blue\",\"blue\",\"blue\",\"blue\",\"blue\",\"blue\",\"blue\",\"blue\",\"blue\",\"blue\",\"blue\",\"blue\",\"blue\",\"blue\",\"blue\",\"blue\",\"blue\",\"blue\",\"blue\",\"blue\",\"blue\",\"blue\",\"blue\",\"blue\",\"blue\",\"blue\",\"blue\",\"blue\",\"blue\",\"blue\",\"blue\",\"blue\",\"blue\",\"blue\",\"blue\",\"blue\",\"blue\",\"blue\",\"blue\",\"blue\",\"blue\",\"blue\",\"blue\",\"blue\",\"blue\",\"blue\",\"blue\",\"blue\",\"blue\",\"blue\",\"blue\",\"blue\",\"blue\",\"blue\",\"blue\",\"blue\",\"blue\",\"blue\",\"blue\",\"blue\",\"blue\",\"blue\",\"blue\",\"blue\",\"blue\",\"blue\",\"blue\",\"blue\",\"blue\",\"blue\",\"blue\",\"blue\",\"blue\",\"blue\",\"blue\",\"blue\",\"blue\",\"blue\",\"blue\",\"blue\",\"blue\",\"blue\",\"blue\",\"blue\",\"blue\",\"blue\",\"blue\",\"blue\",\"blue\",\"blue\",\"blue\",\"blue\",\"blue\",\"blue\",\"blue\",\"blue\",\"blue\",\"blue\",\"blue\",\"blue\",\"blue\",\"blue\",\"blue\",\"blue\",\"blue\",\"blue\",\"blue\",\"blue\",\"blue\",\"blue\",\"blue\",\"blue\",\"blue\",\"blue\",\"blue\",\"blue\",\"blue\",\"blue\",\"blue\",\"blue\",\"blue\",\"blue\",\"blue\",\"blue\",\"blue\",\"blue\",\"blue\",\"blue\",\"blue\",\"blue\",\"blue\",\"blue\",\"blue\",\"blue\",\"blue\",\"blue\",\"blue\",\"blue\",\"blue\",\"blue\",\"blue\",\"blue\",\"blue\",\"blue\",\"blue\",\"blue\",\"blue\",\"blue\",\"blue\",\"blue\",\"blue\",\"blue\",\"blue\",\"blue\",\"blue\",\"blue\",\"blue\",\"blue\",\"blue\",\"blue\",\"blue\",\"blue\",\"blue\",\"blue\",\"blue\",\"blue\",\"blue\",\"blue\",\"blue\",\"blue\",\"blue\",\"blue\",\"blue\",\"blue\",\"blue\",\"blue\",\"blue\",\"blue\",\"blue\",\"blue\",\"blue\",\"blue\",\"blue\",\"blue\",\"blue\",\"blue\",\"blue\",\"blue\",\"blue\",\"blue\",\"blue\",\"blue\",\"blue\",\"blue\",\"blue\",\"blue\",\"blue\",\"blue\",\"blue\",\"blue\",\"blue\",\"blue\",\"blue\",\"blue\",\"blue\",\"blue\",\"blue\",\"blue\",\"blue\",\"blue\",\"blue\",\"blue\",\"blue\",\"blue\",\"blue\",\"blue\",\"blue\",\"blue\",\"blue\",\"blue\",\"blue\",\"blue\",\"blue\",\"blue\",\"blue\",\"blue\",\"blue\",\"blue\",\"blue\",\"blue\",\"blue\",\"blue\",\"blue\",\"blue\",\"blue\",\"blue\",\"blue\",\"blue\",\"blue\",\"blue\",\"blue\",\"blue\",\"blue\",\"blue\",\"blue\",\"blue\",\"blue\",\"blue\",\"blue\",\"blue\",\"blue\",\"blue\",\"blue\",\"blue\",\"blue\",\"blue\",\"blue\",\"blue\",\"blue\",\"blue\",\"blue\",\"blue\",\"blue\",\"blue\",\"blue\",\"blue\",\"blue\",\"blue\",\"blue\",\"blue\",\"blue\",\"blue\",\"blue\",\"blue\",\"blue\",\"blue\",\"blue\",\"blue\",\"blue\",\"blue\",\"blue\",\"blue\",\"blue\",\"blue\",\"blue\",\"blue\",\"blue\",\"blue\",\"blue\",\"blue\",\"blue\",\"blue\",\"blue\",\"blue\",\"blue\",\"blue\",\"blue\",\"blue\",\"blue\",\"blue\",\"blue\",\"blue\",\"blue\",\"blue\",\"blue\",\"blue\",\"blue\",\"blue\",\"blue\",\"blue\",\"blue\",\"blue\",\"blue\",\"blue\",\"blue\",\"blue\",\"blue\",\"blue\",\"blue\",\"blue\",\"blue\",\"blue\",\"blue\",\"blue\",\"blue\",\"blue\",\"blue\",\"blue\",\"blue\",\"blue\",\"blue\",\"blue\",\"blue\",\"blue\",\"blue\",\"blue\",\"blue\",\"blue\",\"blue\",\"blue\",\"blue\",\"blue\",\"blue\",\"blue\",\"blue\",\"blue\",\"blue\",\"blue\",\"blue\",\"blue\",\"blue\",\"blue\",\"blue\",\"blue\",\"blue\",\"blue\",\"blue\",\"blue\",\"blue\",\"blue\",\"blue\",\"blue\",\"blue\",\"blue\",\"blue\",\"blue\",\"blue\",\"blue\",\"blue\",\"blue\",\"blue\",\"blue\",\"blue\",\"blue\",\"blue\",\"blue\",\"blue\",\"blue\",\"blue\",\"blue\",\"blue\",\"blue\",\"blue\",\"blue\",\"blue\",\"blue\",\"blue\",\"blue\",\"blue\",\"blue\",\"blue\",\"blue\",\"blue\",\"blue\",\"blue\",\"blue\",\"blue\",\"blue\",\"blue\",\"blue\",\"blue\",\"blue\",\"blue\",\"blue\",\"blue\",\"blue\",\"blue\",\"blue\",\"blue\",\"blue\",\"blue\",\"blue\",\"blue\",\"blue\",\"blue\",\"blue\",\"blue\",\"blue\",\"blue\",\"blue\",\"blue\",\"blue\",\"blue\",\"blue\",\"blue\",\"blue\",\"blue\",\"blue\",\"blue\",\"blue\",\"blue\",\"blue\",\"blue\",\"blue\",\"blue\",\"blue\",\"blue\",\"blue\",\"blue\",\"blue\",\"blue\",\"blue\",\"blue\",\"blue\",\"blue\",\"blue\",\"blue\",\"blue\",\"blue\",\"blue\",\"blue\",\"blue\",\"blue\",\"blue\",\"blue\",\"blue\",\"blue\",\"blue\",\"blue\",\"blue\",\"blue\",\"blue\",\"blue\",\"blue\",\"blue\",\"blue\",\"blue\",\"blue\",\"blue\",\"blue\",\"blue\",\"blue\",\"blue\",\"blue\",\"blue\",\"blue\",\"blue\",\"blue\",\"blue\",\"blue\",\"blue\",\"blue\",\"blue\",\"blue\",\"blue\",\"blue\",\"blue\",\"blue\",\"blue\",\"blue\",\"blue\",\"blue\",\"blue\",\"blue\",\"blue\",\"blue\",\"blue\",\"blue\",\"blue\",\"blue\",\"blue\",\"blue\",\"blue\",\"blue\",\"blue\",\"blue\",\"blue\",\"blue\",\"blue\",\"blue\",\"blue\",\"blue\",\"blue\",\"blue\",\"blue\",\"blue\",\"blue\",\"blue\",\"blue\",\"blue\",\"blue\",\"blue\",\"blue\",\"blue\",\"blue\",\"blue\",\"blue\",\"blue\",\"blue\",\"blue\",\"blue\",\"blue\",\"blue\",\"blue\",\"blue\",\"blue\",\"blue\",\"blue\",\"blue\",\"blue\",\"blue\",\"blue\",\"blue\",\"blue\",\"blue\",\"blue\",\"blue\",\"blue\",\"blue\",\"blue\",\"blue\",\"blue\",\"blue\",\"blue\",\"blue\",\"blue\",\"blue\",\"blue\",\"blue\",\"blue\",\"blue\",\"blue\",\"blue\",\"blue\",\"blue\",\"blue\",\"blue\",\"blue\",\"blue\",\"blue\",\"blue\",\"blue\",\"blue\",\"blue\",\"blue\",\"blue\",\"blue\",\"blue\",\"blue\",\"blue\",\"blue\",\"blue\",\"blue\",\"blue\",\"blue\",\"blue\",\"blue\",\"blue\",\"blue\",\"blue\",\"blue\",\"blue\",\"blue\",\"blue\",\"blue\",\"blue\",\"blue\",\"blue\",\"blue\",\"blue\",\"blue\",\"blue\",\"blue\",\"blue\",\"blue\",\"blue\",\"blue\",\"blue\",\"blue\",\"blue\",\"blue\",\"blue\",\"blue\",\"blue\",\"blue\",\"blue\",\"blue\",\"blue\",\"blue\",\"blue\",\"blue\",\"blue\",\"blue\",\"blue\",\"blue\",\"blue\",\"blue\",\"blue\",\"blue\",\"blue\",\"blue\",\"blue\",\"blue\",\"blue\",\"blue\",\"blue\",\"blue\",\"blue\",\"blue\",\"blue\",\"blue\",\"blue\",\"blue\",\"blue\",\"blue\",\"blue\",\"blue\",\"blue\",\"blue\",\"blue\",\"blue\",\"blue\",\"blue\",\"blue\",\"blue\",\"blue\",\"blue\",\"blue\",\"blue\",\"blue\",\"blue\",\"blue\",\"blue\",\"blue\",\"blue\",\"blue\",\"blue\",\"blue\",\"blue\",\"blue\",\"blue\",\"blue\",\"blue\",\"blue\",\"blue\",\"blue\",\"blue\",\"blue\",\"blue\",\"blue\",\"blue\",\"blue\",\"blue\",\"blue\",\"blue\",\"blue\",\"blue\",\"blue\",\"blue\",\"blue\",\"blue\",\"blue\",\"blue\",\"blue\",\"blue\",\"blue\",\"blue\",\"blue\",\"blue\",\"blue\",\"blue\",\"blue\",\"blue\",\"blue\",\"blue\",\"blue\",\"blue\",\"blue\",\"blue\",\"blue\",\"blue\",\"blue\",\"blue\",\"blue\",\"blue\",\"blue\",\"blue\",\"blue\",\"blue\",\"blue\",\"blue\",\"blue\",\"blue\",\"blue\",\"blue\",\"blue\",\"blue\",\"blue\",\"blue\",\"blue\",\"blue\",\"blue\",\"blue\",\"blue\",\"blue\",\"blue\",\"blue\",\"blue\",\"blue\",\"blue\",\"blue\",\"blue\",\"blue\",\"blue\",\"blue\",\"blue\",\"blue\",\"blue\",\"blue\",\"blue\",\"blue\",\"blue\",\"blue\",\"blue\",\"blue\",\"blue\",\"blue\",\"blue\",\"blue\",\"blue\",\"blue\",\"blue\",\"blue\",\"blue\",\"blue\",\"blue\",\"blue\",\"blue\",\"blue\",\"blue\",\"blue\",\"blue\",\"blue\",\"blue\",\"blue\",\"blue\",\"blue\",\"blue\",\"blue\",\"blue\",\"blue\",\"blue\",\"blue\",\"blue\",\"blue\",\"blue\",\"blue\",\"blue\",\"blue\",\"blue\",\"blue\",\"blue\",\"blue\",\"blue\",\"blue\",\"blue\",\"blue\",\"blue\",\"blue\",\"blue\",\"blue\",\"blue\",\"blue\",\"blue\",\"blue\",\"blue\",\"blue\",\"blue\",\"blue\",\"blue\",\"blue\",\"blue\",\"blue\",\"blue\",\"blue\",\"blue\",\"blue\",\"blue\",\"blue\",\"blue\",\"blue\",\"blue\",\"blue\",\"blue\",\"blue\",\"blue\",\"blue\",\"blue\",\"blue\",\"blue\",\"blue\",\"blue\",\"blue\",\"blue\",\"blue\",\"blue\",\"blue\",\"blue\",\"blue\",\"blue\",\"blue\",\"blue\",\"blue\",\"blue\",\"blue\",\"blue\",\"blue\",\"blue\",\"blue\",\"blue\",\"blue\",\"blue\",\"blue\",\"blue\",\"blue\",\"blue\",\"blue\",\"blue\",\"blue\",\"blue\",\"blue\",\"blue\",\"blue\",\"blue\",\"blue\",\"blue\",\"blue\",\"blue\",\"blue\",\"blue\",\"blue\",\"blue\",\"blue\",\"blue\",\"blue\",\"blue\",\"blue\",\"blue\",\"blue\",\"blue\",\"blue\",\"blue\",\"blue\",\"blue\",\"blue\",\"blue\",\"blue\",\"blue\",\"blue\",\"blue\",\"blue\",\"blue\",\"blue\",\"blue\",\"blue\",\"blue\",\"blue\",\"blue\",\"blue\",\"blue\",\"blue\",\"blue\",\"blue\",\"blue\",\"blue\",\"blue\",\"blue\",\"blue\",\"blue\",\"blue\",\"blue\",\"blue\",\"blue\"],\"token\":[\"<user>\",\".\",\":\",\"rt\",\",\",\"<repeat>\",\"<hashtag>\",\"<number>\",\"<url>\",\"!\",\"i\",\"a\",\"\\\"\",\"the\",\"?\",\"you\",\"to\",\"(\",\"<allcaps>\",\"<elong>\",\")\",\"me\",\"de\",\"<smile>\",\"\\uff01\",\"que\",\"and\",\"\\u3002\",\"-\",\"my\",\"no\",\"\\u3001\",\"is\",\"it\",\"\\u2026\",\"in\",\"n\",\"for\",\"/\",\"of\",\"la\",\"'s\",\"*\",\"do\",\"n't\",\"that\",\"on\",\"y\",\"'\",\"e\",\"o\",\"u\",\"en\",\"this\",\"el\",\"so\",\"be\",\"'m\",\"with\",\"just\",\">\",\"your\",\"^\",\"like\",\"have\",\"te\",\"at\",\"\\uff1f\",\"love\",\"se\",\"are\",\"<\",\"m\",\"r\",\"if\",\"all\",\"b\",\"\\u30fb\",\"not\",\"but\",\"we\",\"es\",\"ya\",\"&\",\"follow\",\"up\",\"what\",\"get\",\"lol\",\"un\",\"\\u2665\",\"lo\",\"when\",\"was\",\"\\u201c\",\"\\u201d\",\"one\",\"por\",\"si\",\"out\",\"_\",\"mi\",\"can\",\"<sadface>\",\"\\u0645\\u0646\",\"\\u2661\",\"\\u00b4\",\"he\",\"con\",\"they\",\"now\",\"go\",\"\\u060c\",\"para\",\"los\",\"know\",\"haha\",\"good\",\"tu\",\"back\",\"~\",\"about\",\"new\",\";\",\"as\",\"day\",\"how\",\"who\",\"will\",\"want\",\"people\",\"yo\",\"eu\",\"from\",\"di\",\"time\",\"<heart>\",\"s\",\"aku\",\"da\",\"'re\",\"<lolface>\",\"una\",\"got\",\"las\",\"more\",\"x\",\"she\",\"today\",\"\\uff08\",\">>\",\"k\",\"by\",\"or\",\"\\u0641\\u064a\",\"\\uff65\",\"too\",\"le\",\"\\u00e9\",\"|\",\"[\",\"\\uff09\",\"]\",\"see\",\"why\",\"yg\",\"ca\",\"como\",\"her\",\"\\u2014\",\"q\",\"need\",\"an\",\"na\",\"\\u7b11\",\"there\",\"\\u03c9\",\"happy\",\"im\",\"mas\",\"je\",\"life\",\"really\",\"make\",\"yang\",\"shit\",\"think\",\"t\",\"\\u2764\",\"n\\u00e3o\",\"never\",\"some\",\"\\uff5e\",\"oh\",\"\\u2605\",\"did\",\"would\",\"del\",\"`\",\"d\",\"please\",\"via\",\"much\",\"fuck\",\"al\",\"dia\",\"$\",\"\\u0648\",\"right\",\"best\",\"c\",\"going\",\"\\u0627\\u0644\\u0644\\u0647\",\"pero\",\"only\",\"has\",\"\\u266a\",\"'ll\",\"twitter\",\"=\",\"hahaha\",\"its\",\"nn\",\"\\uff40\",\"\\u00bf\",\"am\",\"say\",\"<neutralface>\",\"them\",\"here\",\"\\u0644\\u0627\",\"off\",\"still\",\"dan\",\"+\",\"night\",\"w\",\"ada\",\"someone\",\"even\",\"then\",\"\\u2606\",\"ni\",\"come\",\"com\",\"always\",\"man\",\"'ve\",\"been\",\"his\",\"itu\",\"\\u0639\\u0644\\u0649\",\"-_-\",\"\\u263a\",\"over\",\"um\",\"\\u0645\\u0627\",\"hate\",\"girl\",\"ai\",\"had\",\"pra\",\"todo\",\"mais\",\"feel\",\"let\",\"ini\",\"because\",\"\\uff9f\",\"thanks\",\"ah\",\"way\",\"ever\",\"look\",\"tweet\",\"followers\",\"should\",\"our\",\"xd\",\"aja\",\"esta\",\"school\",\"him\",\"ser\",\"take\",\"than\",\"video\",\"em\",\"last\",\"wanna\",\"does\",\"us\",\"miss\",\"l\",\"ga\",\"better\",\"well\",\"could\",\"\\u25bd\",\"%\",\"apa\",\"cuando\",\"team\",\"\\u2714\",\"@\",\"ok\",\"\\u061f\",\"\\u2022\",\"vida\",\"quiero\",\"les\",\"being\",\"real\",\"down\",\"kamu\",\"everyone\",\"gonna\",\"live\",\"tonight\",\"yes\",\"work\",\"ass\",\"retweet\",\"nada\",\"sama\",\"first\",\"<<\",\"photo\",\"tomorrow\",\"where\",\"god\",\"son\",\"ke\",\"ta\",\"f\",\"home\",\"lagi\",\"thank\",\"birthday\",\"\\u2588\",\"ha\",\"great\",\"lmao\",\"omg\",\"morning\",\"m\\u00e1s\",\"mau\",\"baby\",\"dont\",\"\\uff61\",\"their\",\"p\",\"things\",\"game\",\"pas\",\"bad\",\"year\",\"yeah\",\"su\",\"bitch\",\"\\u0432\",\"stop\",\"hoy\",\"something\",\"meu\",\"tak\",\"gak\",\"world\",\"amor\",\"h\",\"\\\\\",\"ver\",\"\\uff1b\",\"porque\",\"give\",\"these\",\"\\u0627\\u0644\\u0644\\u0647\\u0645\",\"were\",\"hay\",\"sleep\",\"gue\",\"every\",\"friends\",\"uma\",\"tell\",\"amo\",\"vou\",\"bien\",\"\\u00a1\",\"again\",\"\\uff3e\",\"\\uff0f\",\"done\",\"after\",\"todos\",\"girls\",\"guys\",\"getting\",\"big\",\"wait\",\"justin\",\"eh\",\"\\u2192\",\"kan\",\"kita\",\"jajaja\",\"wish\",\"said\",\"fucking\",\"show\",\"thing\",\"next\",\"voc\\u00ea\",\"nos\",\"little\",\"tengo\",\"keep\",\"person\",\"''\",\"\\u2200\",\"hope\",\"\\u0643\\u0644\",\"hey\",\"bisa\",\"free\",\"made\",\"foto\",\"va\",\"everything\",\"iya\",\"nigga\",\"eso\",\"et\",\"watch\",\"music\",\"week\",\"talk\",\"ne\",\"solo\",\"gente\",\"udah\",\"\\uff1a\",\"--\",\"\\uff3c\",\"mejor\",\"facebook\",\"ma\",\"v\",\"phone\",\"most\",\"same\",\"okay\",\"ik\",\"before\",\"minha\",\"days\",\"g\",\"ti\",\"damn\",\"nice\",\"voy\",\"vai\",\"call\",\"long\",\"tapi\",\"http\",\"sin\",\"nunca\",\"doing\",\"other\",\"find\",\"il\",\"sa\",\"sorry\",\"nya\",\"orang\",\"\\u00b0\",\"hard\",\"mean\",\"die\",\"\\u0627\\u0644\\u0644\\u064a\",\"tem\",\"soy\",\"este\",\"kalo\",\"s\\u00f3\",\"th\",\"win\",\"nothing\",\"into\",\"face\",\"cute\",\"'d\",\"gracias\",\"lah\",\"\\u0438\",\"any\",\"play\",\"\\u2190\",\"ko\",\"text\",\"\\u2323\",\"estoy\",\"tau\",\"ur\",\"buat\",\"#\",\"cause\",\"\\u044f\",\"put\",\"kau\",\"siempre\",\"juga\",\"casa\",\"\\u0623\\u0646\",\"help\",\"start\",\"feliz\",\"old\",\"ir\",\"very\",\"care\",\"bir\",\"makes\",\"song\",\"check\",\"watching\",\"ahora\",\"jadi\",\"os\",\"may\",\"friend\",\"beautiful\",\"heart\",\"ka\",\"vc\",\"mundo\",\"\\u043d\\u0430\",\"sure\",\"tan\",\"pretty\",\"aqui\",\"\\u043d\\u0435\",\"house\",\"\\u0631\\u062a\\u0648\\u064a\\u062a\",\"\\u064a\\u0627\",\"ja\",\"true\",\"muy\",\"away\",\"already\",\"actually\",\"believe\",\"try\",\"many\",\"ma\\u00f1ana\",\"mis\",\"lu\",\"those\",\"hot\",\"qu\\u00e9\",\"mal\",\"\\u0639\\u0646\",\"though\",\"ask\",\"amazing\",\"bed\",\"}\",\"two\",\"mom\",\"d\\u00eda\",\"ve\",\"dari\",\"gameinsight\",\"stay\",\"fun\",\"around\",\"van\",\"cont\",\"ready\",\"money\",\"bu\",\"funny\",\"cool\",\"hair\",\"\\u00e0\",\"tho\",\"{\",\"wo\",\"hi\",\"name\",\"tiene\",\"hahahaha\",\"pa\",\"algo\",\"gotta\",\"\\u0648\\u0644\\u0627\",\"boy\",\"another\",\"c'est\",\"hari\",\"jajajaja\",\"having\",\"cara\",\"jaja\",\"dm\",\"looking\",\"top\",\"android\",\"dah\",\"wow\",\"\\u2591\",\"eres\",\"ben\",\"must\",\"news\",\"met\",\"est\\u00e1\",\"nih\",\"family\",\"black\",\"thought\",\"nak\",\"super\",\"end\",\"hace\",\"remember\",\"ama\",\"party\",\"cant\",\"vamos\",\"anything\",\"anyone\",\"\\u0641\\u0648\\u0644\\u0648\",\"perfect\",\"guy\",\"vez\",\"christmas\",\"dos\",\"bueno\",\"nao\",\"years\",\"vote\",\"dormir\",\"bro\",\"else\",\"quien\",\"untuk\",\"jangan\",\"myself\",\"head\",\"mind\",\"gua\",\"talking\",\"while\",\"dat\",\"food\",\"\\u0434\",\"coming\",\"wkwk\",\"trying\",\"saya\",\"mucho\",\"without\",\"wrong\",\"\\u2019s\",\"baru\",\"__\",\"hehe\",\"hacer\",\"lot\",\"followed\",\"crazy\",\"hell\",\"feeling\",\"des\",\"kok\",\"j\",\"stats\",\"j'\",\"\\u0627\\u0646\",\"tweets\",\"non\",\"cosas\",\"era\",\"high\",\"niggas\",\"change\",\"movie\",\"xx\",\"mad\",\"sih\",\"sometimes\",\"deh\",\"allah\",\"through\",\"pour\",\"ela\",\"soon\",\"gone\",\"playing\",\"smile\",\"bukan\",\"tv\",\"fans\",\"hasta\",\"akan\",\"y'\",\"looks\",\"isso\",\"\\u270c\",\"tired\",\"boys\",\"might\",\"dong\",\"lg\",\"use\",\"maybe\",\"until\",\"menos\",\"own\",\"dengan\",\"eat\",\"ou\",\"weekend\",\"\\u02d8\",\"class\",\"ele\",\"harry\",\"iphone\",\"friday\",\"single\",\"ff\",\"awesome\",\"bout\",\"muito\",\"hoje\",\"\\u00ac\",\"dios\",\"such\",\"estar\",\"j\\u00e1\",\"quando\",\"esa\",\"making\",\"\\u2501\",\"times\",\"lmfao\",\"gw\",\"moment\",\"yet\",\"aw\",\"smh\",\"banget\",\"masih\",\"qui\",\"quem\",\"\\u2013\",\"leave\",\"du\",\"une\",\"guess\",\"hit\",\"\\u0441\",\"pm\",\"since\",\"pues\",\"est\",\"job\",\"\\uff89\",\"mana\",\"bom\",\"siapa\",\"suka\",\"bieber\",\"mention\",\"lebih\",\"favorite\",\"bitches\",\"forever\",\"\\u0644\\u064a\",\"final\",\"read\",\"alguien\",\"open\",\"yourself\",\"ese\",\"che\",\"sex\",\"yaa\",\"car\",\"direction\",\"tidak\",\"seu\",\"gets\",\"left\",\"re\",\"jam\",\"enough\",\"\\u0625\\u0644\\u0627\",\"once\",\"\\u2019\",\"part\",\"cada\",\"\\u5b9a\\u671f\",\"\\u0644\\u0643\",\"een\",\"seen\",\"kak\",\"as\\u00ed\",\"nem\",\"\\u0639\\u0645\\u0644\",\"white\",\"told\",\"says\",\"esto\",\"sad\",\"mo\",\"fue\",\"yah\",\"summer\",\"\\u0647\",\"\\u2b55\",\"\\u00bb\",\"thats\",\"\\u0645\\u0639\",\"posted\",\"wants\",\"agora\",\"together\",\"fan\",\"men\",\"hear\",\"full\",\"\\u2600\",\"sigo\",\"pq\",\"dulu\",\"plus\",\"foi\",\"tudo\",\"\\u0647\\u0648\",\"ill\",\"\\u3042\",\"thinking\",\"wtf\",\"pagi\",\"mama\",\"kalau\",\"hati\",\"sexy\",\"sayang\",\"baik\",\"semua\",\"hola\",\"went\",\"vos\",\"tanto\",\"finally\",\"fb\",\"sea\",\"stupid\",\"tus\",\"seriously\",\"hora\",\"min\",\"pic\",\"estas\",\"turn\",\"hours\",\"excited\",\"nah\",\"buy\",\"saying\",\"mah\",\"break\",\"needs\",\"ce\",\"room\",\"choice\",\"far\",\"dead\",\"quero\",\"saw\",\"kids\",\"lil\",\"whole\",\"puede\",\"fall\",\"sus\",\"lost\",\"asi\",\"word\",\"\\u2639\",\"also\",\"\\u0631\\u064a\\u062a\\u0648\\u064a\\u062a\",\"probably\",\"everybody\",\"tarde\",\"run\",\"sei\",\"follback\",\"forget\",\"sweet\",\"welcome\",\"selamat\",\"\\uff3f\",\"sur\",\"place\",\"gusta\",\"sabe\",\"androidgames\",\"tp\",\"tiempo\",\"\\u0628\\u0633\",\"sou\",\"tuh\",\"vs\",\"eyes\",\"\\u0627\\u0646\\u0627\",\"picture\",\"das\",\"meet\",\"anak\",\"persona\",\"essa\",\"bored\",\"following\",\"nadie\",\"nobody\",\"dice\",\"alone\",\"sick\",\"red\",\"city\",\"cinta\",\"\\u6708\",\"linda\",\"dream\",\"story\",\"km\",\"het\",\"waiting\",\"^_^\",\"mine\",\"\\u0447\\u0442\\u043e\",\"reason\",\"kk\",\"\\u0644\\u0648\",\"online\",\"fast\",\"udh\",\"wanted\",\"op\",\"others\",\"gay\",\"n\\u2019t\",\"used\",\"sem\",\"understand\",\"moi\",\"sm\",\"aint\",\"donde\",\"bem\",\"which\",\"ng\",\"followback\",\"punya\",\"late\",\"anda\",\"tidur\",\"puedo\",\"early\",\"nd\",\"personas\",\"banyak\",\"\\u2705\",\"\\u278a\",\"trust\",\"noche\",\"tl\",\"\\uff1e\",\"\\u00ab\",\"af\",\"move\",\"pro\",\"bring\",\"ku\",\"called\",\"relationship\",\"idk\",\"hurt\",\"st\",\"pernah\",\"pessoas\",\"hello\",\"uno\",\"unfollowers\",\"cry\"],\"x\":{\"__ndarray__\":\"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\",\"dtype\":\"float32\",\"order\":\"little\",\"shape\":[1000]},\"y\":{\"__ndarray__\":\"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\",\"dtype\":\"float32\",\"order\":\"little\",\"shape\":[1000]}},\"selected\":{\"id\":\"1052\"},\"selection_policy\":{\"id\":\"1051\"}},\"id\":\"1003\",\"type\":\"ColumnDataSource\"},{\"attributes\":{},\"id\":\"1047\",\"type\":\"AllLabels\"},{\"attributes\":{\"callback\":null,\"tooltips\":[[\"token\",\"@token\"]]},\"id\":\"1041\",\"type\":\"HoverTool\"},{\"attributes\":{},\"id\":\"1050\",\"type\":\"AllLabels\"},{\"attributes\":{\"coordinates\":null,\"formatter\":{\"id\":\"1049\"},\"group\":null,\"major_label_policy\":{\"id\":\"1050\"},\"ticker\":{\"id\":\"1014\"}},\"id\":\"1013\",\"type\":\"LinearAxis\"},{\"attributes\":{},\"id\":\"1049\",\"type\":\"BasicTickFormatter\"},{\"attributes\":{\"active_scroll\":{\"id\":\"1022\"},\"tools\":[{\"id\":\"1021\"},{\"id\":\"1022\"},{\"id\":\"1023\"},{\"id\":\"1024\"},{\"id\":\"1025\"},{\"id\":\"1026\"},{\"id\":\"1041\"}]},\"id\":\"1028\",\"type\":\"Toolbar\"},{\"attributes\":{\"coordinates\":null,\"group\":null},\"id\":\"1043\",\"type\":\"Title\"},{\"attributes\":{\"fill_alpha\":{\"value\":0.2},\"fill_color\":{\"field\":\"color\"},\"hatch_alpha\":{\"value\":0.2},\"hatch_color\":{\"field\":\"color\"},\"line_alpha\":{\"value\":0.2},\"line_color\":{\"field\":\"color\"},\"size\":{\"value\":10},\"x\":{\"field\":\"x\"},\"y\":{\"field\":\"y\"}},\"id\":\"1038\",\"type\":\"Scatter\"},{\"attributes\":{},\"id\":\"1052\",\"type\":\"Selection\"},{\"attributes\":{},\"id\":\"1021\",\"type\":\"PanTool\"},{\"attributes\":{},\"id\":\"1026\",\"type\":\"HelpTool\"},{\"attributes\":{},\"id\":\"1007\",\"type\":\"DataRange1d\"},{\"attributes\":{\"source\":{\"id\":\"1003\"}},\"id\":\"1040\",\"type\":\"CDSView\"},{\"attributes\":{\"fill_alpha\":{\"value\":0.1},\"fill_color\":{\"field\":\"color\"},\"hatch_alpha\":{\"value\":0.1},\"hatch_color\":{\"field\":\"color\"},\"line_alpha\":{\"value\":0.1},\"line_color\":{\"field\":\"color\"},\"size\":{\"value\":10},\"x\":{\"field\":\"x\"},\"y\":{\"field\":\"y\"}},\"id\":\"1037\",\"type\":\"Scatter\"},{\"attributes\":{},\"id\":\"1025\",\"type\":\"ResetTool\"},{\"attributes\":{},\"id\":\"1022\",\"type\":\"WheelZoomTool\"},{\"attributes\":{},\"id\":\"1046\",\"type\":\"BasicTickFormatter\"},{\"attributes\":{},\"id\":\"1024\",\"type\":\"SaveTool\"}],\"root_ids\":[\"1004\"]},\"title\":\"Bokeh Application\",\"version\":\"2.4.1\"}};\n  const render_items = [{\"docid\":\"78578461-d1b3-4102-8d45-dcbc8e882f50\",\"root_ids\":[\"1004\"],\"roots\":{\"1004\":\"baec43d5-7286-4836-8864-c2f9bf807d75\"}}];\n  root.Bokeh.embed.embed_items_notebook(docs_json, render_items);\n\n  }\n  if (root.Bokeh !== undefined) {\n    embed_document(root);\n  } else {\n    let attempts = 0;\n    const timer = setInterval(function(root) {\n      if (root.Bokeh !== undefined) {\n        clearInterval(timer);\n        embed_document(root);\n      } else {\n        attempts++;\n        if (attempts > 100) {\n          clearInterval(timer);\n          console.log(\"Bokeh: ERROR: Unable to run BokehJS code because BokehJS library is missing\");\n        }\n      }\n    }, 10, root)\n  }\n})(window);",
      "application/vnd.bokehjs_exec.v0+json": ""
     },
     "metadata": {
      "application/vnd.bokehjs_exec.v0+json": {
       "id": "1004"
      }
     },
     "output_type": "display_data"
    }
   ]
  },
  {
   "cell_type": "markdown",
   "metadata": {
    "id": "qDaXf9l15wAf",
    "pycharm": {
     "name": "#%% md\n"
    }
   },
   "source": [
    "### Visualizing neighbors with t-SNE\n",
    "PCA is nice but it's strictly linear and thus only able to capture coarse high-level structure of the data.\n",
    "\n",
    "If we instead want to focus on keeping neighboring points near, we could use TSNE, which is itself an embedding method. Here you can read __[more on TSNE](https://distill.pub/2016/misread-tsne/)__."
   ]
  },
  {
   "cell_type": "code",
   "metadata": {
    "id": "hXiWmXA25wAf",
    "executionInfo": {
     "status": "ok",
     "timestamp": 1634757425548,
     "user_tz": -180,
     "elapsed": 7910,
     "user": {
      "displayName": "Alexander Khizhik",
      "photoUrl": "https://lh3.googleusercontent.com/a-/AOh14GjRym6vil42cCu9NA8r90vqp_-M76yAL-4-2sShow=s64",
      "userId": "03036007741070590588"
     }
    },
    "pycharm": {
     "name": "#%%\n"
    }
   },
   "source": [
    "from sklearn.manifold import TSNE\n",
    "\n",
    "# map word vectors onto 2d plane with TSNE. hint: use verbose=100 to see what it's doing.\n",
    "# normalize them as just lke with pca\n",
    "\n",
    "word_tsne = TSNE(n_components=2).fit_transform(word_vectors)"
   ],
   "execution_count": 21,
   "outputs": []
  },
  {
   "cell_type": "code",
   "metadata": {
    "collapsed": true,
    "scrolled": false,
    "id": "YQsw45po5wAf",
    "colab": {
     "base_uri": "https://localhost:8080/",
     "height": 434
    },
    "executionInfo": {
     "status": "ok",
     "timestamp": 1634757425550,
     "user_tz": -180,
     "elapsed": 13,
     "user": {
      "displayName": "Alexander Khizhik",
      "photoUrl": "https://lh3.googleusercontent.com/a-/AOh14GjRym6vil42cCu9NA8r90vqp_-M76yAL-4-2sShow=s64",
      "userId": "03036007741070590588"
     }
    },
    "outputId": "20fb4440-49cb-4c56-ea81-98a3cf973fe2",
    "pycharm": {
     "name": "#%%\n"
    }
   },
   "source": [
    "_ = draw_vectors(word_tsne[:, 0], word_tsne[:, 1], color='green', token=words)"
   ],
   "execution_count": 22,
   "outputs": [
    {
     "data": {
      "text/html": "\n\n\n\n\n\n  <div class=\"bk-root\" id=\"d5d63d72-2922-4353-bff6-4cc5f2166d99\" data-root-id=\"1243\"></div>\n"
     },
     "metadata": {},
     "output_type": "display_data"
    },
    {
     "data": {
      "application/javascript": "(function(root) {\n  function embed_document(root) {\n    \n  const docs_json = {\"74c7d93d-e487-4e13-9984-71ee3aae4ee3\":{\"defs\":[],\"roots\":{\"references\":[{\"attributes\":{\"below\":[{\"id\":\"1252\"}],\"center\":[{\"id\":\"1255\"},{\"id\":\"1259\"}],\"height\":400,\"left\":[{\"id\":\"1256\"}],\"renderers\":[{\"id\":\"1278\"}],\"title\":{\"id\":\"1293\"},\"toolbar\":{\"id\":\"1267\"},\"x_range\":{\"id\":\"1244\"},\"x_scale\":{\"id\":\"1248\"},\"y_range\":{\"id\":\"1246\"},\"y_scale\":{\"id\":\"1250\"}},\"id\":\"1243\",\"subtype\":\"Figure\",\"type\":\"Plot\"},{\"attributes\":{},\"id\":\"1244\",\"type\":\"DataRange1d\"},{\"attributes\":{},\"id\":\"1246\",\"type\":\"DataRange1d\"},{\"attributes\":{\"source\":{\"id\":\"1242\"}},\"id\":\"1279\",\"type\":\"CDSView\"},{\"attributes\":{\"data\":{\"color\":[\"green\",\"green\",\"green\",\"green\",\"green\",\"green\",\"green\",\"green\",\"green\",\"green\",\"green\",\"green\",\"green\",\"green\",\"green\",\"green\",\"green\",\"green\",\"green\",\"green\",\"green\",\"green\",\"green\",\"green\",\"green\",\"green\",\"green\",\"green\",\"green\",\"green\",\"green\",\"green\",\"green\",\"green\",\"green\",\"green\",\"green\",\"green\",\"green\",\"green\",\"green\",\"green\",\"green\",\"green\",\"green\",\"green\",\"green\",\"green\",\"green\",\"green\",\"green\",\"green\",\"green\",\"green\",\"green\",\"green\",\"green\",\"green\",\"green\",\"green\",\"green\",\"green\",\"green\",\"green\",\"green\",\"green\",\"green\",\"green\",\"green\",\"green\",\"green\",\"green\",\"green\",\"green\",\"green\",\"green\",\"green\",\"green\",\"green\",\"green\",\"green\",\"green\",\"green\",\"green\",\"green\",\"green\",\"green\",\"green\",\"green\",\"green\",\"green\",\"green\",\"green\",\"green\",\"green\",\"green\",\"green\",\"green\",\"green\",\"green\",\"green\",\"green\",\"green\",\"green\",\"green\",\"green\",\"green\",\"green\",\"green\",\"green\",\"green\",\"green\",\"green\",\"green\",\"green\",\"green\",\"green\",\"green\",\"green\",\"green\",\"green\",\"green\",\"green\",\"green\",\"green\",\"green\",\"green\",\"green\",\"green\",\"green\",\"green\",\"green\",\"green\",\"green\",\"green\",\"green\",\"green\",\"green\",\"green\",\"green\",\"green\",\"green\",\"green\",\"green\",\"green\",\"green\",\"green\",\"green\",\"green\",\"green\",\"green\",\"green\",\"green\",\"green\",\"green\",\"green\",\"green\",\"green\",\"green\",\"green\",\"green\",\"green\",\"green\",\"green\",\"green\",\"green\",\"green\",\"green\",\"green\",\"green\",\"green\",\"green\",\"green\",\"green\",\"green\",\"green\",\"green\",\"green\",\"green\",\"green\",\"green\",\"green\",\"green\",\"green\",\"green\",\"green\",\"green\",\"green\",\"green\",\"green\",\"green\",\"green\",\"green\",\"green\",\"green\",\"green\",\"green\",\"green\",\"green\",\"green\",\"green\",\"green\",\"green\",\"green\",\"green\",\"green\",\"green\",\"green\",\"green\",\"green\",\"green\",\"green\",\"green\",\"green\",\"green\",\"green\",\"green\",\"green\",\"green\",\"green\",\"green\",\"green\",\"green\",\"green\",\"green\",\"green\",\"green\",\"green\",\"green\",\"green\",\"green\",\"green\",\"green\",\"green\",\"green\",\"green\",\"green\",\"green\",\"green\",\"green\",\"green\",\"green\",\"green\",\"green\",\"green\",\"green\",\"green\",\"green\",\"green\",\"green\",\"green\",\"green\",\"green\",\"green\",\"green\",\"green\",\"green\",\"green\",\"green\",\"green\",\"green\",\"green\",\"green\",\"green\",\"green\",\"green\",\"green\",\"green\",\"green\",\"green\",\"green\",\"green\",\"green\",\"green\",\"green\",\"green\",\"green\",\"green\",\"green\",\"green\",\"green\",\"green\",\"green\",\"green\",\"green\",\"green\",\"green\",\"green\",\"green\",\"green\",\"green\",\"green\",\"green\",\"green\",\"green\",\"green\",\"green\",\"green\",\"green\",\"green\",\"green\",\"green\",\"green\",\"green\",\"green\",\"green\",\"green\",\"green\",\"green\",\"green\",\"green\",\"green\",\"green\",\"green\",\"green\",\"green\",\"green\",\"green\",\"green\",\"green\",\"green\",\"green\",\"green\",\"green\",\"green\",\"green\",\"green\",\"green\",\"green\",\"green\",\"green\",\"green\",\"green\",\"green\",\"green\",\"green\",\"green\",\"green\",\"green\",\"green\",\"green\",\"green\",\"green\",\"green\",\"green\",\"green\",\"green\",\"green\",\"green\",\"green\",\"green\",\"green\",\"green\",\"green\",\"green\",\"green\",\"green\",\"green\",\"green\",\"green\",\"green\",\"green\",\"green\",\"green\",\"green\",\"green\",\"green\",\"green\",\"green\",\"green\",\"green\",\"green\",\"green\",\"green\",\"green\",\"green\",\"green\",\"green\",\"green\",\"green\",\"green\",\"green\",\"green\",\"green\",\"green\",\"green\",\"green\",\"green\",\"green\",\"green\",\"green\",\"green\",\"green\",\"green\",\"green\",\"green\",\"green\",\"green\",\"green\",\"green\",\"green\",\"green\",\"green\",\"green\",\"green\",\"green\",\"green\",\"green\",\"green\",\"green\",\"green\",\"green\",\"green\",\"green\",\"green\",\"green\",\"green\",\"green\",\"green\",\"green\",\"green\",\"green\",\"green\",\"green\",\"green\",\"green\",\"green\",\"green\",\"green\",\"green\",\"green\",\"green\",\"green\",\"green\",\"green\",\"green\",\"green\",\"green\",\"green\",\"green\",\"green\",\"green\",\"green\",\"green\",\"green\",\"green\",\"green\",\"green\",\"green\",\"green\",\"green\",\"green\",\"green\",\"green\",\"green\",\"green\",\"green\",\"green\",\"green\",\"green\",\"green\",\"green\",\"green\",\"green\",\"green\",\"green\",\"green\",\"green\",\"green\",\"green\",\"green\",\"green\",\"green\",\"green\",\"green\",\"green\",\"green\",\"green\",\"green\",\"green\",\"green\",\"green\",\"green\",\"green\",\"green\",\"green\",\"green\",\"green\",\"green\",\"green\",\"green\",\"green\",\"green\",\"green\",\"green\",\"green\",\"green\",\"green\",\"green\",\"green\",\"green\",\"green\",\"green\",\"green\",\"green\",\"green\",\"green\",\"green\",\"green\",\"green\",\"green\",\"green\",\"green\",\"green\",\"green\",\"green\",\"green\",\"green\",\"green\",\"green\",\"green\",\"green\",\"green\",\"green\",\"green\",\"green\",\"green\",\"green\",\"green\",\"green\",\"green\",\"green\",\"green\",\"green\",\"green\",\"green\",\"green\",\"green\",\"green\",\"green\",\"green\",\"green\",\"green\",\"green\",\"green\",\"green\",\"green\",\"green\",\"green\",\"green\",\"green\",\"green\",\"green\",\"green\",\"green\",\"green\",\"green\",\"green\",\"green\",\"green\",\"green\",\"green\",\"green\",\"green\",\"green\",\"green\",\"green\",\"green\",\"green\",\"green\",\"green\",\"green\",\"green\",\"green\",\"green\",\"green\",\"green\",\"green\",\"green\",\"green\",\"green\",\"green\",\"green\",\"green\",\"green\",\"green\",\"green\",\"green\",\"green\",\"green\",\"green\",\"green\",\"green\",\"green\",\"green\",\"green\",\"green\",\"green\",\"green\",\"green\",\"green\",\"green\",\"green\",\"green\",\"green\",\"green\",\"green\",\"green\",\"green\",\"green\",\"green\",\"green\",\"green\",\"green\",\"green\",\"green\",\"green\",\"green\",\"green\",\"green\",\"green\",\"green\",\"green\",\"green\",\"green\",\"green\",\"green\",\"green\",\"green\",\"green\",\"green\",\"green\",\"green\",\"green\",\"green\",\"green\",\"green\",\"green\",\"green\",\"green\",\"green\",\"green\",\"green\",\"green\",\"green\",\"green\",\"green\",\"green\",\"green\",\"green\",\"green\",\"green\",\"green\",\"green\",\"green\",\"green\",\"green\",\"green\",\"green\",\"green\",\"green\",\"green\",\"green\",\"green\",\"green\",\"green\",\"green\",\"green\",\"green\",\"green\",\"green\",\"green\",\"green\",\"green\",\"green\",\"green\",\"green\",\"green\",\"green\",\"green\",\"green\",\"green\",\"green\",\"green\",\"green\",\"green\",\"green\",\"green\",\"green\",\"green\",\"green\",\"green\",\"green\",\"green\",\"green\",\"green\",\"green\",\"green\",\"green\",\"green\",\"green\",\"green\",\"green\",\"green\",\"green\",\"green\",\"green\",\"green\",\"green\",\"green\",\"green\",\"green\",\"green\",\"green\",\"green\",\"green\",\"green\",\"green\",\"green\",\"green\",\"green\",\"green\",\"green\",\"green\",\"green\",\"green\",\"green\",\"green\",\"green\",\"green\",\"green\",\"green\",\"green\",\"green\",\"green\",\"green\",\"green\",\"green\",\"green\",\"green\",\"green\",\"green\",\"green\",\"green\",\"green\",\"green\",\"green\",\"green\",\"green\",\"green\",\"green\",\"green\",\"green\",\"green\",\"green\",\"green\",\"green\",\"green\",\"green\",\"green\",\"green\",\"green\",\"green\",\"green\",\"green\",\"green\",\"green\",\"green\",\"green\",\"green\",\"green\",\"green\",\"green\",\"green\",\"green\",\"green\",\"green\",\"green\",\"green\",\"green\",\"green\",\"green\",\"green\",\"green\",\"green\",\"green\",\"green\",\"green\",\"green\",\"green\",\"green\",\"green\",\"green\",\"green\",\"green\",\"green\",\"green\",\"green\",\"green\",\"green\",\"green\",\"green\",\"green\",\"green\",\"green\",\"green\",\"green\",\"green\",\"green\",\"green\",\"green\",\"green\",\"green\",\"green\",\"green\",\"green\",\"green\",\"green\",\"green\",\"green\",\"green\",\"green\",\"green\",\"green\",\"green\",\"green\",\"green\",\"green\",\"green\",\"green\",\"green\",\"green\",\"green\",\"green\",\"green\",\"green\",\"green\",\"green\",\"green\",\"green\",\"green\",\"green\",\"green\",\"green\",\"green\",\"green\",\"green\",\"green\",\"green\",\"green\",\"green\",\"green\",\"green\",\"green\",\"green\",\"green\",\"green\",\"green\",\"green\",\"green\",\"green\",\"green\",\"green\",\"green\",\"green\",\"green\",\"green\",\"green\",\"green\",\"green\",\"green\",\"green\",\"green\",\"green\",\"green\",\"green\",\"green\",\"green\",\"green\",\"green\",\"green\",\"green\",\"green\",\"green\",\"green\",\"green\",\"green\",\"green\",\"green\",\"green\",\"green\",\"green\",\"green\",\"green\",\"green\",\"green\",\"green\",\"green\",\"green\",\"green\",\"green\",\"green\",\"green\",\"green\",\"green\",\"green\",\"green\",\"green\",\"green\",\"green\",\"green\",\"green\",\"green\",\"green\",\"green\",\"green\",\"green\",\"green\",\"green\",\"green\",\"green\",\"green\",\"green\",\"green\",\"green\",\"green\",\"green\",\"green\",\"green\",\"green\",\"green\",\"green\",\"green\",\"green\",\"green\",\"green\",\"green\",\"green\",\"green\",\"green\",\"green\",\"green\",\"green\",\"green\",\"green\",\"green\",\"green\",\"green\",\"green\",\"green\",\"green\",\"green\",\"green\",\"green\",\"green\",\"green\",\"green\",\"green\",\"green\",\"green\",\"green\",\"green\",\"green\",\"green\",\"green\",\"green\",\"green\",\"green\",\"green\",\"green\",\"green\",\"green\",\"green\",\"green\",\"green\",\"green\",\"green\",\"green\",\"green\",\"green\",\"green\",\"green\",\"green\",\"green\",\"green\",\"green\",\"green\",\"green\",\"green\",\"green\",\"green\",\"green\",\"green\",\"green\",\"green\",\"green\",\"green\",\"green\",\"green\",\"green\"],\"token\":[\"<user>\",\".\",\":\",\"rt\",\",\",\"<repeat>\",\"<hashtag>\",\"<number>\",\"<url>\",\"!\",\"i\",\"a\",\"\\\"\",\"the\",\"?\",\"you\",\"to\",\"(\",\"<allcaps>\",\"<elong>\",\")\",\"me\",\"de\",\"<smile>\",\"\\uff01\",\"que\",\"and\",\"\\u3002\",\"-\",\"my\",\"no\",\"\\u3001\",\"is\",\"it\",\"\\u2026\",\"in\",\"n\",\"for\",\"/\",\"of\",\"la\",\"'s\",\"*\",\"do\",\"n't\",\"that\",\"on\",\"y\",\"'\",\"e\",\"o\",\"u\",\"en\",\"this\",\"el\",\"so\",\"be\",\"'m\",\"with\",\"just\",\">\",\"your\",\"^\",\"like\",\"have\",\"te\",\"at\",\"\\uff1f\",\"love\",\"se\",\"are\",\"<\",\"m\",\"r\",\"if\",\"all\",\"b\",\"\\u30fb\",\"not\",\"but\",\"we\",\"es\",\"ya\",\"&\",\"follow\",\"up\",\"what\",\"get\",\"lol\",\"un\",\"\\u2665\",\"lo\",\"when\",\"was\",\"\\u201c\",\"\\u201d\",\"one\",\"por\",\"si\",\"out\",\"_\",\"mi\",\"can\",\"<sadface>\",\"\\u0645\\u0646\",\"\\u2661\",\"\\u00b4\",\"he\",\"con\",\"they\",\"now\",\"go\",\"\\u060c\",\"para\",\"los\",\"know\",\"haha\",\"good\",\"tu\",\"back\",\"~\",\"about\",\"new\",\";\",\"as\",\"day\",\"how\",\"who\",\"will\",\"want\",\"people\",\"yo\",\"eu\",\"from\",\"di\",\"time\",\"<heart>\",\"s\",\"aku\",\"da\",\"'re\",\"<lolface>\",\"una\",\"got\",\"las\",\"more\",\"x\",\"she\",\"today\",\"\\uff08\",\">>\",\"k\",\"by\",\"or\",\"\\u0641\\u064a\",\"\\uff65\",\"too\",\"le\",\"\\u00e9\",\"|\",\"[\",\"\\uff09\",\"]\",\"see\",\"why\",\"yg\",\"ca\",\"como\",\"her\",\"\\u2014\",\"q\",\"need\",\"an\",\"na\",\"\\u7b11\",\"there\",\"\\u03c9\",\"happy\",\"im\",\"mas\",\"je\",\"life\",\"really\",\"make\",\"yang\",\"shit\",\"think\",\"t\",\"\\u2764\",\"n\\u00e3o\",\"never\",\"some\",\"\\uff5e\",\"oh\",\"\\u2605\",\"did\",\"would\",\"del\",\"`\",\"d\",\"please\",\"via\",\"much\",\"fuck\",\"al\",\"dia\",\"$\",\"\\u0648\",\"right\",\"best\",\"c\",\"going\",\"\\u0627\\u0644\\u0644\\u0647\",\"pero\",\"only\",\"has\",\"\\u266a\",\"'ll\",\"twitter\",\"=\",\"hahaha\",\"its\",\"nn\",\"\\uff40\",\"\\u00bf\",\"am\",\"say\",\"<neutralface>\",\"them\",\"here\",\"\\u0644\\u0627\",\"off\",\"still\",\"dan\",\"+\",\"night\",\"w\",\"ada\",\"someone\",\"even\",\"then\",\"\\u2606\",\"ni\",\"come\",\"com\",\"always\",\"man\",\"'ve\",\"been\",\"his\",\"itu\",\"\\u0639\\u0644\\u0649\",\"-_-\",\"\\u263a\",\"over\",\"um\",\"\\u0645\\u0627\",\"hate\",\"girl\",\"ai\",\"had\",\"pra\",\"todo\",\"mais\",\"feel\",\"let\",\"ini\",\"because\",\"\\uff9f\",\"thanks\",\"ah\",\"way\",\"ever\",\"look\",\"tweet\",\"followers\",\"should\",\"our\",\"xd\",\"aja\",\"esta\",\"school\",\"him\",\"ser\",\"take\",\"than\",\"video\",\"em\",\"last\",\"wanna\",\"does\",\"us\",\"miss\",\"l\",\"ga\",\"better\",\"well\",\"could\",\"\\u25bd\",\"%\",\"apa\",\"cuando\",\"team\",\"\\u2714\",\"@\",\"ok\",\"\\u061f\",\"\\u2022\",\"vida\",\"quiero\",\"les\",\"being\",\"real\",\"down\",\"kamu\",\"everyone\",\"gonna\",\"live\",\"tonight\",\"yes\",\"work\",\"ass\",\"retweet\",\"nada\",\"sama\",\"first\",\"<<\",\"photo\",\"tomorrow\",\"where\",\"god\",\"son\",\"ke\",\"ta\",\"f\",\"home\",\"lagi\",\"thank\",\"birthday\",\"\\u2588\",\"ha\",\"great\",\"lmao\",\"omg\",\"morning\",\"m\\u00e1s\",\"mau\",\"baby\",\"dont\",\"\\uff61\",\"their\",\"p\",\"things\",\"game\",\"pas\",\"bad\",\"year\",\"yeah\",\"su\",\"bitch\",\"\\u0432\",\"stop\",\"hoy\",\"something\",\"meu\",\"tak\",\"gak\",\"world\",\"amor\",\"h\",\"\\\\\",\"ver\",\"\\uff1b\",\"porque\",\"give\",\"these\",\"\\u0627\\u0644\\u0644\\u0647\\u0645\",\"were\",\"hay\",\"sleep\",\"gue\",\"every\",\"friends\",\"uma\",\"tell\",\"amo\",\"vou\",\"bien\",\"\\u00a1\",\"again\",\"\\uff3e\",\"\\uff0f\",\"done\",\"after\",\"todos\",\"girls\",\"guys\",\"getting\",\"big\",\"wait\",\"justin\",\"eh\",\"\\u2192\",\"kan\",\"kita\",\"jajaja\",\"wish\",\"said\",\"fucking\",\"show\",\"thing\",\"next\",\"voc\\u00ea\",\"nos\",\"little\",\"tengo\",\"keep\",\"person\",\"''\",\"\\u2200\",\"hope\",\"\\u0643\\u0644\",\"hey\",\"bisa\",\"free\",\"made\",\"foto\",\"va\",\"everything\",\"iya\",\"nigga\",\"eso\",\"et\",\"watch\",\"music\",\"week\",\"talk\",\"ne\",\"solo\",\"gente\",\"udah\",\"\\uff1a\",\"--\",\"\\uff3c\",\"mejor\",\"facebook\",\"ma\",\"v\",\"phone\",\"most\",\"same\",\"okay\",\"ik\",\"before\",\"minha\",\"days\",\"g\",\"ti\",\"damn\",\"nice\",\"voy\",\"vai\",\"call\",\"long\",\"tapi\",\"http\",\"sin\",\"nunca\",\"doing\",\"other\",\"find\",\"il\",\"sa\",\"sorry\",\"nya\",\"orang\",\"\\u00b0\",\"hard\",\"mean\",\"die\",\"\\u0627\\u0644\\u0644\\u064a\",\"tem\",\"soy\",\"este\",\"kalo\",\"s\\u00f3\",\"th\",\"win\",\"nothing\",\"into\",\"face\",\"cute\",\"'d\",\"gracias\",\"lah\",\"\\u0438\",\"any\",\"play\",\"\\u2190\",\"ko\",\"text\",\"\\u2323\",\"estoy\",\"tau\",\"ur\",\"buat\",\"#\",\"cause\",\"\\u044f\",\"put\",\"kau\",\"siempre\",\"juga\",\"casa\",\"\\u0623\\u0646\",\"help\",\"start\",\"feliz\",\"old\",\"ir\",\"very\",\"care\",\"bir\",\"makes\",\"song\",\"check\",\"watching\",\"ahora\",\"jadi\",\"os\",\"may\",\"friend\",\"beautiful\",\"heart\",\"ka\",\"vc\",\"mundo\",\"\\u043d\\u0430\",\"sure\",\"tan\",\"pretty\",\"aqui\",\"\\u043d\\u0435\",\"house\",\"\\u0631\\u062a\\u0648\\u064a\\u062a\",\"\\u064a\\u0627\",\"ja\",\"true\",\"muy\",\"away\",\"already\",\"actually\",\"believe\",\"try\",\"many\",\"ma\\u00f1ana\",\"mis\",\"lu\",\"those\",\"hot\",\"qu\\u00e9\",\"mal\",\"\\u0639\\u0646\",\"though\",\"ask\",\"amazing\",\"bed\",\"}\",\"two\",\"mom\",\"d\\u00eda\",\"ve\",\"dari\",\"gameinsight\",\"stay\",\"fun\",\"around\",\"van\",\"cont\",\"ready\",\"money\",\"bu\",\"funny\",\"cool\",\"hair\",\"\\u00e0\",\"tho\",\"{\",\"wo\",\"hi\",\"name\",\"tiene\",\"hahahaha\",\"pa\",\"algo\",\"gotta\",\"\\u0648\\u0644\\u0627\",\"boy\",\"another\",\"c'est\",\"hari\",\"jajajaja\",\"having\",\"cara\",\"jaja\",\"dm\",\"looking\",\"top\",\"android\",\"dah\",\"wow\",\"\\u2591\",\"eres\",\"ben\",\"must\",\"news\",\"met\",\"est\\u00e1\",\"nih\",\"family\",\"black\",\"thought\",\"nak\",\"super\",\"end\",\"hace\",\"remember\",\"ama\",\"party\",\"cant\",\"vamos\",\"anything\",\"anyone\",\"\\u0641\\u0648\\u0644\\u0648\",\"perfect\",\"guy\",\"vez\",\"christmas\",\"dos\",\"bueno\",\"nao\",\"years\",\"vote\",\"dormir\",\"bro\",\"else\",\"quien\",\"untuk\",\"jangan\",\"myself\",\"head\",\"mind\",\"gua\",\"talking\",\"while\",\"dat\",\"food\",\"\\u0434\",\"coming\",\"wkwk\",\"trying\",\"saya\",\"mucho\",\"without\",\"wrong\",\"\\u2019s\",\"baru\",\"__\",\"hehe\",\"hacer\",\"lot\",\"followed\",\"crazy\",\"hell\",\"feeling\",\"des\",\"kok\",\"j\",\"stats\",\"j'\",\"\\u0627\\u0646\",\"tweets\",\"non\",\"cosas\",\"era\",\"high\",\"niggas\",\"change\",\"movie\",\"xx\",\"mad\",\"sih\",\"sometimes\",\"deh\",\"allah\",\"through\",\"pour\",\"ela\",\"soon\",\"gone\",\"playing\",\"smile\",\"bukan\",\"tv\",\"fans\",\"hasta\",\"akan\",\"y'\",\"looks\",\"isso\",\"\\u270c\",\"tired\",\"boys\",\"might\",\"dong\",\"lg\",\"use\",\"maybe\",\"until\",\"menos\",\"own\",\"dengan\",\"eat\",\"ou\",\"weekend\",\"\\u02d8\",\"class\",\"ele\",\"harry\",\"iphone\",\"friday\",\"single\",\"ff\",\"awesome\",\"bout\",\"muito\",\"hoje\",\"\\u00ac\",\"dios\",\"such\",\"estar\",\"j\\u00e1\",\"quando\",\"esa\",\"making\",\"\\u2501\",\"times\",\"lmfao\",\"gw\",\"moment\",\"yet\",\"aw\",\"smh\",\"banget\",\"masih\",\"qui\",\"quem\",\"\\u2013\",\"leave\",\"du\",\"une\",\"guess\",\"hit\",\"\\u0441\",\"pm\",\"since\",\"pues\",\"est\",\"job\",\"\\uff89\",\"mana\",\"bom\",\"siapa\",\"suka\",\"bieber\",\"mention\",\"lebih\",\"favorite\",\"bitches\",\"forever\",\"\\u0644\\u064a\",\"final\",\"read\",\"alguien\",\"open\",\"yourself\",\"ese\",\"che\",\"sex\",\"yaa\",\"car\",\"direction\",\"tidak\",\"seu\",\"gets\",\"left\",\"re\",\"jam\",\"enough\",\"\\u0625\\u0644\\u0627\",\"once\",\"\\u2019\",\"part\",\"cada\",\"\\u5b9a\\u671f\",\"\\u0644\\u0643\",\"een\",\"seen\",\"kak\",\"as\\u00ed\",\"nem\",\"\\u0639\\u0645\\u0644\",\"white\",\"told\",\"says\",\"esto\",\"sad\",\"mo\",\"fue\",\"yah\",\"summer\",\"\\u0647\",\"\\u2b55\",\"\\u00bb\",\"thats\",\"\\u0645\\u0639\",\"posted\",\"wants\",\"agora\",\"together\",\"fan\",\"men\",\"hear\",\"full\",\"\\u2600\",\"sigo\",\"pq\",\"dulu\",\"plus\",\"foi\",\"tudo\",\"\\u0647\\u0648\",\"ill\",\"\\u3042\",\"thinking\",\"wtf\",\"pagi\",\"mama\",\"kalau\",\"hati\",\"sexy\",\"sayang\",\"baik\",\"semua\",\"hola\",\"went\",\"vos\",\"tanto\",\"finally\",\"fb\",\"sea\",\"stupid\",\"tus\",\"seriously\",\"hora\",\"min\",\"pic\",\"estas\",\"turn\",\"hours\",\"excited\",\"nah\",\"buy\",\"saying\",\"mah\",\"break\",\"needs\",\"ce\",\"room\",\"choice\",\"far\",\"dead\",\"quero\",\"saw\",\"kids\",\"lil\",\"whole\",\"puede\",\"fall\",\"sus\",\"lost\",\"asi\",\"word\",\"\\u2639\",\"also\",\"\\u0631\\u064a\\u062a\\u0648\\u064a\\u062a\",\"probably\",\"everybody\",\"tarde\",\"run\",\"sei\",\"follback\",\"forget\",\"sweet\",\"welcome\",\"selamat\",\"\\uff3f\",\"sur\",\"place\",\"gusta\",\"sabe\",\"androidgames\",\"tp\",\"tiempo\",\"\\u0628\\u0633\",\"sou\",\"tuh\",\"vs\",\"eyes\",\"\\u0627\\u0646\\u0627\",\"picture\",\"das\",\"meet\",\"anak\",\"persona\",\"essa\",\"bored\",\"following\",\"nadie\",\"nobody\",\"dice\",\"alone\",\"sick\",\"red\",\"city\",\"cinta\",\"\\u6708\",\"linda\",\"dream\",\"story\",\"km\",\"het\",\"waiting\",\"^_^\",\"mine\",\"\\u0447\\u0442\\u043e\",\"reason\",\"kk\",\"\\u0644\\u0648\",\"online\",\"fast\",\"udh\",\"wanted\",\"op\",\"others\",\"gay\",\"n\\u2019t\",\"used\",\"sem\",\"understand\",\"moi\",\"sm\",\"aint\",\"donde\",\"bem\",\"which\",\"ng\",\"followback\",\"punya\",\"late\",\"anda\",\"tidur\",\"puedo\",\"early\",\"nd\",\"personas\",\"banyak\",\"\\u2705\",\"\\u278a\",\"trust\",\"noche\",\"tl\",\"\\uff1e\",\"\\u00ab\",\"af\",\"move\",\"pro\",\"bring\",\"ku\",\"called\",\"relationship\",\"idk\",\"hurt\",\"st\",\"pernah\",\"pessoas\",\"hello\",\"uno\",\"unfollowers\",\"cry\"],\"x\":{\"__ndarray__\":\"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\",\"dtype\":\"float32\",\"order\":\"little\",\"shape\":[1000]},\"y\":{\"__ndarray__\":\"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\",\"dtype\":\"float32\",\"order\":\"little\",\"shape\":[1000]}},\"selected\":{\"id\":\"1302\"},\"selection_policy\":{\"id\":\"1301\"}},\"id\":\"1242\",\"type\":\"ColumnDataSource\"},{\"attributes\":{},\"id\":\"1260\",\"type\":\"PanTool\"},{\"attributes\":{\"coordinates\":null,\"group\":null},\"id\":\"1293\",\"type\":\"Title\"},{\"attributes\":{},\"id\":\"1261\",\"type\":\"WheelZoomTool\"},{\"attributes\":{\"overlay\":{\"id\":\"1266\"}},\"id\":\"1262\",\"type\":\"BoxZoomTool\"},{\"attributes\":{},\"id\":\"1248\",\"type\":\"LinearScale\"},{\"attributes\":{},\"id\":\"1263\",\"type\":\"SaveTool\"},{\"attributes\":{},\"id\":\"1300\",\"type\":\"AllLabels\"},{\"attributes\":{},\"id\":\"1264\",\"type\":\"ResetTool\"},{\"attributes\":{\"fill_alpha\":{\"value\":0.25},\"fill_color\":{\"field\":\"color\"},\"hatch_alpha\":{\"value\":0.25},\"hatch_color\":{\"field\":\"color\"},\"line_alpha\":{\"value\":0.25},\"line_color\":{\"field\":\"color\"},\"size\":{\"value\":10},\"x\":{\"field\":\"x\"},\"y\":{\"field\":\"y\"}},\"id\":\"1275\",\"type\":\"Scatter\"},{\"attributes\":{},\"id\":\"1301\",\"type\":\"UnionRenderers\"},{\"attributes\":{},\"id\":\"1265\",\"type\":\"HelpTool\"},{\"attributes\":{},\"id\":\"1250\",\"type\":\"LinearScale\"},{\"attributes\":{},\"id\":\"1297\",\"type\":\"AllLabels\"},{\"attributes\":{\"coordinates\":null,\"formatter\":{\"id\":\"1299\"},\"group\":null,\"major_label_policy\":{\"id\":\"1300\"},\"ticker\":{\"id\":\"1253\"}},\"id\":\"1252\",\"type\":\"LinearAxis\"},{\"attributes\":{\"active_scroll\":{\"id\":\"1261\"},\"tools\":[{\"id\":\"1260\"},{\"id\":\"1261\"},{\"id\":\"1262\"},{\"id\":\"1263\"},{\"id\":\"1264\"},{\"id\":\"1265\"},{\"id\":\"1280\"}]},\"id\":\"1267\",\"type\":\"Toolbar\"},{\"attributes\":{},\"id\":\"1257\",\"type\":\"BasicTicker\"},{\"attributes\":{\"bottom_units\":\"screen\",\"coordinates\":null,\"fill_alpha\":0.5,\"fill_color\":\"lightgrey\",\"group\":null,\"left_units\":\"screen\",\"level\":\"overlay\",\"line_alpha\":1.0,\"line_color\":\"black\",\"line_dash\":[4,4],\"line_width\":2,\"right_units\":\"screen\",\"syncable\":false,\"top_units\":\"screen\"},\"id\":\"1266\",\"type\":\"BoxAnnotation\"},{\"attributes\":{},\"id\":\"1253\",\"type\":\"BasicTicker\"},{\"attributes\":{\"callback\":null,\"tooltips\":[[\"token\",\"@token\"]]},\"id\":\"1280\",\"type\":\"HoverTool\"},{\"attributes\":{},\"id\":\"1302\",\"type\":\"Selection\"},{\"attributes\":{\"axis\":{\"id\":\"1252\"},\"coordinates\":null,\"group\":null,\"ticker\":null},\"id\":\"1255\",\"type\":\"Grid\"},{\"attributes\":{\"fill_alpha\":{\"value\":0.2},\"fill_color\":{\"field\":\"color\"},\"hatch_alpha\":{\"value\":0.2},\"hatch_color\":{\"field\":\"color\"},\"line_alpha\":{\"value\":0.2},\"line_color\":{\"field\":\"color\"},\"size\":{\"value\":10},\"x\":{\"field\":\"x\"},\"y\":{\"field\":\"y\"}},\"id\":\"1277\",\"type\":\"Scatter\"},{\"attributes\":{},\"id\":\"1299\",\"type\":\"BasicTickFormatter\"},{\"attributes\":{\"axis\":{\"id\":\"1256\"},\"coordinates\":null,\"dimension\":1,\"group\":null,\"ticker\":null},\"id\":\"1259\",\"type\":\"Grid\"},{\"attributes\":{\"coordinates\":null,\"formatter\":{\"id\":\"1296\"},\"group\":null,\"major_label_policy\":{\"id\":\"1297\"},\"ticker\":{\"id\":\"1257\"}},\"id\":\"1256\",\"type\":\"LinearAxis\"},{\"attributes\":{\"coordinates\":null,\"data_source\":{\"id\":\"1242\"},\"glyph\":{\"id\":\"1275\"},\"group\":null,\"hover_glyph\":null,\"muted_glyph\":{\"id\":\"1277\"},\"nonselection_glyph\":{\"id\":\"1276\"},\"view\":{\"id\":\"1279\"}},\"id\":\"1278\",\"type\":\"GlyphRenderer\"},{\"attributes\":{},\"id\":\"1296\",\"type\":\"BasicTickFormatter\"},{\"attributes\":{\"fill_alpha\":{\"value\":0.1},\"fill_color\":{\"field\":\"color\"},\"hatch_alpha\":{\"value\":0.1},\"hatch_color\":{\"field\":\"color\"},\"line_alpha\":{\"value\":0.1},\"line_color\":{\"field\":\"color\"},\"size\":{\"value\":10},\"x\":{\"field\":\"x\"},\"y\":{\"field\":\"y\"}},\"id\":\"1276\",\"type\":\"Scatter\"}],\"root_ids\":[\"1243\"]},\"title\":\"Bokeh Application\",\"version\":\"2.4.1\"}};\n  const render_items = [{\"docid\":\"74c7d93d-e487-4e13-9984-71ee3aae4ee3\",\"root_ids\":[\"1243\"],\"roots\":{\"1243\":\"d5d63d72-2922-4353-bff6-4cc5f2166d99\"}}];\n  root.Bokeh.embed.embed_items_notebook(docs_json, render_items);\n\n  }\n  if (root.Bokeh !== undefined) {\n    embed_document(root);\n  } else {\n    let attempts = 0;\n    const timer = setInterval(function(root) {\n      if (root.Bokeh !== undefined) {\n        clearInterval(timer);\n        embed_document(root);\n      } else {\n        attempts++;\n        if (attempts > 100) {\n          clearInterval(timer);\n          console.log(\"Bokeh: ERROR: Unable to run BokehJS code because BokehJS library is missing\");\n        }\n      }\n    }, 10, root)\n  }\n})(window);",
      "application/vnd.bokehjs_exec.v0+json": ""
     },
     "metadata": {
      "application/vnd.bokehjs_exec.v0+json": {
       "id": "1243"
      }
     },
     "output_type": "display_data"
    }
   ]
  },
  {
   "cell_type": "markdown",
   "metadata": {
    "id": "W5Zc19Pk5wAf",
    "pycharm": {
     "name": "#%% md\n"
    }
   },
   "source": [
    "### Visualizing phrases\n",
    "\n",
    "Word embeddings can also be used to represent short phrases. The simplest way is to take __an average__ of vectors for all tokens in the phrase with some weights.\n",
    "\n",
    "This trick is useful to identify what data are you working with: find if there are any outliers, clusters or other artefacts.\n",
    "\n",
    "Let's try this new hammer on our data!\n"
   ]
  },
  {
   "cell_type": "code",
   "metadata": {
    "collapsed": true,
    "id": "L2ttOVSh5wAf",
    "pycharm": {
     "name": "#%%\n"
    }
   },
   "source": [
    "def get_phrase_embedding(phrase):\n",
    "    \"\"\"\n",
    "    Convert phrase to a vector by aggregating it's word embeddings. See description above.\n",
    "    \"\"\"\n",
    "    # 1. lowercase phrase\n",
    "    # 2. tokenize phrase\n",
    "    # 3. average word vectors for all words in tokenized phrase\n",
    "    # skip words that are not in model's vocabulary\n",
    "    # if all words are missing from vocabulary, return zeros\n",
    "\n",
    "    phrase_vector = np.zeros([model.vector_size], dtype='float32')\n",
    "\n",
    "    phrase_tokens = tokenizer.tokenize(phrase.lower())\n",
    "    vectors = [model.get_vector(token) for token in phrase_tokens if token in model.vocab]\n",
    "    if vectors:\n",
    "        vectors = np.stack(vectors)\n",
    "    else:\n",
    "        vectors = np.zeros([model.vector_size], dtype='float32')\n",
    "    phrase_vector += np.mean(vectors, axis=0)\n",
    "\n",
    "    return phrase_vector"
   ],
   "execution_count": 31,
   "outputs": []
  },
  {
   "cell_type": "code",
   "metadata": {
    "collapsed": true,
    "id": "eTEke0am5wAg",
    "pycharm": {
     "name": "#%%\n"
    }
   },
   "source": [
    "vector = get_phrase_embedding(\"I'm very sure. This never happened to me before...\")\n",
    "\n",
    "assert np.allclose(vector[::10],\n",
    "                   np.array([ 0.31807372, -0.02558171,  0.0933293 , -0.1002182 , -1.0278689 ,\n",
    "                             -0.16621883,  0.05083408,  0.17989802,  1.3701859 ,  0.08655966],\n",
    "                              dtype=np.float32))"
   ],
   "execution_count": 32,
   "outputs": []
  },
  {
   "cell_type": "code",
   "metadata": {
    "collapsed": true,
    "id": "m55l76VP5wAg",
    "pycharm": {
     "name": "#%%\n"
    }
   },
   "source": [
    "# let's only consider ~5k phrases for a first run.\n",
    "chosen_phrases = data[::len(data) // 1000]\n",
    "\n",
    "# compute vectors for chosen phrases\n",
    "phrase_vectors = np.array([get_phrase_embedding(phrase) for phrase in chosen_phrases])"
   ],
   "execution_count": 25,
   "outputs": []
  },
  {
   "cell_type": "code",
   "metadata": {
    "collapsed": true,
    "id": "Lby7qJVo5wAg",
    "pycharm": {
     "name": "#%%\n"
    }
   },
   "source": [
    "assert isinstance(phrase_vectors, np.ndarray) and np.isfinite(phrase_vectors).all()\n",
    "assert phrase_vectors.shape == (len(chosen_phrases), model.vector_size)"
   ],
   "execution_count": 26,
   "outputs": []
  },
  {
   "cell_type": "code",
   "metadata": {
    "collapsed": true,
    "id": "EWyZBMVN5wAg",
    "pycharm": {
     "name": "#%%\n"
    }
   },
   "source": [
    "# map vectors into 2d space with pca, tsne or your other method of choice\n",
    "# don't forget to normalize\n",
    "\n",
    "phrase_vectors_2d = TSNE().fit_transform(phrase_vectors)\n",
    "\n",
    "phrase_vectors_2d = (phrase_vectors_2d - phrase_vectors_2d.mean(axis=0)) / phrase_vectors_2d.std(axis=0)"
   ],
   "execution_count": 27,
   "outputs": []
  },
  {
   "cell_type": "code",
   "metadata": {
    "collapsed": true,
    "id": "xg8utsU55wAg",
    "pycharm": {
     "name": "#%%\n"
    }
   },
   "source": [
    "_ = draw_vectors(phrase_vectors_2d[:, 0], phrase_vectors_2d[:, 1],\n",
    "             phrase=[phrase[:50] for phrase in chosen_phrases],\n",
    "             radius=20,)"
   ],
   "execution_count": 28,
   "outputs": [
    {
     "data": {
      "text/html": "\n\n\n\n\n\n  <div class=\"bk-root\" id=\"8e68c3ad-a8e3-41be-bde4-f74761b2da6b\" data-root-id=\"1515\"></div>\n"
     },
     "metadata": {},
     "output_type": "display_data"
    },
    {
     "data": {
      "application/javascript": "(function(root) {\n  function embed_document(root) {\n    \n  const docs_json = {\"20c38d18-4360-4568-8bbe-f4044496b9af\":{\"defs\":[],\"roots\":{\"references\":[{\"attributes\":{\"below\":[{\"id\":\"1524\"}],\"center\":[{\"id\":\"1527\"},{\"id\":\"1531\"}],\"height\":400,\"left\":[{\"id\":\"1528\"}],\"renderers\":[{\"id\":\"1550\"}],\"title\":{\"id\":\"1576\"},\"toolbar\":{\"id\":\"1539\"},\"x_range\":{\"id\":\"1516\"},\"x_scale\":{\"id\":\"1520\"},\"y_range\":{\"id\":\"1518\"},\"y_scale\":{\"id\":\"1522\"}},\"id\":\"1515\",\"subtype\":\"Figure\",\"type\":\"Plot\"},{\"attributes\":{\"bottom_units\":\"screen\",\"coordinates\":null,\"fill_alpha\":0.5,\"fill_color\":\"lightgrey\",\"group\":null,\"left_units\":\"screen\",\"level\":\"overlay\",\"line_alpha\":1.0,\"line_color\":\"black\",\"line_dash\":[4,4],\"line_width\":2,\"right_units\":\"screen\",\"syncable\":false,\"top_units\":\"screen\"},\"id\":\"1538\",\"type\":\"BoxAnnotation\"},{\"attributes\":{},\"id\":\"1529\",\"type\":\"BasicTicker\"},{\"attributes\":{},\"id\":\"1580\",\"type\":\"AllLabels\"},{\"attributes\":{\"axis\":{\"id\":\"1524\"},\"coordinates\":null,\"group\":null,\"ticker\":null},\"id\":\"1527\",\"type\":\"Grid\"},{\"attributes\":{\"axis\":{\"id\":\"1528\"},\"coordinates\":null,\"dimension\":1,\"group\":null,\"ticker\":null},\"id\":\"1531\",\"type\":\"Grid\"},{\"attributes\":{\"coordinates\":null,\"formatter\":{\"id\":\"1579\"},\"group\":null,\"major_label_policy\":{\"id\":\"1580\"},\"ticker\":{\"id\":\"1529\"}},\"id\":\"1528\",\"type\":\"LinearAxis\"},{\"attributes\":{\"coordinates\":null,\"group\":null},\"id\":\"1576\",\"type\":\"Title\"},{\"attributes\":{},\"id\":\"1584\",\"type\":\"UnionRenderers\"},{\"attributes\":{\"source\":{\"id\":\"1514\"}},\"id\":\"1551\",\"type\":\"CDSView\"},{\"attributes\":{\"fill_alpha\":{\"value\":0.1},\"fill_color\":{\"field\":\"color\"},\"hatch_alpha\":{\"value\":0.1},\"hatch_color\":{\"field\":\"color\"},\"line_alpha\":{\"value\":0.1},\"line_color\":{\"field\":\"color\"},\"size\":{\"value\":20},\"x\":{\"field\":\"x\"},\"y\":{\"field\":\"y\"}},\"id\":\"1548\",\"type\":\"Scatter\"},{\"attributes\":{\"data\":{\"color\":[\"blue\",\"blue\",\"blue\",\"blue\",\"blue\",\"blue\",\"blue\",\"blue\",\"blue\",\"blue\",\"blue\",\"blue\",\"blue\",\"blue\",\"blue\",\"blue\",\"blue\",\"blue\",\"blue\",\"blue\",\"blue\",\"blue\",\"blue\",\"blue\",\"blue\",\"blue\",\"blue\",\"blue\",\"blue\",\"blue\",\"blue\",\"blue\",\"blue\",\"blue\",\"blue\",\"blue\",\"blue\",\"blue\",\"blue\",\"blue\",\"blue\",\"blue\",\"blue\",\"blue\",\"blue\",\"blue\",\"blue\",\"blue\",\"blue\",\"blue\",\"blue\",\"blue\",\"blue\",\"blue\",\"blue\",\"blue\",\"blue\",\"blue\",\"blue\",\"blue\",\"blue\",\"blue\",\"blue\",\"blue\",\"blue\",\"blue\",\"blue\",\"blue\",\"blue\",\"blue\",\"blue\",\"blue\",\"blue\",\"blue\",\"blue\",\"blue\",\"blue\",\"blue\",\"blue\",\"blue\",\"blue\",\"blue\",\"blue\",\"blue\",\"blue\",\"blue\",\"blue\",\"blue\",\"blue\",\"blue\",\"blue\",\"blue\",\"blue\",\"blue\",\"blue\",\"blue\",\"blue\",\"blue\",\"blue\",\"blue\",\"blue\",\"blue\",\"blue\",\"blue\",\"blue\",\"blue\",\"blue\",\"blue\",\"blue\",\"blue\",\"blue\",\"blue\",\"blue\",\"blue\",\"blue\",\"blue\",\"blue\",\"blue\",\"blue\",\"blue\",\"blue\",\"blue\",\"blue\",\"blue\",\"blue\",\"blue\",\"blue\",\"blue\",\"blue\",\"blue\",\"blue\",\"blue\",\"blue\",\"blue\",\"blue\",\"blue\",\"blue\",\"blue\",\"blue\",\"blue\",\"blue\",\"blue\",\"blue\",\"blue\",\"blue\",\"blue\",\"blue\",\"blue\",\"blue\",\"blue\",\"blue\",\"blue\",\"blue\",\"blue\",\"blue\",\"blue\",\"blue\",\"blue\",\"blue\",\"blue\",\"blue\",\"blue\",\"blue\",\"blue\",\"blue\",\"blue\",\"blue\",\"blue\",\"blue\",\"blue\",\"blue\",\"blue\",\"blue\",\"blue\",\"blue\",\"blue\",\"blue\",\"blue\",\"blue\",\"blue\",\"blue\",\"blue\",\"blue\",\"blue\",\"blue\",\"blue\",\"blue\",\"blue\",\"blue\",\"blue\",\"blue\",\"blue\",\"blue\",\"blue\",\"blue\",\"blue\",\"blue\",\"blue\",\"blue\",\"blue\",\"blue\",\"blue\",\"blue\",\"blue\",\"blue\",\"blue\",\"blue\",\"blue\",\"blue\",\"blue\",\"blue\",\"blue\",\"blue\",\"blue\",\"blue\",\"blue\",\"blue\",\"blue\",\"blue\",\"blue\",\"blue\",\"blue\",\"blue\",\"blue\",\"blue\",\"blue\",\"blue\",\"blue\",\"blue\",\"blue\",\"blue\",\"blue\",\"blue\",\"blue\",\"blue\",\"blue\",\"blue\",\"blue\",\"blue\",\"blue\",\"blue\",\"blue\",\"blue\",\"blue\",\"blue\",\"blue\",\"blue\",\"blue\",\"blue\",\"blue\",\"blue\",\"blue\",\"blue\",\"blue\",\"blue\",\"blue\",\"blue\",\"blue\",\"blue\",\"blue\",\"blue\",\"blue\",\"blue\",\"blue\",\"blue\",\"blue\",\"blue\",\"blue\",\"blue\",\"blue\",\"blue\",\"blue\",\"blue\",\"blue\",\"blue\",\"blue\",\"blue\",\"blue\",\"blue\",\"blue\",\"blue\",\"blue\",\"blue\",\"blue\",\"blue\",\"blue\",\"blue\",\"blue\",\"blue\",\"blue\",\"blue\",\"blue\",\"blue\",\"blue\",\"blue\",\"blue\",\"blue\",\"blue\",\"blue\",\"blue\",\"blue\",\"blue\",\"blue\",\"blue\",\"blue\",\"blue\",\"blue\",\"blue\",\"blue\",\"blue\",\"blue\",\"blue\",\"blue\",\"blue\",\"blue\",\"blue\",\"blue\",\"blue\",\"blue\",\"blue\",\"blue\",\"blue\",\"blue\",\"blue\",\"blue\",\"blue\",\"blue\",\"blue\",\"blue\",\"blue\",\"blue\",\"blue\",\"blue\",\"blue\",\"blue\",\"blue\",\"blue\",\"blue\",\"blue\",\"blue\",\"blue\",\"blue\",\"blue\",\"blue\",\"blue\",\"blue\",\"blue\",\"blue\",\"blue\",\"blue\",\"blue\",\"blue\",\"blue\",\"blue\",\"blue\",\"blue\",\"blue\",\"blue\",\"blue\",\"blue\",\"blue\",\"blue\",\"blue\",\"blue\",\"blue\",\"blue\",\"blue\",\"blue\",\"blue\",\"blue\",\"blue\",\"blue\",\"blue\",\"blue\",\"blue\",\"blue\",\"blue\",\"blue\",\"blue\",\"blue\",\"blue\",\"blue\",\"blue\",\"blue\",\"blue\",\"blue\",\"blue\",\"blue\",\"blue\",\"blue\",\"blue\",\"blue\",\"blue\",\"blue\",\"blue\",\"blue\",\"blue\",\"blue\",\"blue\",\"blue\",\"blue\",\"blue\",\"blue\",\"blue\",\"blue\",\"blue\",\"blue\",\"blue\",\"blue\",\"blue\",\"blue\",\"blue\",\"blue\",\"blue\",\"blue\",\"blue\",\"blue\",\"blue\",\"blue\",\"blue\",\"blue\",\"blue\",\"blue\",\"blue\",\"blue\",\"blue\",\"blue\",\"blue\",\"blue\",\"blue\",\"blue\",\"blue\",\"blue\",\"blue\",\"blue\",\"blue\",\"blue\",\"blue\",\"blue\",\"blue\",\"blue\",\"blue\",\"blue\",\"blue\",\"blue\",\"blue\",\"blue\",\"blue\",\"blue\",\"blue\",\"blue\",\"blue\",\"blue\",\"blue\",\"blue\",\"blue\",\"blue\",\"blue\",\"blue\",\"blue\",\"blue\",\"blue\",\"blue\",\"blue\",\"blue\",\"blue\",\"blue\",\"blue\",\"blue\",\"blue\",\"blue\",\"blue\",\"blue\",\"blue\",\"blue\",\"blue\",\"blue\",\"blue\",\"blue\",\"blue\",\"blue\",\"blue\",\"blue\",\"blue\",\"blue\",\"blue\",\"blue\",\"blue\",\"blue\",\"blue\",\"blue\",\"blue\",\"blue\",\"blue\",\"blue\",\"blue\",\"blue\",\"blue\",\"blue\",\"blue\",\"blue\",\"blue\",\"blue\",\"blue\",\"blue\",\"blue\",\"blue\",\"blue\",\"blue\",\"blue\",\"blue\",\"blue\",\"blue\",\"blue\",\"blue\",\"blue\",\"blue\",\"blue\",\"blue\",\"blue\",\"blue\",\"blue\",\"blue\",\"blue\",\"blue\",\"blue\",\"blue\",\"blue\",\"blue\",\"blue\",\"blue\",\"blue\",\"blue\",\"blue\",\"blue\",\"blue\",\"blue\",\"blue\",\"blue\",\"blue\",\"blue\",\"blue\",\"blue\",\"blue\",\"blue\",\"blue\",\"blue\",\"blue\",\"blue\",\"blue\",\"blue\",\"blue\",\"blue\",\"blue\",\"blue\",\"blue\",\"blue\",\"blue\",\"blue\",\"blue\",\"blue\",\"blue\",\"blue\",\"blue\",\"blue\",\"blue\",\"blue\",\"blue\",\"blue\",\"blue\",\"blue\",\"blue\",\"blue\",\"blue\",\"blue\",\"blue\",\"blue\",\"blue\",\"blue\",\"blue\",\"blue\",\"blue\",\"blue\",\"blue\",\"blue\",\"blue\",\"blue\",\"blue\",\"blue\",\"blue\",\"blue\",\"blue\",\"blue\",\"blue\",\"blue\",\"blue\",\"blue\",\"blue\",\"blue\",\"blue\",\"blue\",\"blue\",\"blue\",\"blue\",\"blue\",\"blue\",\"blue\",\"blue\",\"blue\",\"blue\",\"blue\",\"blue\",\"blue\",\"blue\",\"blue\",\"blue\",\"blue\",\"blue\",\"blue\",\"blue\",\"blue\",\"blue\",\"blue\",\"blue\",\"blue\",\"blue\",\"blue\",\"blue\",\"blue\",\"blue\",\"blue\",\"blue\",\"blue\",\"blue\",\"blue\",\"blue\",\"blue\",\"blue\",\"blue\",\"blue\",\"blue\",\"blue\",\"blue\",\"blue\",\"blue\",\"blue\",\"blue\",\"blue\",\"blue\",\"blue\",\"blue\",\"blue\",\"blue\",\"blue\",\"blue\",\"blue\",\"blue\",\"blue\",\"blue\",\"blue\",\"blue\",\"blue\",\"blue\",\"blue\",\"blue\",\"blue\",\"blue\",\"blue\",\"blue\",\"blue\",\"blue\",\"blue\",\"blue\",\"blue\",\"blue\",\"blue\",\"blue\",\"blue\",\"blue\",\"blue\",\"blue\",\"blue\",\"blue\",\"blue\",\"blue\",\"blue\",\"blue\",\"blue\",\"blue\",\"blue\",\"blue\",\"blue\",\"blue\",\"blue\",\"blue\",\"blue\",\"blue\",\"blue\",\"blue\",\"blue\",\"blue\",\"blue\",\"blue\",\"blue\",\"blue\",\"blue\",\"blue\",\"blue\",\"blue\",\"blue\",\"blue\",\"blue\",\"blue\",\"blue\",\"blue\",\"blue\",\"blue\",\"blue\",\"blue\",\"blue\",\"blue\",\"blue\",\"blue\",\"blue\",\"blue\",\"blue\",\"blue\",\"blue\",\"blue\",\"blue\",\"blue\",\"blue\",\"blue\",\"blue\",\"blue\",\"blue\",\"blue\",\"blue\",\"blue\",\"blue\",\"blue\",\"blue\",\"blue\",\"blue\",\"blue\",\"blue\",\"blue\",\"blue\",\"blue\",\"blue\",\"blue\",\"blue\",\"blue\",\"blue\",\"blue\",\"blue\",\"blue\",\"blue\",\"blue\",\"blue\",\"blue\",\"blue\",\"blue\",\"blue\",\"blue\",\"blue\",\"blue\",\"blue\",\"blue\",\"blue\",\"blue\",\"blue\",\"blue\",\"blue\",\"blue\",\"blue\",\"blue\",\"blue\",\"blue\",\"blue\",\"blue\",\"blue\",\"blue\",\"blue\",\"blue\",\"blue\",\"blue\",\"blue\",\"blue\",\"blue\",\"blue\",\"blue\",\"blue\",\"blue\",\"blue\",\"blue\",\"blue\",\"blue\",\"blue\",\"blue\",\"blue\",\"blue\",\"blue\",\"blue\",\"blue\",\"blue\",\"blue\",\"blue\",\"blue\",\"blue\",\"blue\",\"blue\",\"blue\",\"blue\",\"blue\",\"blue\",\"blue\",\"blue\",\"blue\",\"blue\",\"blue\",\"blue\",\"blue\",\"blue\",\"blue\",\"blue\",\"blue\",\"blue\",\"blue\",\"blue\",\"blue\",\"blue\",\"blue\",\"blue\",\"blue\",\"blue\",\"blue\",\"blue\",\"blue\",\"blue\",\"blue\",\"blue\",\"blue\",\"blue\",\"blue\",\"blue\",\"blue\",\"blue\",\"blue\",\"blue\",\"blue\",\"blue\",\"blue\",\"blue\",\"blue\",\"blue\",\"blue\",\"blue\",\"blue\",\"blue\",\"blue\",\"blue\",\"blue\",\"blue\",\"blue\",\"blue\",\"blue\",\"blue\",\"blue\",\"blue\",\"blue\",\"blue\",\"blue\",\"blue\",\"blue\",\"blue\",\"blue\",\"blue\",\"blue\",\"blue\",\"blue\",\"blue\",\"blue\",\"blue\",\"blue\",\"blue\",\"blue\",\"blue\",\"blue\",\"blue\",\"blue\",\"blue\",\"blue\",\"blue\",\"blue\",\"blue\",\"blue\",\"blue\",\"blue\",\"blue\",\"blue\",\"blue\",\"blue\",\"blue\",\"blue\",\"blue\",\"blue\",\"blue\",\"blue\",\"blue\",\"blue\",\"blue\",\"blue\",\"blue\",\"blue\",\"blue\",\"blue\",\"blue\",\"blue\",\"blue\",\"blue\",\"blue\",\"blue\",\"blue\",\"blue\",\"blue\",\"blue\",\"blue\",\"blue\",\"blue\",\"blue\",\"blue\",\"blue\",\"blue\",\"blue\",\"blue\",\"blue\",\"blue\",\"blue\",\"blue\",\"blue\",\"blue\",\"blue\",\"blue\",\"blue\",\"blue\",\"blue\",\"blue\",\"blue\",\"blue\",\"blue\",\"blue\",\"blue\",\"blue\",\"blue\",\"blue\",\"blue\",\"blue\",\"blue\",\"blue\",\"blue\",\"blue\",\"blue\",\"blue\",\"blue\",\"blue\",\"blue\",\"blue\",\"blue\",\"blue\",\"blue\",\"blue\",\"blue\",\"blue\",\"blue\",\"blue\",\"blue\",\"blue\",\"blue\",\"blue\",\"blue\",\"blue\",\"blue\",\"blue\",\"blue\",\"blue\",\"blue\",\"blue\",\"blue\",\"blue\",\"blue\",\"blue\",\"blue\",\"blue\",\"blue\",\"blue\",\"blue\",\"blue\",\"blue\",\"blue\",\"blue\"],\"phrase\":[\"Can I get back with my ex even though she is pregn\",\"What is the best way to become an arms dealer in t\",\"Why doesn't Japan contribute to peace and prosperi\",\"Which is the best Panasonic air conditioner servic\",\"What did ancient Egyptians believe about the after\",\"How does one prepare for the RBI grade B officers \",\"Which institutions in Kolkata give coaching for en\",\"Will omar bravo be in fifa 17?\\n\",\"What are the pros and cons of arranged marriages?\\n\",\"What will happen if all the vegetable dies?\\n\",\"Why do people hate hypocrites?\\n\",\"What do you consider poor, middle class, wealthy a\",\"How do I concentrate on my studies?\\n\",\"What is new age psychobabble?\\n\",\"How can you tell if your man is cheating even if h\",\"Can you see yourself during lucid dreaming?\\n\",\"Which browser is most safe in terms of privacy and\",\"Can Google Assistant run on OnePlus 3T?\\n\",\"Apart from the VW Vento / Polo and Skoda Rapid, ar\",\"What is Panera Bread?\\n\",\"Do athletes live longer and healthier? If not, why\",\"Could a pitbull take on a wolf in a fight?\\n\",\"What has Obama done for Latinos/Hispanics?\\n\",\"How much is |x|^2?\\n\",\"How does operator.com work?\\n\",\"Why do people not make movies/talk about the Romas\",\"What were the major contributions of the political\",\"Company Secretaries (CS): How do I prepare for CS \",\"What are the job prospects of chemical engineers a\",\"I have never gone to a bank. How do I put money in\",\"What is the best strategy to prepare for the GATE \",\"Who is this porn star?\\n\",\"Why are specs & sunglasses so expensive?\\n\",\"I installed the movie torrent with Ultra XVid Code\",\"Can we ride scootry with learning lisence age of 1\",\"Two cards were drawn, without replacement, from a \",\"How much money is needed per month to live in indi\",\"Why do companies issue bonus shares?\\n\",\"Why are Iranians and Afghans considered white Amer\",\"Could mumps cause deafness?\\n\",\"What is meaning of sadaka?\\n\",\"What should I know before starting a YouTube caree\",\"Is the ITI College Principal is gazetted officer?\\n\",\"How do you feel now that Donald Trump is now the P\",\"What is the difference between imperial units and \",\"What is the easiest way to do effective self hypno\",\"Why has China increased its involvement in the Syr\",\"From which year CBSE class 10th exam be reintroduc\",\"Is 1080p a Blu-ray?\\n\",\"Does using mirrors to concentrate thermal energy d\",\"How do I avoid attractions by phones?\\n\",\"What are some of the effects of education can you \",\"What are the characteristics of a Pisces Sun/Libra\",\"What is the most cost-effective option to ship pac\",\"Are red and blue complementary colors?\\n\",\"Is it possible to make a material that is a superc\",\"What is the best Shonen Jump manga?\\n\",\"Are Oracle and Cisco good companies for a new grad\",\"If lighting a match is considered a chemical chang\",\"Why is Hillary so afraid of Putin?\\n\",\"Which is the best book to study electronics basics\",\"What are the basics I should know before learning \",\"Can I use Cph4 on a day to day basis?\\n\",\"Is it safe when I buy things from China?\\n\",\"Why did some ethnic minorities support Brexit?\\n\",\"How much money has tinder made?\\n\",\"What is the limit?\\n\",\"Will browsing Facebook while connected to Tor reve\",\"If I get 68.4 percent in ftre 2016 class 10 then w\",\"No product market fit: change product or market fi\",\"What makes you sad about India?\\n\",\"How do I know if someone has read my messages on w\",\"Why there is a sound when we crack our knuckles?\\n\",\"Why do I only make friends with guys?\\n\",\"What is 'open-mindedness'?\\n\",\"What is the cause of carpal tunnel syndrome?\\n\",\"What is the difference between a \\\"slow cooker\\\" and\",\"What is Hillary Clinton's stance on nuclear energy\",\"Do IIT colleges require a caste validity for an ST\",\"How do I listen a song from you?\\n\",\"Why do so many Iranians immigrate to Canada?\\n\",\"What will happen to India-U.S. relations after Tru\",\"A program that stored five words in the memory the\",\"What are ways of joining to ISRO as engineer other\",\"Can Magneto defeat Hulk?\\n\",\"What time of year is it best to visit Singapore?\\n\",\"How do I study for ib?\\n\",\"What should I do if someone doesn't reply to my em\",\"How much does Manveer Singh Phogat gets for Dangal\",\"What is it like to be cannibal?\\n\",\"How can the Android app development companies help\",\"Who would you say is the most fun person in Israel\",\"How can one improve her figure and butt size witho\",\"As a company that provides travel agencies and tou\",\"What is the most beautiful thing you saw today?\\n\",\"Is gay flirting good?\\n\",\"Can I use Stripe in Europe?\\n\",\"Will Britain leaving the European Union lead to th\",\"Why are so many East Asian immigrants so averse to\",\"Why do we need computer networking?\\n\",\"What is retina detachment?\\n\",\"Why don't more bars have mechanical bulls?\\n\",\"How do I get better understanding of C++?\\n\",\"Which is the most profitable Porsche US dealer?\\n\",\"What are the best over the ear headphones for abou\",\"Is it true that the first kill is the hardest?\\n\",\"Which is best 32 inch led tv to buy below 20,000 I\",\"I am scoring 130/506 in FiitJEE aits part test adv\",\"What kind of websites are missing from the Interne\",\"What is the best way to use free time at IITB?\\n\",\"Is it possible for me to buy my first company usin\",\"What should I do to have sex with as many women as\",\"What is the scope of Executive MBA in India?\\n\",\"Which BMW models do not have a Hofmeister Kink?\\n\",\"What is yellow journalism?\\n\",\"Why do doctors charge uninsured patients 10 times \",\"Which one is the best public sector job or private\",\"Will social media ever help to spur on the US youn\",\"How should I know a video is 360 degree?\\n\",\"Is a practice manual sufficient for the CA Final I\",\"Career Advice: Being an Indian college student, ho\",\"What are the advantages and disadvantages of Li-Fi\",\"On Snapchat, I deleted someone. Can they re-add me\",\"Are there any cereals that taste good with water?\\n\",\"Why does a woman's vagina push a mans penis out?\\n\",\"What is the British word for bullpen?\\n\",\"How hard is it for international students to get a\",\"How did Revan build his foundation of his army in \",\"What is the best way to read a fictional book? Do \",\"How do you replace a ignition lock cylinder?\\n\",\"How can I prevent business failure?\\n\",\"How often do tides occur? What causes it?\\n\",\"How do I learn Calculus on my own?\\n\",\"What is the reason for Priyanka Gandhi not changin\",\"What should I eat when I'm sick with a cold or flu\",\"What is a Business Intelligence Analyst?\\n\",\"Which sports should I start to play to paticipate \",\"How should I prepare for Java fresher interview?\\n\",\"How different are cuisines of Arab countries?\\n\",\"What is the meaning of the phrase, all is fair in \",\"Why does Quora send me a notification that my ques\",\"What are the hardest obstacles to breaking into a \",\"What makes a falling snowflake large (or not)?\\n\",\"What is the compensation for Partners/Principals a\",\"What is the difference between an array and a vect\",\"If you kiss the NC State wolf do you become an NC \",\"Is it boring (from a social perspective) to live i\",\"What would have happened if in 1971 war all 93000 \",\"What are the easiest things to do while being abro\",\"Does getting root canal cause problem in speaking \",\"What is the definition of a truncated sentence and\",\"Would I look good with a nose ring? if yes which n\",\"What are the perks of working in Amazon?\\n\",\"How can we say that climate change does not bring \",\"What it is like to meet \\\"Shahid Kapoor\\\"?\\n\",\"How does it feel when you are dead?\\n\",\"Which is the best juicer, grinder or mixer in Indi\",\"How do I learn to think more logically?\\n\",\"Which movie has the best beginning ever?\\n\",\"Which laws been enacted to prevent family members \",\"What is iPhone 6s plus cost present?\\n\",\"What is Ohm's law and amperage I?\\n\",\"What is the nicest thing a stranger has done for y\",\"Why do some heroic people who do good things choos\",\"How will Hindus react if Babri Masjid is reconstru\",\"R2I - How did you plan R2I from US if you own the \",\"How can I master C programming in 7 days?\\n\",\"What is the right way to clean ear wax?\\n\",\"What are some good games to play during class?\\n\",\"Is it possible to hack WhatsApp messenger?\\n\",\"Why do airplanes carry more weight than helicopter\",\"Shaving: Do electric shavers work better than manu\",\"Has anyone benefited, health-wise, from essential \",\"Can Students at Hogwarts have sex while there? Doe\",\"How can we enhance our efficiency with Yoga?\\n\",\"What are the best app review sites and blogs?\\n\",\"Can two companies be registered on the same addres\",\"Is it true that as per Indian law, one can't be ha\",\"Who would win in a war between Bangladesh and Myan\",\"How do you reply when someone thanks you for forgi\",\"Who would win a fight between wolverine and Batman\",\"What is one thing you wish for yourself in the fut\",\"Can you cry underwater?\\n\",\"What's the difference between SSL, TLS, and HTTPS?\",\"Why are antigravity muscles more affected in Upper\",\"In order to buy a house, does one have to rent fir\",\"What is the probability of choosing a pink ball fr\",\"Which is the best car to get under 8 lakhs?\\n\",\"Why isn't China's role in the Korean and Vietnam w\",\"What is the Laplace transform of t^(1/2) * e^ (-1/\",\"To those who told a big lie to their parents and t\",\"What is runtime polymorphism or dynamic method dis\",\"I had sex 5 days after my period, what are the cha\",\"How would you describe yourself in one tweet?\\n\",\"How do fairy tales influence creativity in humans?\",\"How do I add delay() and sound() in Dev-C++?\\n\",\"What is the pathophysiology of ADHD?\\n\",\"What are the top benefits of life insurance polici\",\"Can I get a TV from Bang & Olufsen for under $2500\",\"How is the life of an ece student at dayananda sag\",\"What is meditation?\\n\",\"Were the Ancient Greeks scientists, or just philos\",\"How does Google authenticator work?\\n\",\"Wouldn't it be better if kids were allowed to focu\",\"Can you apply for a certificate on Coursera/edX af\",\"Why do Quora engineers use large monitors?\\n\",\"How do I start an online clothing business?\\n\",\"How will the government meet the challenges of acc\",\"I saw a charge on my credit card under from a comp\",\"What is the difference between socialization and r\",\"How would the world be different if everyone spoke\",\"Who receives the fares in a cab service?\\n\",\"As a non-resident alien doing a summer internship \",\"Which is the best camera smartphone under 20k?\\n\",\"What does it mean to dream about someone before th\",\"What are the subjects in which I can apply for my \",\"What are the basics of Jainism?\\n\",\"What is the Difference between existential nihilis\",\"How can I see my girlfriend's WhatsApp chat messag\",\"What are some ways to enjoy sex with my newly marr\",\"How can I study the Bible?\\n\",\"How can someone be a friend, girlfriend, wife and \",\"What are the Snapchat usernames of punjabi celebri\",\"What is 1/2 times 1/2?\\n\",\"Where does the word restaurant come from and what \",\"What can I do with a computational linguistics deg\",\"Will trump win as president?\\n\",\"What impact will AI eventually have on how we plan\",\"Why is eating too unhealthy?\\n\",\"What if the Syrian civil war never happened?\\n\",\"How do the teachings, learning, followership and/o\",\"Did you ever been in a group of stupid people?\\n\",\"What are the multiple types of social issues?\\n\",\"Where can I find beginner NodeJS tutorials that us\",\"If I got a 7.4 CGPA in the SA1 10 class, then can \",\"Which the best time table for 10th class exams pre\",\"Elite Escorts in DHA Lahore?\\n\",\"My ex bf says he doesn't have feelings for me righ\",\"What are the questions in the interview for a fres\",\"What do you think are some of benefits to humans f\",\"Which one is the best medical college hostel in in\",\"Have you lived in a tiny house?\\n\",\"What are some things new employees should know goi\",\"Where can I hire high pressure cleaning service in\",\"How many Bollywood Actresses consume alcohol in re\",\"How does PayU earn money?\\n\",\"Is it possible to change your personality as a chi\",\"How do I apply to London School of Economics as an\",\"How do I build a profile to get accepted into a st\",\"How can I get real ghost stories?\\n\",\"Is it possible to hack NASA's New Horizons satelli\",\"What is the best way of getting good at answering \",\"How would you deal with jerks?\\n\",\"How can I do internship in Accenture India?\\n\",\"Why would an Indian girl not want to get married?\\n\",\"My WhatsApp chat backup got deleted from Google, I\",\"Is going to college really worth it or just a wast\",\"How many prophets did God send to the Jews?\\n\",\"What is the relation and difference between Artifi\",\"If you don\\u2019t have a good network, what would be th\",\"What are the best place to visit in Rio de Janeiro\",\"Which is the best college for PG in Cyber Security\",\"Which are the best English serials?\\n\",\"How do you say \\u201cWhat\\u2019s up?\\u201d in Chinese?\\n\",\"Is it bad to take expired fish oil pills because t\",\"Will there ever be a genuine Authoritarian candida\",\"Is World War III on its way right now?\\n\",\"How can you use time formats in Excel?\\n\",\"What is the best antivirus for Windows 8?\\n\",\"Why do people like Metal/Hard rock so much?\\n\",\"What are the worst smelling things in the world?\\n\",\"Could someone explain the following electives at N\",\"What's a funny thing?\\n\",\"What are the main reason of cracks?\\n\",\"How do I hitchhike in Europe?\\n\",\"What is the physical significance of quantum mecha\",\"How do we get dead people off business junk mail l\",\"Who among the four in the picture given in descrip\",\"How do I know if I authentically, genuinely, hones\",\"On average, how long does it take a letter mail fr\",\"When will One Piece have episode 517 dubbed?\\n\",\"What should I do if I fell in love with my best fr\",\"How do criminal lawyers sleep at night even when t\",\"Can I get refund for Tatkal e-ticket because train\",\"How can I buy the new Macbook 12\\\" M7 512GB model i\",\"What are the different e-governance methods used b\",\"How do I run smoother GTA V? I have intel core i3 \",\"What is the use of tanpura?\\n\",\"What are the Snapchat usernames of celebrities?\\n\",\"Which is better- cracking gate and going for IIT/i\",\"Can you lose weight without exercising?\\n\",\"What is the best way to make life more interesting\",\"Is Delhi a must for UPSC coaching?\\n\",\"Which are the best colleges for electronics and in\",\"I have been a .Net developer for over 2 years and \",\"Has a smartphone ever been taken to space? If yes \",\"What questions should I ask my boyfriend, we are b\",\"How do I delete a contact blocked in WhatsApp?\\n\",\"Is it a good time to buy real estate in Cyprus?\\n\",\"South India: Why is South India much more develope\",\"What is the formula for a hydrocarbon?\\n\",\"What if an alien comes and tells us that the physi\",\"What are the pros & cons of democracy?\\n\",\"I'm 16 years old and wanted to lose weight and bod\",\"Can I add more peers to the torrent for max speed \",\"What are the best neighborhoods to Airbnb in Chica\",\"What we will get in mahabalipuram beach sunrise or\",\"How fast can you accelerate to the speed of light?\",\"What is the difference between R-squared and Adjus\",\"How many times can women reach orgasm in a hour an\",\"Why didn't Johor, Batam & Singapore integrate more\",\"Which products are more profitable in online sell?\",\"How do I get rid of muscle?\\n\",\"What is the process of directing and casting child\",\"Is the 7th pay commission needed?\\n\",\"What are the best games that are compatible on a C\",\"What was the significance of the battle of Somme, \",\"How do you see Pakistan PM Nawaz Sharif's speech a\",\"Where can I publish my apps?\\n\",\"What was your darkest moment?\\n\",\"Why does the UK have an unwritten Constitution?\\n\",\"What are the necessary steps in documenting a mobi\",\"Why was life created? Why was life so painful?\\n\",\"How can I use explainer video to review products o\",\"What is difference between residue and error?\\n\",\"If 6.5 to 8.5 will be the safe level of pH value i\",\"I am 23 and don't know what I want. My life is ver\",\"What are your three favorite websites for reading?\",\"Why do people choose to be a GAY?\\n\",\"What is the process of death?\\n\",\"Why does light red deserve the special name \\\"pink\\\"\",\"Who are millennials?\\n\",\"What it's like doing CA articleship from Big 4s?\\n\",\"What is the most important right or freedom guaran\",\"Why do some porn stars have unprotected sex?\\n\",\"What are my reasons to live?\\n\",\"How small would a planet need to be to plainly see\",\"Some religion speaks of burning in hell after deat\",\"What does it feel like to be an IITian?\\n\",\"How does cognitive behavioural therapy work?\\n\",\"Why should you visit India?\\n\",\"I lost my Google account information. How can I re\",\"What if I port a number from Airtel to Vodafone in\",\"What are the reasons why time travel is impossible\",\"Will my iPhone alarm still go off if \\\"Do Not Distu\",\"Did South Korea cheat during the 2014 Asian Games?\",\"Take the minimum lethal volume of a gaz, put it in\",\"\\\"How to improve Project Management skills?\\\"\\n\",\"When you were small, did you ever think that your \",\"Where did the pointy \\\"S\\\" symbol come from?\\n\",\"How does it feels like to have a rich boyfriend?\\n\",\"What have you used your intelligence for?\\n\",\"What is a freewheeling diode?\\n\",\"How do we derive pi?\\n\",\"What is the importance of communication skills in \",\"How can I put icons on YouTube video titles? Also \",\"What does the phrase \\\"resonate with me\\\" mean?\\n\",\"How many types do we have of Manual testing?\\n\",\"What are IBAN numbers?\\n\",\"What is regret?\\n\",\"As a student specializing in English language, lit\",\"What is the corporate culture like at Corning? How\",\"How can I convert jazz standards to jazz guitar so\",\"How good was the surgical strike by Indian Army on\",\"What recipes are most conducive to romance?\\n\",\"What are the unknown facts about Tamil people whic\",\"Where do I find the most beautiful woman in the wo\",\"What does the grey phone icon mean on the messenge\",\"How do I share 360\\u00b0 photos on WhatsApp?\\n\",\"What is the difference between working stress meth\",\"What are the opportunities for an MBA in finance?\\n\",\"Can you patent clothing or fashion designs?\\n\",\"My in laws are apologists for Nazi war criminals a\",\"Which is the safest city in India for women?\\n\",\"What horse breed were commonly used during the \\\"Wi\",\"Is it weird to sometimes feel almost overwhelmed b\",\"Can anyone please list all the SAP SD topics a per\",\"In the filling of ibps application I put martial s\",\"In a restaurant, what are the different types of t\",\"Why does amir khan never go to any filmy awards fu\",\"What is a good inpatient drug and alcohol rehab ce\",\"Why does UV light cause contamination on optics, b\",\"How do I invest in mutual funds in India?\\n\",\"How comfortable are you with failure?\\n\",\"What skills are required to become a quant?\\n\",\"Why do startups announce fundraising?\\n\",\"What is your review of Amazon Video?\\n\",\"Why there is no team from Tamil nadu in pro kabbad\",\"How do I auto forward texts from my Verizon phone \",\"How do the Chinese people view Americans?\\n\",\"What is virgin or virginity?\\n\",\"What are the different ways of submitting a Reques\",\"Can a high school teacher legally force students t\",\"Why does water droplets form on the outer surface \",\"Which mammals have dark circles around eyes beside\",\"How do each components of a printer work?\\n\",\"What are some foods beginning with the letter W?\\n\",\"What are symptoms of a bad transmission control mo\",\"How do astronauts in ISS vote for Presidential ele\",\"What is the difference between Aim and Goal?\\n\",\"What is AT & C?\\n\",\"Who was Jackson Pollock? Was he mentally ill?\\n\",\"How do I make good vine edits?\\n\",\"How can I cut my penis?\\n\",\"How can I change my Quora profile photo?\\n\",\"My husband was here seeking asylum before we got m\",\"Is it good to use Laravel to develop a web app wit\",\"I have a mild sore throat an headache. What is tha\",\"When will a working nintendo 3DS emulator release \",\"What do we know about the health effects of vaping\",\"INSEAD: Worth the investment?\\n\",\"How is long rides in royal Enfield classic 350?\\n\",\"What famous boxers have participated on Dancing wi\",\"Will season 10 of Big Bang Theory be the final sea\",\"Can I crack KVPY (SX) with only three months left \",\"What are some little-known facts from World War II\",\"What is the most unique way of exam cheating you'v\",\"When was the last time a slam dunk broke a basketb\",\"What should I do for my excessive hair loss?\\n\",\"How do I find people's psychological weakness?\\n\",\"What is the difference between Awareness and Consc\",\"I hate everything that people around me like. Is i\",\"I think I am pretty good at thinking of a business\",\"How do you determine the thickness of a footing ba\",\"Why does vapours are formed when we pressurize alc\",\"Is it easy to adjust in German Universities withou\",\"What is UNIX and UNIX-like?\\n\",\"What is the best way to promote www.dorkyard.com?\\n\",\"What's up in Addis Abeba tonight?\\n\",\"Is there any point to going to college if you have\",\"How much would it cost to construct 800 sqft area \",\"What is an ideal wife? What is an ideal husband? W\",\"What information does port scanning provide?\\n\",\"What are the application of quasicrystals?\\n\",\"What is the determinant of the inverse of a matrix\",\"How is Brad Pitt in \\\"real Life\\\"?\\n\",\"I have a 3 yr bachelor's degree in Computer Scienc\",\"Demonetisation is good for county like India or no\",\"My parents think I am rude for being so introverte\",\"How many people have jumped off the Golden Gate br\",\"What are Osho's views on Islam?\\n\",\"Why does the government regulate health care?\\n\",\"Which phone has the best sound recording quality?\\n\",\"What is the best part of your life, and why is it \",\"Which is better hair wax or hair clay?\\n\",\"How do I charge my motorcycle battery?\\n\",\"What are the updates we get after miui 8.0.6.0?\\n\",\"Why does Robinhood need to bypass the App Store?\\n\",\"Which is a better route, Alipiri or Sri Vaari?\\n\",\"How much extra would it cost if Apple manufactured\",\"When will the next recession be?\\n\",\"What are some arguments in support of electing Don\",\"What does Russia want with Ukraine?\\n\",\"What is the difference between a recorder (block f\",\"What is the meaning of random number?\\n\",\"Which one is good for health: tea or coffee?\\n\",\"Is Texas good state for non-resident to register a\",\"What is kirchoff's law?\\n\",\"Is it wrong for a family member to keep making com\",\"My parents are forcing to marry a girl of their ch\",\"Which is better, Windows+Linux or OSX?\\n\",\"Why aren\\u2019t Christians that pray to/have a relation\",\"How much TDS will I have to pay for an RD account \",\"What is the meaning of thematic connection?\\n\",\"How should you prepare to take your maneuverabilit\",\"What are the best materials/videos/resources to ge\",\"Can a \\\"dirty\\\" finish be added back to jeans?\\n\",\"Why does my dog keep whining at night?\\n\",\"Is it bad to turn off my PC using the power button\",\"What is image processing?\\n\",\"I went to school with mostly black kids, they bull\",\"Does Donald Trump actually think he can become Pre\",\"Which are the 5 best movies you have ever seen?\\n\",\"How do I get traffic to excursions travel website?\",\"Where can I download the Android game Leo's Fortun\",\"How do I get more followers and upvotes on Quora?\\n\",\"What is a factory reset on a phone?\\n\",\"Which phone should I buy if my budget is 12000?\\n\",\"I have GPU implementation as a graduation project.\",\"What are the libertarian views on the Antarctic Tr\",\"What would the world be like if it were ruled by a\",\"How do you choose your first bank?\\n\",\"Who runs berkuliah.com?\\n\",\"What does Godel's incompleteness theorem mean for \",\"How do I delete a Gmail account?\\n\",\"If my ultimate goal is to become a vegan, should I\",\"Did the US win the war in Afghanistan?\\n\",\"How can I become a good engineering student?\\n\",\"What are some ways to increase intuition?\\n\",\"What causes depression in humans?\\n\",\"How can I control my anxiety and worries?\\n\",\"How can we jump in between the working regions of \",\"How do I stop loving someone who loves me?\\n\",\"Can personality and insecurity create a liar?\\n\",\"What is the best country and university to do a Ph\",\"How do I edit a video offline?\\n\",\"What is the rent of kiosk in an upscale mall?\\n\",\"What should I start reading if I want to attempt t\",\"Which is the best anti-virus for computers?\\n\",\"Does food unite people?\\n\",\"What do you like most about Internet?\\n\",\"What is a good model of federalism in the Philippi\",\"How do you know if a girl secretly loves you?\\n\",\"Who is the most annoying fictional character you h\",\"How do you feel when your question is unanswered o\",\"Did early humans know how babies were made?\\n\",\"If I cancel xfinity, how can I sign up as a new cu\",\"Are there any TV series similar to House MD?\\n\",\"What you need to know before buying furniture for \",\"Have you ever had a dream happen in reality?\\n\",\"Is dark matter just a scientific theory or has its\",\"How can you increase your tolerance for pain?\\n\",\"How many logical fallacies are there?\\n\",\"How do buttercream icing frosting separate?\\n\",\"Which is the cheapest cinema hall of India?\\n\",\"What do you think would be a good gre score?\\n\",\"What is the best way to update Xiaomi redmi 3 to M\",\"What does toe jam cheese taste like?\\n\",\"How do I know if a YouTube video is copyrighted?\\n\",\"How should I start a business reselling shoes?\\n\",\"How do I hire a mobile app development company?\\n\",\"What is paras pathar?\\n\",\"How is the word \\\"colony\\\" used in a sentence?\\n\",\"What is Rebecca Fugate known for?\\n\",\"What should I consider before starting my consulta\",\"Do you feel that many attractive women get away wi\",\"Why do I feel so much guilt for kissing a girl?\\n\",\"What are some good tutorials for learning Blender?\",\"Is it deceitful to befriend someone in the hopes t\",\"Who do you think BJP will put as a candidate for t\",\"Which protein supplement is best for gym to gain w\",\"What is your review of KVPY SX/SB 2016?\\n\",\"How do I get people's attention for my work?\\n\",\"What are some of your own personal stories and exp\",\"If salt concentration of the sea(3%) were differen\",\"What is the chemical name for mothballs? How was i\",\"Vitamin D receptors in the Testes?\\n\",\"How do I lose weight without working out?\\n\",\"Where can I watch anime?\\n\",\"What is BusyBox used for?\\n\",\"What would be a good desktop computer for software\",\"What are your top five favorite books and why?\\n\",\"What are some good Harry/Ginny fanfiction?\\n\",\"What are the pros and cons of having sex during pe\",\"Which device will you enjoy watching movies in: a \",\"Will there be \\\"faithless\\\" electors this election?\\n\",\"Is Donald Trump an undercover democrat?\\n\",\"Why am I the way I am?\\n\",\"Why do some women get their nipples pierced?\\n\",\"What do Delhi University girls (especially North C\",\"What is the name of this TV series?\\n\",\"My salary is below the Basic Exemption Limit, yet \",\"What is a foliated rock?\\n\",\"What are some of the best books to start learning \",\"How should I prepare for IIT-JEE 2018?\\n\",\"How do unions work?\\n\",\"Can we give neet coaching in class 11?\\n\",\"Which is the best dish TV connection in Hyderabad?\",\"How can you train a Doberman/Lab mix?\\n\",\"How do you reduce stress at work?\\n\",\"What is the best algorithm for finding the number \",\"How can I earn $250 in 2 months?\\n\",\"Why did GE buy NBC?\\n\",\"What is the highest level of c?\\n\",\"How do you mash potatoes without a masher? What el\",\"How difficult is it to learn Python?\\n\",\"How do you convert years into seconds?\\n\",\"How do you view bisexuality?\\n\",\"What is information technology? What are some exam\",\"Why are Altoids so strong?\\n\",\"How effective is email marketing?\\n\",\"Why does my tutor keep winding me up. He says he i\",\"How can I start my Tok essay which is about accura\",\"How do I repair my corrupt memory card?\\n\",\"I have 3 years to prepare for IIT JAM Physics. How\",\"What are the best Instagram hack tools that have n\",\"I am studing interior design. What are some good i\",\"What are some stupid jokes that make you laugh?\\n\",\"What are the factors affecting Real estate investm\",\"How can I get rid of white dry spot on my face? It\",\"What is it like to have an ugly wife/partner?\\n\",\"What do you love most about your life and why?\\n\",\"In the unlikely event that the Electoral College t\",\"How is life as an Engineer?\\n\",\"Where and why are the imaginary numbers used?\\n\",\"What are some good hypo-allergenic lipsticks?\\n\",\"Did the United Nations play a part in the divide o\",\"When and Why did America become a world power?\\n\",\"What are some recipes using Hormel Black Label Ham\",\"Which is the best company to invest shares on Nove\",\"The man I'm about 2 marry says when I have my peri\",\"What can be the best answer for why finance?\\n\",\"What are the best facts about the universe?\\n\",\"What's the sweetest thing you did for a bestfriend\",\"What is the difference between techno and trance m\",\"TV Sitcoms: Why do English comedy shows have peopl\",\"Does percentile system would affect neet 1 student\",\"Is there Uber in Valencia, Madrid and Barcelona?\\n\",\"Have real-life siblings ever shot intimate scenes \",\"How should I improve my writing skill for blogging\",\"Can cold weather affect a menstrual cycle?\\n\",\"How can we earn money online while studying?\\n\",\"Can a tablet keyboard be used on any kind of table\",\"What are the Upcoming development projects in Chha\",\"Where can I buy cheap Twitter followers?\\n\",\"Why do passengers from aircraft are not given a bu\",\"When should I tell my crush I like her?\\n\",\"Why does Pakistan have a better image and reputati\",\"What are Andrea Pirlo's strengths as a midfielder?\",\"From a point in space billions of light years away\",\"Will Medicaid pay for electrologist to do the shav\",\"Why do technical employees despise sales people so\",\"What are the best freelance websites for C#?\\n\",\"Will I be successful without educations?\\n\",\"How can I learn about cars?\\n\",\"What is the best question asked in an interview?\\n\",\"Why there is so much hatred against Brahmins in In\",\"How do I learn to enter journal entries online in \",\"Will CS be issuing a PR message for Boston?\\n\",\"Why do some people 'hate' drugs or people who ever\",\"How do I know my passion? What is my talent and wh\",\"How do pessimists and optimists differ?\\n\",\"How many pulleys did it take for Archimedes to lif\",\"What is the best course after 12th for a medical s\",\"What are the steps that I should follow to get in \",\"Where was the boston marathon?\\n\",\"What is it like to be in or around a bomb blast?\\n\",\"Will Trump destroy international US-companies thro\",\"Should celebrities have the right to voice their o\",\"Can I say that: \\\"A battery can be seem as a capaci\",\"What is it like to be an ENTP?\\n\",\"How do I start designing on glass?\\n\",\"What is the market risk premium formula?\\n\",\"How can I pay the parking meter if I have no coins\",\"Is it true that Obama has a secret son named \\\"Luth\",\"Which is the best coaching for IAS in up?\\n\",\"How big is the equity funding market in North Amer\",\"Which are the good government medical colleges in \",\"How do I control my hair fall?\\n\",\"Is it really worth creating Shopify themes?\\n\",\"What can cause knee pain? It only hurts when I sta\",\"Where can you find a list of common 9 letter words\",\"NSFW: Is this penis color normal or should I see a\",\"Why do most women remove the hair from their arm p\",\"Which processor is better (faster/more efficient),\",\"Which two statements are true regarding views in s\",\"What is the easiest and quickest Indian food recip\",\"What are the best local SEO companies in India?\\n\",\"How do I get rid of adult content on my Quora feed\",\"Can the zombie fungi attack humans as well?\\n\",\"If I wanted to learn about the Roman Empire,what w\",\"What are the key differences between LXDE and XFCE\",\"Can people see the sellers real name, e-mail addre\",\"Should I still watch The Matrix movie?\\n\",\"Is there any truth to the rumor that the youngest \",\"Is it ok that I don't want to hang out with my fam\",\"I am in class 9. If i want to crack IIT JEE, then \",\"Will Obama's gang stalking/surveillance program be\",\"What are some good songs to lyric text prank a fri\",\"Where can I get best quality video DJ for party in\",\"How long does it take for your hair to grow?\\n\",\"Should I update my Redmi 3s from MIUI 7 to MIUI 8?\",\"How do muscles work?\\n\",\"WHAT IS THE BEST ROUT FOR NEPAL PASUPATI NATH TEMP\",\"How to make a website similar to feedwiser.com in \",\"Why does India so scared of CPEC?\\n\",\"What did your first sex feel like as a girl?\\n\",\"In International ODI/T20 cricket matches, if a bat\",\"Why can humans feel acceleration, but not constant\",\"Can the Microsoft Surface Pro 4 run AutoCAD?\\n\",\"What are the differences between stock Crown Victo\",\"What are the good ways to download Lynda.com's tut\",\"How much is the average salary package for a 1.5 y\",\"How can you reduce the barriers of communication?\\n\",\"Why would someone use Instagram Stories over Snapc\",\"Whiskey: How many 'shots' are in a fifth of Jack D\",\"What might happen now that President-elect Donald \",\"How do I write a waiver letter for school?\\n\",\"I am interested in persuing ma industrial psycholo\",\"Does modafinil shows up on a drug test? Because my\",\"Is it possible to get high off Vyvanse?\\n\",\"Is an agnostic necessarily a skeptic, and how?\\n\",\"Where can I get best support in Sydney for buying \",\"What are the duties of a lieutenant in Indian army\",\"Why is smileys not used on Quora?\\n\",\"What does it feel like for a man when someone who \",\"How does post graduation permit impact .lets say I\",\"Online Payment Gateways and Processing: What is th\",\"What are the best books to learn c programing lang\",\"Solid State Physics: What is The Theory of Alloys?\",\"How do I fill in my first name in a PAN card dupli\",\"Why is egg yolk not good for you?\\n\",\"Anatomy of Female Pelvis: Do women really have an \",\"How much does it cost to develop mobile applicatio\",\"Who is the most honest Game of Thrones character?\\n\",\"What is a high quality Apple MacBook Air charger?\\n\",\"Where and how is the WWE championship belt made?\\n\",\"What is green communication?\\n\",\"I have been a good student since chiild hood but j\",\"I'm solving exercises of artificial neural network\",\"Compared to your own compensation, and in consider\",\"How can I keep browsing Quora forever?\\n\",\"Having built web stuff the old way (PHP/MySQL) bac\",\"Is our new currency note of Rs.2000 equipped with \",\"What's the best way to join a startup in DC?\\n\",\"What would happen if we added a second Earth of eq\",\"When will piracy on Android stop?\\n\",\"What do you mean by executive consultant and suppo\",\"Why do I always feel like I am missing something?\\n\",\"What does a user see when he/she gets a new messag\",\"How can I become a web developer?\\n\",\"Is there any good alternative softwares to Tally?\\n\",\"Would you have sex during period?\\n\",\"Are there prominent Bangladeshi Hindus?\\n\",\"I have registered for PhD (no NET) (phy) in 2013, \",\"I changed my name, but the person did a mistake. M\",\"At what age do your breasts stop growing?\\n\",\"How do I get a girl's phone number in a library?\\n\",\"I am into a habit of over thinking things. How do \",\"What is the average salary of a civil engineer?\\n\",\"What is the difference between rote learning vs me\",\"What are the ways to compete in the Olympics in 20\",\"What trivia (and/or little-known facts) do you fin\",\"Xiaomi Redmi note 3: Which is the best colour to b\",\"What does \\\" the Hadamard Perron theorem\\\" means?\\n\",\"Is there a way to see the viewing history and chat\",\"What is the best place for trekking in Goa?\\n\",\"How does an instant messenger work?\\n\",\"What are the disadvantages of the World Trade Orga\",\"Why does the US military not use AK series rifles?\",\"Does Moto m have gorilla glass?\\n\",\"What is the hierarchy of an associate consultant a\",\"What are some major landforms in Texas, and how do\",\"What other jobs can a medical degree holder do mea\",\"MY HP DEXTOP DOESNOT CONNECT WIFI WHY?\\n\",\"How can I get motivated to workout?\\n\",\"What should I gift it to my mom on her birthday?\\n\",\"Which is the best video you have ever seen?\\n\",\"I was selected in campus and was issued a joining \",\"What makes a poem a good way to express emotions? \",\"What would happen if I cut down a tree outside my \",\"Can you make money in Amway?\\n\",\"Body Weight: How many pounds can I gain every week\",\"What are the impacts (both positive & negative) of\",\"I forgot the password which I used to login n n lo\",\"What are the best websites for career?\\n\",\"What is your favourite episode of the office (USA)\",\"Why is time slower down near heavy objects?\\n\",\"How do l update any version after rooting the mobi\",\"Why is 3 am called the witching hour?\\n\",\"How do I run a shell script from Java code?\\n\",\"What are the advertising campaigns of 2011?\\n\",\"Should I opt for computer science if I don't take \",\"What are the polymers of protein?\\n\",\"How much better will the JWST be than Hubble?\\n\",\"What are the greatest examples of absence of mind?\",\"How can I understand the STOCK market from the bas\",\"How do I make Gazpacho?\\n\",\"What is the typical role of a brand manager?\\n\",\"Who are the top 5 hottest women ever?\\n\",\"What is the name of the game that Aamir Khan was r\",\"How long does it take to learn dance?\\n\",\"What's the funniest thing that's happened to you a\",\"Why are metals malleable and ductile?\\n\",\"List of national daily in India?\\n\",\"Are Volvos actually safer than comparable cars?\\n\",\"Can you tell who has been looking at your Instagra\",\"A ball dropped from the roof of a building takes 4\",\"What percentage of Hillary Clinton's supporters ha\",\"Do you think you are beautiful?\\n\",\"Which are the free email marketing tools?\\n\",\"What topic of discussion do people hate the most? \",\"What is the point in having hyper-politicised stud\",\"Why Steve Jobs is considered as innovator?\\n\",\"How long would it take an average programmer to wr\",\"Why are conservatives defending Holly Fisher? (see\",\"What is so important about Adam Smith's pin factor\",\"What is the Arizona bark scorpion, and how do anim\",\"How do I stop smoking cigarettes?\\n\",\"What are the functions of a computer's motherboard\",\"How can tea bags help for styes?\\n\",\"How can I get a patent for my really effective inn\",\"Can India ever become 'Sone Ki Chidiya' again?\\n\",\"Is there any way to play Android games LAN multipl\",\"Why should I ask my first question?\\n\",\"Who are the top writers on Hinduism on Quora? Who \",\"How do I wake up at 4:00 A.M.?\\n\",\"Why is Quora moderation collapsing all my answers?\",\"In an honest assessment, what do you think of Trum\",\"What type of bonding is present in a coordinate bo\",\"Is it possible to delete your Wikipedia account hi\",\"I'm a +2 CBSE non-medical student. Is there any pr\",\"Are there any limitations as to setting up a forei\",\"How will the drought in California affect its econ\",\"What is Informatica online training?\\n\",\"Is it compulsory for a Web designer and developer \",\"How could the US realistically pay off its debt?\\n\",\"Who is Barry Soetoro?\\n\",\"How do I solve [math]2x^3-x^2+11x+3=0[/math]?\\n\",\"What are some hobbies couples can do at home?\\n\",\"How have meerkats adapted to the desert?\\n\",\"What causes dizziness when you lay down?\\n\",\"What should one do after a civil engineering degre\",\"What are the advantages of hiring skip bins servic\",\"Why is it necessary that singers lip-sync?\\n\",\"How can I turn off the screen overlay detected on \",\"How do you clean or polish a pair of Woodland shoe\",\"What are some classes you wish you took in high sc\",\"What is the formula of [math](a+b)^3[/math]?\\n\",\"What is it like to commit yourself to a psychiatri\",\"Is there any way to slow or reverse the late effec\",\"What would the implications be if we discovered th\",\"Any other program to help on code contribution for\",\"What is the bond order of [math]H_2[/math]?\\n\",\"What is the best way to create a website without c\",\"What were some causes and effects of the French Re\",\"What are some catchy headlines for a dating site?\\n\",\"Should I get Company of Heroes, World in Conflict \",\"How do I remove a person from a group in Skype?\\n\",\"Why was Manmohan Singh briefed by PM Modi after su\",\"Does anybody want to learn Chinese?\\n\",\"Is Xiaomi going the Nokia way to oblivion?\\n\",\"Should I buy hp 17.3 AMD laptop or lenovo 17.3 i5 \",\"Which is better a government job or a software job\",\"How can the word \\\"credulity\\\" be used in a sentence\",\"Does uber track time on app?\\n\",\"How do I get over direct rejection?\\n\",\"How can any institute get an ISO certificate?\\n\",\"What are the best pranks?\\n\",\"Are non-solicit agreements enforceable if the pers\",\"Which phone is best in 2016 for a 18 years boy my \",\"What is the definition of an archetypal hero?\\n\",\"Why are some \\\"ugly\\\" people still very attractive?\\n\",\"What are the chances of Donald Trump's impeachment\",\"What would a society based on laws enforcing only \",\"What is the full form of \\\"veto\\\" power?\\n\",\"How much do people get paid to do a TED talk?\\n\",\"What does it mean to say \\\"enriching herself off of\",\"How can I be more persuasive at work?\\n\",\"What is the corporate culture like at National Bev\",\"What is the fastest way to get a PAN card?\\n\",\"Who will win in America presidential elections in \",\"How do I solve this differential problem?\\n\",\"How is Banjara's Saffron Facial Kit used?\\n\",\"How do you understand life?\\n\",\"Will an MS from NUS in electrical engineering prov\",\"How does one create a strong password? Any tips?\\n\",\"Who was the best dressed at the 2016 Emmy's?\\n\",\"What is the cost of manufacturing a SIM card?\\n\",\"Are you tolerant?\\n\",\"Is [math]\\\\{1,2,3\\\\}[/math] a compact subset of a me\",\"What kind of energy is involved in hearing and vis\",\"What happened with Lehman Brothers?\\n\",\"What is a good web page publisher?\\n\",\"Why does eating radishes cause diarrhea?\\n\",\"How do I encrypt the data on my Android phone?\\n\",\"If there were an Oscar for \\\"Best Line in a Movie\\\",\",\"Why are tyres black?\\n\",\"What is the best way to unlock a Motorola Droid Bi\",\"Is a $45 a month job worth the experience?\\n\",\"Should I settle in Canada or Japan?\\n\",\"How is the appraisal process in Accenture? How wil\",\"How does sand turn into glass?\\n\",\"What effect will increased automation of jobs and \",\"I am 25 years old Indian guy, want to settle in Ne\",\"What are some Raksha Bandhan gift suggestions for \",\"How do I write a multi-dimensional villain that is\",\"Why is there no nucleus in a red blood cell?\\n\",\"Why do Quora allow anonymous fake questions from A\",\"Is it possible to merge a foursquare venue into a \",\"How do I find out if I have Siri on my phone?\\n\",\"Why do I feel like I'm not living my life?\\n\",\"What will happen to global stock market if Donald \",\"What makes weeds grow so much faster and easier th\",\"Do people with extremely high IQ need higher sugar\",\"What should teaching assistants do?\\n\",\"Why is Perth one of the most liveable cities in th\",\"How do you get to the entrance for Resolution Cave\",\"How do I get involved in research as an undergradu\",\"If you have one option to remove anything, what wi\",\"What are the risk after angioplasty?\\n\",\"Why can't men read the signals women give off when\",\"How can a non-EU medical graduate get into residen\",\"How do I stay active?\\n\",\"I'm going to Paris. What is the equivalent \\\"neighb\",\"How do I get rid of dandruff, or at least prevent \",\"Is Medicaid going to pay for the electrologist for\",\"When Australia became a nation in 1901, Did aborig\",\"What is the difference between SSL and Sitelock?\\n\",\"What are some unsolved problems in deep machine le\",\"What's the difference between computer engineering\",\"Is it possible to get a decent job after completin\",\"What is the difference between MG & BG in railway \",\"How do I control an Arduino with a Raspberry Pi?\\n\",\"What is the best field to pursue MS after doing el\",\"What is the difference between Directx and graphic\",\"How do I wirelessly charge the electrical devices \",\"Can you upload Numbers sheets from iPad to Google \",\"What's the best movie franchise you have ever watc\",\"If light does not have mass, then how can it be ab\",\"Why is the book of Esther in the Bible?\\n\",\"What makes comic books worth reading?\\n\",\"What are the advantages of outsourcing property ma\",\"What is a Quora credit competition?\\n\",\"Are data analyst/data science jobs boring?\\n\",\"Why don't satellites crash into each other?\\n\",\"How do dermatologists remove blackheads?\\n\",\"How can I choose between my dad and my mom?\\n\",\"Can you really not change people?\\n\",\"Being a non believer of a spiritual entity, I have\",\"Is black coffee fattening? If so, what makes it fa\",\"The education system is outdated. What would you d\",\"Who are the founders of Quora?\\n\",\"What is it like to be a landlord?\\n\",\"How many stamps do I need to send a letter to germ\",\"My father just recently got married. His wife goes\",\"Which countries are best to migrate from the US?\\n\",\"Can any one tell me a basketball club in Bangalore\",\"How can Spotify download songs offline?\\n\",\"How do I make money online for free in Spain?\\n\",\"Why is Tornado Alley prone to tornadoes?\\n\",\"How does helium change the inhaler's voice?\\n\",\"What is a bedding ceremony in Game of Thrones?\\n\",\"What is it like living in former East Germany as a\",\"Did the USA or NATO commit any war crimes in Iraq?\",\"Why don't we capture terrorist and behead them?\\n\",\"What is your favorite quote (books, movies, people\",\"What mixes well with peach vodka?\\n\",\"Which Patanjali products contain cow urine?\\n\",\"Why are three phases denoted by RYB?\\n\",\"Where could I learn JavaScript online?\\n\",\"Is it appropriate to wear a sports bra simply to t\",\"What are the differences between Jenkins CI and Dr\",\"T right do you think we should be entitled to?\\n\",\"What was the public's reaction to Crystal Pepsi?\\n\",\"How can I crack MH-CET 2017 engineering by self-st\",\"What is the way to become a dental hygienist in th\",\"Why do solving math/statistics problems causes my \",\"Does your name sound as awkward to others as it so\",\"What is the proper format of writing formal-inform\",\"How does doc2vec represent feature vector of a doc\",\"Why are software development task estimations regu\",\"How can I set up molecular pathology lab?\\n\",\"How do I score a rank in CA - IPCC?\\n\",\"What are some examples of strong organic acids?\\n\",\"What can be a good hindi (indian) name for a tea b\",\"Is the Google host matching process different for \",\"Is Cuba considered part of Latin America?\\n\",\"Does the following script (\\u0256\\u2200\\u0f61\\u0632\\u2202 \\u0250\\u0167 \\u01ab\\u04bf\\u03de\\u026e\\u2609 \\u027d\\u03c6\\u0289\\u029b\\u0195), \",\"How can I increase my website's DA?\\n\",\"Is it normal to imagine having sex with other guy \",\"What is the percent purity (approx) of consumable \",\"Do soulmates just come walking into your life when\",\"If I use marijuana with my boyfriend, is there a p\",\"Can you analyze everything in soil?\\n\",\"What difference it would make if India Nuked and K\",\"What are the advantages of a dominant party system\",\"What were some things India did not do but takes c\",\"How many total women have accused Bill Clinton of \",\"Why do I wish some fictional characters existed?\\n\",\"Where can I find best hotel at Ranikhet?\\n\",\"How do I make good memes?\\n\",\"What are some of the common sayings or proverbs in\",\"What kind of writing style makes someone a \\\"dark w\",\"Are Trump and Hillary really the best America has \",\"How can I make my career in embedded system and ro\",\"Will adding a USB to VGA adapter always give an ex\",\"We will never be able to see our own faces with ou\",\"What are the ways you can stop a friend from pitch\",\"What is the average time for preparation of IAS?\\n\",\"How can I learn new things quickly?\\n\",\"What is the definition of political courage?\\n\",\"What makes death scary?\\n\",\"I'm really pretty but I don't want to be I hate th\",\"Is Assam Down Town University good?\\n\",\"How do the brain structures of bonobos change as t\",\"What's the biggest scam?\\n\",\"Does the US government have an alien flying saucer\",\"I need to gain weight, but I don't have abs. It's \",\"Why should I study Calculus?\\n\",\"Do you think your childhood contributed to your fi\",\"How does the Goods and Services Tax (GST) works?\\n\",\"Where can I download Cisco 500-285 exam dumps?\\n\",\"How do I can make a second nation in Cybernations \",\"Did Neil Armstrong really land on the moon?\\n\",\"Why is Devil any other than God head of state?\\n\",\"How do I stop being possessive over my girlfriend?\",\"How does Kongregate compute the statistics of adve\",\"Who is the best nuero physician at NIMHANS, Bangal\",\"What are nonprofit organizations?\\n\",\"I want to know the process of starting outbound ca\",\"Which are some of the best hotels to stay in Helsi\",\"What is good about Deloitte Chicago?\\n\",\"How do I recover data from a formatted hard drive?\",\"Could India and Pakistan unite again?\\n\",\"How often should I massage my face with Argan oil?\",\"How is psychodynamic therapy different from psycho\",\"What are some of Barack Obama's character traits?\\n\",\"Would it make sense to replace the B-52's 8 1960s \",\"Is it possible to bring forward my flight date of \",\"How can I learn marathons?\\n\"],\"x\":{\"__ndarray__\":\"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\",\"dtype\":\"float32\",\"order\":\"little\",\"shape\":[1001]},\"y\":{\"__ndarray__\":\"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\",\"dtype\":\"float32\",\"order\":\"little\",\"shape\":[1001]}},\"selected\":{\"id\":\"1585\"},\"selection_policy\":{\"id\":\"1584\"}},\"id\":\"1514\",\"type\":\"ColumnDataSource\"},{\"attributes\":{\"fill_alpha\":{\"value\":0.2},\"fill_color\":{\"field\":\"color\"},\"hatch_alpha\":{\"value\":0.2},\"hatch_color\":{\"field\":\"color\"},\"line_alpha\":{\"value\":0.2},\"line_color\":{\"field\":\"color\"},\"size\":{\"value\":20},\"x\":{\"field\":\"x\"},\"y\":{\"field\":\"y\"}},\"id\":\"1549\",\"type\":\"Scatter\"},{\"attributes\":{},\"id\":\"1585\",\"type\":\"Selection\"},{\"attributes\":{\"coordinates\":null,\"data_source\":{\"id\":\"1514\"},\"glyph\":{\"id\":\"1547\"},\"group\":null,\"hover_glyph\":null,\"muted_glyph\":{\"id\":\"1549\"},\"nonselection_glyph\":{\"id\":\"1548\"},\"view\":{\"id\":\"1551\"}},\"id\":\"1550\",\"type\":\"GlyphRenderer\"},{\"attributes\":{\"callback\":null,\"tooltips\":[[\"phrase\",\"@phrase\"]]},\"id\":\"1552\",\"type\":\"HoverTool\"},{\"attributes\":{},\"id\":\"1582\",\"type\":\"BasicTickFormatter\"},{\"attributes\":{\"active_scroll\":{\"id\":\"1533\"},\"tools\":[{\"id\":\"1532\"},{\"id\":\"1533\"},{\"id\":\"1534\"},{\"id\":\"1535\"},{\"id\":\"1536\"},{\"id\":\"1537\"},{\"id\":\"1552\"}]},\"id\":\"1539\",\"type\":\"Toolbar\"},{\"attributes\":{},\"id\":\"1532\",\"type\":\"PanTool\"},{\"attributes\":{},\"id\":\"1583\",\"type\":\"AllLabels\"},{\"attributes\":{\"fill_alpha\":{\"value\":0.25},\"fill_color\":{\"field\":\"color\"},\"hatch_alpha\":{\"value\":0.25},\"hatch_color\":{\"field\":\"color\"},\"line_alpha\":{\"value\":0.25},\"line_color\":{\"field\":\"color\"},\"size\":{\"value\":20},\"x\":{\"field\":\"x\"},\"y\":{\"field\":\"y\"}},\"id\":\"1547\",\"type\":\"Scatter\"},{\"attributes\":{},\"id\":\"1533\",\"type\":\"WheelZoomTool\"},{\"attributes\":{},\"id\":\"1520\",\"type\":\"LinearScale\"},{\"attributes\":{\"overlay\":{\"id\":\"1538\"}},\"id\":\"1534\",\"type\":\"BoxZoomTool\"},{\"attributes\":{},\"id\":\"1579\",\"type\":\"BasicTickFormatter\"},{\"attributes\":{},\"id\":\"1516\",\"type\":\"DataRange1d\"},{\"attributes\":{},\"id\":\"1535\",\"type\":\"SaveTool\"},{\"attributes\":{},\"id\":\"1518\",\"type\":\"DataRange1d\"},{\"attributes\":{},\"id\":\"1536\",\"type\":\"ResetTool\"},{\"attributes\":{},\"id\":\"1537\",\"type\":\"HelpTool\"},{\"attributes\":{},\"id\":\"1522\",\"type\":\"LinearScale\"},{\"attributes\":{},\"id\":\"1525\",\"type\":\"BasicTicker\"},{\"attributes\":{\"coordinates\":null,\"formatter\":{\"id\":\"1582\"},\"group\":null,\"major_label_policy\":{\"id\":\"1583\"},\"ticker\":{\"id\":\"1525\"}},\"id\":\"1524\",\"type\":\"LinearAxis\"}],\"root_ids\":[\"1515\"]},\"title\":\"Bokeh Application\",\"version\":\"2.4.1\"}};\n  const render_items = [{\"docid\":\"20c38d18-4360-4568-8bbe-f4044496b9af\",\"root_ids\":[\"1515\"],\"roots\":{\"1515\":\"8e68c3ad-a8e3-41be-bde4-f74761b2da6b\"}}];\n  root.Bokeh.embed.embed_items_notebook(docs_json, render_items);\n\n  }\n  if (root.Bokeh !== undefined) {\n    embed_document(root);\n  } else {\n    let attempts = 0;\n    const timer = setInterval(function(root) {\n      if (root.Bokeh !== undefined) {\n        clearInterval(timer);\n        embed_document(root);\n      } else {\n        attempts++;\n        if (attempts > 100) {\n          clearInterval(timer);\n          console.log(\"Bokeh: ERROR: Unable to run BokehJS code because BokehJS library is missing\");\n        }\n      }\n    }, 10, root)\n  }\n})(window);",
      "application/vnd.bokehjs_exec.v0+json": ""
     },
     "metadata": {
      "application/vnd.bokehjs_exec.v0+json": {
       "id": "1515"
      }
     },
     "output_type": "display_data"
    }
   ]
  },
  {
   "cell_type": "markdown",
   "metadata": {
    "id": "DNAtqPb_5wAh",
    "pycharm": {
     "name": "#%% md\n"
    }
   },
   "source": [
    "Finally, let's build a simple \"similar question\" engine with phrase embeddings we've built."
   ]
  },
  {
   "cell_type": "code",
   "metadata": {
    "collapsed": true,
    "id": "-PwaqULm5wAi",
    "pycharm": {
     "name": "#%%\n"
    }
   },
   "source": [
    "# compute vector embedding for all lines in data\n",
    "data_vectors = np.array([get_phrase_embedding(l) for l in data])"
   ],
   "execution_count": 71,
   "outputs": []
  },
  {
   "cell_type": "code",
   "execution_count": 78,
   "outputs": [],
   "source": [
    "norms = np.array([np.linalg.norm(data_vector) for data_vector in data_vectors])\n",
    "zero_vectors_inds = np.where(norms == 0)[0]"
   ],
   "metadata": {
    "collapsed": false,
    "pycharm": {
     "name": "#%%\n"
    }
   }
  },
  {
   "cell_type": "code",
   "execution_count": 79,
   "outputs": [
    {
     "name": "stdout",
     "output_type": "stream",
     "text": [
      "35227 \t AOSDHIADSOIHADSO DASODASHDASOH\n",
      "\n",
      "403687 \t parisflatlist\n",
      "\n"
     ]
    }
   ],
   "source": [
    "for zero_vector_ind in zero_vectors_inds:\n",
    "    print(zero_vector_ind, '\\t', data[zero_vector_ind])"
   ],
   "metadata": {
    "collapsed": false,
    "pycharm": {
     "name": "#%%\n"
    }
   }
  },
  {
   "cell_type": "code",
   "execution_count": 97,
   "outputs": [],
   "source": [
    "def find_nearest(query, k=10):\n",
    "    \"\"\"\n",
    "    given text line (query), return k most similar lines from data, sorted from most to least similar\n",
    "    similarity should be measured as cosine between query and line embedding vectors\n",
    "    hint: it's okay to use global variables: data and data_vectors. see also: np.argpartition, np.argsort\n",
    "    \"\"\"\n",
    "    query_vector = get_phrase_embedding(query)\n",
    "    query_vector_norm = np.linalg.norm(query_vector)\n",
    "\n",
    "    cosine_similarities = np.array([query_vector @ data_vector / (query_vector_norm * np.linalg.norm(data_vector)) if np.linalg.norm(data_vector) != 0 else 0 for data_vector in data_vectors])\n",
    "\n",
    "    return [data[ind] for ind in np.argsort(cosine_similarities)[-k:]][::-1]"
   ],
   "metadata": {
    "collapsed": false,
    "pycharm": {
     "name": "#%%\n"
    }
   }
  },
  {
   "cell_type": "code",
   "metadata": {
    "collapsed": true,
    "id": "3Wc5EABv5wAi",
    "pycharm": {
     "name": "#%%\n"
    }
   },
   "source": [
    "results = find_nearest(query=\"How do i enter the matrix?\", k=10)\n",
    "\n",
    "print(''.join(results))\n",
    "\n",
    "assert len(results) == 10 and isinstance(results[0], str)\n",
    "assert results[0] == 'How do I get to the dark web?\\n'\n",
    "assert results[3] == 'What can I do to save the world?\\n'"
   ],
   "execution_count": 98,
   "outputs": [
    {
     "name": "stdout",
     "output_type": "stream",
     "text": [
      "How do I get to the dark web?\n",
      "What should I do to enter hollywood?\n",
      "How do I use the Greenify app?\n",
      "What can I do to save the world?\n",
      "How do I win this?\n",
      "How do I think out of the box? How do I learn to think out of the box?\n",
      "How do I find the 5th dimension?\n",
      "How do I use the pad in MMA?\n",
      "How do I estimate the competition?\n",
      "What do I do to enter the line of event management?\n",
      "\n"
     ]
    }
   ]
  },
  {
   "cell_type": "code",
   "metadata": {
    "collapsed": true,
    "id": "7tPOfFz15wAi",
    "pycharm": {
     "name": "#%%\n"
    }
   },
   "source": [
    "find_nearest(query=\"How does Trump?\", k=10)"
   ],
   "execution_count": 99,
   "outputs": [
    {
     "data": {
      "text/plain": "['What does Donald Trump think about Israel?\\n',\n 'What books does Donald Trump like?\\n',\n 'What does Donald Trump think of India?\\n',\n 'What does India think of Donald Trump?\\n',\n 'What does Donald Trump think of China?\\n',\n 'What does Donald Trump think about Pakistan?\\n',\n 'What companies does Donald Trump own?\\n',\n 'What does Dushka Zapata think about Donald Trump?\\n',\n 'How does it feel to date Ivanka Trump?\\n',\n 'What does salesforce mean?\\n']"
     },
     "execution_count": 99,
     "metadata": {},
     "output_type": "execute_result"
    }
   ]
  },
  {
   "cell_type": "code",
   "metadata": {
    "collapsed": true,
    "id": "FcysG5-95wAi",
    "pycharm": {
     "name": "#%%\n"
    }
   },
   "source": [
    "find_nearest(query=\"Why don't i ask a question myself?\", k=10)"
   ],
   "execution_count": 100,
   "outputs": [
    {
     "data": {
      "text/plain": "[\"Why don't I get a date?\\n\",\n \"Why do you always answer a question with a question? I don't, or do I?\\n\",\n \"Why can't I ask a question anonymously?\\n\",\n \"Why don't I get a girlfriend?\\n\",\n \"Why don't I have a boyfriend?\\n\",\n \"I don't have no question?\\n\",\n \"Why can't I take a joke?\\n\",\n \"Why don't I ever get a girl?\\n\",\n \"Can I ask a girl out that I don't know?\\n\",\n \"Why don't I have a girlfriend?\\n\"]"
     },
     "execution_count": 100,
     "metadata": {},
     "output_type": "execute_result"
    }
   ]
  },
  {
   "cell_type": "markdown",
   "metadata": {
    "collapsed": true,
    "id": "rhik58ko5wAj",
    "pycharm": {
     "name": "#%% md\n"
    }
   },
   "source": [
    "__Now what?__\n",
    "* Try running TSNE on all data, not just 1000 phrases\n",
    "* See what other embeddings are there in the model zoo: `gensim.downloader.info()`\n",
    "* Take a look at [FastText](https://github.com/facebookresearch/fastText) embeddings\n",
    "* Optimize find_nearest with locality-sensitive hashing: use [nearpy](https://github.com/pixelogik/NearPy) or `sklearn.neighbors`."
   ]
  }
 ]
}