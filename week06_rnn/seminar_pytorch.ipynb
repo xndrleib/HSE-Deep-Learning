{
 "nbformat": 4,
 "nbformat_minor": 0,
 "metadata": {
  "kernelspec": {
   "display_name": "Python 3",
   "language": "python",
   "name": "python3"
  },
  "language_info": {
   "codemirror_mode": {
    "name": "ipython",
    "version": 3
   },
   "file_extension": ".py",
   "mimetype": "text/x-python",
   "name": "python",
   "nbconvert_exporter": "python",
   "pygments_lexer": "ipython3",
   "version": "3.6.8"
  },
  "colab": {
   "name": "Copy of seminar_pytorch.ipynb",
   "provenance": []
  }
 },
 "cells": [
  {
   "cell_type": "markdown",
   "metadata": {
    "id": "RG3nEYvbTtCw",
    "pycharm": {
     "name": "#%% md\n"
    }
   },
   "source": [
    "### Generating names with recurrent neural networks\n",
    "\n",
    "This time you'll find yourself delving into the heart (and other intestines) of recurrent neural networks on a class of toy problems.\n",
    "\n",
    "Struggle to find a name for the variable? Let's see how you'll come up with a name for your son/daughter. Surely no human has expertize over what is a good child name, so let us train RNN instead;\n",
    "\n",
    "It's dangerous to go alone, take these:"
   ]
  },
  {
   "cell_type": "code",
   "metadata": {
    "collapsed": true,
    "id": "9pgJ5i2TTtC0",
    "colab": {
     "base_uri": "https://localhost:8080/"
    },
    "outputId": "ccdba283-2414-4d12-8f73-bf011363962c",
    "pycharm": {
     "name": "#%%\n"
    }
   },
   "source": [
    "import matplotlib.pyplot as plt\n",
    "import numpy as np\n",
    "%matplotlib inline\n",
    "\n",
    "# !wget https://raw.githubusercontent.com/yandexdataschool/Practical_DL/fall19/week06_rnn/names -O names"
   ],
   "execution_count": 1,
   "outputs": []
  },
  {
   "cell_type": "markdown",
   "metadata": {
    "id": "vASJ_Ru2TtC1",
    "pycharm": {
     "name": "#%% md\n"
    }
   },
   "source": [
    "# Our data\n",
    "The dataset contains ~8k earthling names from different cultures, all in latin transcript.\n",
    "\n",
    "This notebook has been designed so as to allow you to quickly swap names for something similar: deep learning article titles, IKEA furniture, pokemon names, etc."
   ]
  },
  {
   "cell_type": "code",
   "metadata": {
    "collapsed": true,
    "id": "9mp2_Sx6TtC2",
    "pycharm": {
     "name": "#%%\n"
    }
   },
   "source": [
    "start_token = \" \"\n",
    "\n",
    "with open(\"names\") as f:\n",
    "    lines = f.read()[:-1].split('\\n')\n",
    "    lines = [start_token + line for line in lines]"
   ],
   "execution_count": 2,
   "outputs": []
  },
  {
   "cell_type": "code",
   "metadata": {
    "id": "XnPQ6noxTtC2",
    "colab": {
     "base_uri": "https://localhost:8080/"
    },
    "outputId": "03be62a3-7635-409e-9281-6bab891f8659",
    "pycharm": {
     "name": "#%%\n"
    }
   },
   "source": [
    "print ('n samples = ',len(lines))\n",
    "for x in lines[::1000]:\n",
    "    print (x)"
   ],
   "execution_count": 3,
   "outputs": [
    {
     "name": "stdout",
     "output_type": "stream",
     "text": [
      "n samples =  7944\n",
      " Abagael\n",
      " Claresta\n",
      " Glory\n",
      " Liliane\n",
      " Prissie\n",
      " Geeta\n",
      " Giovanne\n",
      " Piggy\n"
     ]
    }
   ]
  },
  {
   "cell_type": "code",
   "metadata": {
    "id": "yiCISKwyTtC2",
    "colab": {
     "base_uri": "https://localhost:8080/",
     "height": 298
    },
    "outputId": "3a582004-e276-4ee0-e0cd-a722dcdc2540",
    "pycharm": {
     "name": "#%%\n"
    }
   },
   "source": [
    "MAX_LENGTH = max(map(len, lines))\n",
    "print(\"max length =\", MAX_LENGTH)\n",
    "\n",
    "plt.title('Sequence length distribution')\n",
    "plt.hist(list(map(len, lines)),bins=25);"
   ],
   "execution_count": 4,
   "outputs": [
    {
     "name": "stdout",
     "output_type": "stream",
     "text": [
      "max length = 16\n"
     ]
    },
    {
     "data": {
      "text/plain": "<Figure size 432x288 with 1 Axes>",
      "image/png": "[encoded data removed]"
     },
     "metadata": {
      "needs_background": "light"
     },
     "output_type": "display_data"
    }
   ]
  },
  {
   "cell_type": "markdown",
   "metadata": {
    "id": "DWDcbOAcTtC3",
    "pycharm": {
     "name": "#%% md\n"
    }
   },
   "source": [
    "# Text processing\n",
    "\n",
    "First we need next to collect a \"vocabulary\" of all unique tokens i.e. unique characters. We can then encode inputs as a sequence of character ids."
   ]
  },
  {
   "cell_type": "code",
   "metadata": {
    "id": "170G06A7TtC4",
    "colab": {
     "base_uri": "https://localhost:8080/"
    },
    "outputId": "86ed39a4-1988-48cf-ec88-27bab28c51d7",
    "pycharm": {
     "name": "#%%\n"
    }
   },
   "source": [
    "#all unique characters go here\n",
    "tokens = set(''.join(lines))\n",
    "\n",
    "tokens = list(tokens)\n",
    "\n",
    "num_tokens = len(tokens)\n",
    "print ('num_tokens = ', num_tokens)\n",
    "\n",
    "assert 50 < num_tokens < 60, \"Names should contain within 50 and 60 unique tokens depending on encoding\""
   ],
   "execution_count": 5,
   "outputs": [
    {
     "name": "stdout",
     "output_type": "stream",
     "text": [
      "num_tokens =  55\n"
     ]
    }
   ]
  },
  {
   "cell_type": "markdown",
   "metadata": {
    "id": "yWyKLSdFTtC4",
    "pycharm": {
     "name": "#%% md\n"
    }
   },
   "source": [
    "### Convert characters to integers\n",
    "\n",
    "Torch is built for crunching numbers, not strings. \n",
    "To train our neural network, we'll need to replace characters with their indices in tokens list.\n",
    "\n",
    "Let's compose a dictionary that does this mapping."
   ]
  },
  {
   "cell_type": "code",
   "metadata": {
    "collapsed": true,
    "id": "aP5Mr9v1TtC5",
    "pycharm": {
     "name": "#%%\n"
    }
   },
   "source": [
    "token_to_id = {token: i for i, token in enumerate(tokens)}"
   ],
   "execution_count": 6,
   "outputs": []
  },
  {
   "cell_type": "code",
   "metadata": {
    "id": "vC6zAfjETtC5",
    "colab": {
     "base_uri": "https://localhost:8080/"
    },
    "outputId": "720487d3-e5cf-4fa3-eb67-d312dae1a0f5",
    "pycharm": {
     "name": "#%%\n"
    }
   },
   "source": [
    "assert len(tokens) == len(token_to_id), \"dictionaries must have same size\"\n",
    "\n",
    "for i in range(num_tokens):\n",
    "    assert token_to_id[tokens[i]] == i, \"token identifier must be it's position in tokens list\"\n",
    "\n",
    "print(\"Seems alright!\")"
   ],
   "execution_count": 7,
   "outputs": [
    {
     "name": "stdout",
     "output_type": "stream",
     "text": [
      "Seems alright!\n"
     ]
    }
   ]
  },
  {
   "cell_type": "code",
   "metadata": {
    "collapsed": true,
    "id": "0zF5LREeTtC5",
    "pycharm": {
     "name": "#%%\n"
    }
   },
   "source": [
    "def to_matrix(lines, max_len=None, pad=token_to_id[' '], dtype='int32', batch_first = True):\n",
    "    \"\"\"Casts a list of names into rnn-digestable matrix\"\"\"\n",
    "    \n",
    "    max_len = max_len or max(map(len, lines))\n",
    "    lines_ix = np.zeros([len(lines), max_len], dtype) + pad\n",
    "\n",
    "    for i in range(len(lines)):\n",
    "        line_ix = [token_to_id[c] for c in lines[i]]\n",
    "        lines_ix[i, :len(line_ix)] = line_ix\n",
    "        \n",
    "    if not batch_first: # convert [batch, time] into [time, batch]\n",
    "        lines_ix = np.transpose(lines_ix)\n",
    "\n",
    "    return lines_ix"
   ],
   "execution_count": 8,
   "outputs": []
  },
  {
   "cell_type": "code",
   "metadata": {
    "id": "9787BnQsTtC6",
    "colab": {
     "base_uri": "https://localhost:8080/"
    },
    "outputId": "eebd93a5-55ca-4866-c1a3-5a7f07a825d6",
    "pycharm": {
     "name": "#%%\n"
    }
   },
   "source": [
    "#Example: cast 4 random names to matrices, pad with zeros\n",
    "print('\\n'.join(lines[::2000]))\n",
    "print(to_matrix(lines[::2000]))"
   ],
   "execution_count": 9,
   "outputs": [
    {
     "name": "stdout",
     "output_type": "stream",
     "text": [
      " Abagael\n",
      " Glory\n",
      " Prissie\n",
      " Giovanne\n",
      "[[39 25 12 13 10 13 43 18 39]\n",
      " [39 22 18 34 54 16 39 39 39]\n",
      " [39 23 54  5 46 46  5 43 39]\n",
      " [39 22  5 34  1 13 17 17 43]]\n"
     ]
    }
   ]
  },
  {
   "cell_type": "markdown",
   "metadata": {
    "id": "EaeF3dq7TtC6",
    "pycharm": {
     "name": "#%% md\n"
    }
   },
   "source": [
    "# Recurrent neural network\n",
    "\n",
    "We can rewrite recurrent neural network as a consecutive application of dense layer to input $x_t$ and previous rnn state $h_t$. This is exactly what we're gonna do now.\n",
    "<img src=\"https://github.com/yandexdataschool/Practical_DL/blob/fall19/week06_rnn/rnn.png?raw=1\" width=480>\n",
    "\n",
    "Since we're training a language model, there should also be:\n",
    "* An embedding layer that converts character id x_t to a vector.\n",
    "* An output layer that predicts probabilities of next phoneme"
   ]
  },
  {
   "cell_type": "code",
   "metadata": {
    "collapsed": true,
    "id": "1CjPH4dwTtC8",
    "pycharm": {
     "name": "#%%\n"
    }
   },
   "source": [
    "import torch, torch.nn as nn\n",
    "import torch.nn.functional as F\n",
    "\n",
    "class CharRNNCell(nn.Module):\n",
    "    \"\"\"\n",
    "    Implement the scheme above as torch module\n",
    "    \"\"\"\n",
    "    def __init__(self, num_tokens=len(tokens), embedding_size=16, rnn_num_units=64):\n",
    "        super(self.__class__,self).__init__()\n",
    "        self.num_units = rnn_num_units\n",
    "        \n",
    "        self.embedding = nn.Embedding(num_tokens, embedding_size)\n",
    "        self.rnn_update = nn.Linear(embedding_size + rnn_num_units, rnn_num_units)\n",
    "        self.rnn_to_logits = nn.Linear(rnn_num_units, num_tokens)\n",
    "        \n",
    "    def forward(self, x, h_prev):\n",
    "        \"\"\"\n",
    "        This method computes h_next(x, h_prev) and log P(x_next | h_next)\n",
    "        We'll call it repeatedly to produce the whole sequence.\n",
    "        \n",
    "        :param x: batch of character ids, int64[batch_size]\n",
    "        :param h_prev: previous rnn hidden states, float32 matrix [batch, rnn_num_units]\n",
    "        \"\"\"\n",
    "        # get vector embedding of x\n",
    "        x_emb = self.embedding(x)\n",
    "        \n",
    "        # compute next hidden state using self.rnn_update\n",
    "        # hint: use torch.cat(..., dim=...) for concatenation\n",
    "        h_next = self.rnn_update(torch.cat((x_emb, h_prev), dim=1))\n",
    "        \n",
    "        h_next = F.tanh(h_next)\n",
    "        \n",
    "        assert h_next.size() == h_prev.size()\n",
    "        \n",
    "        #compute logits for next character probs\n",
    "        logits = self.rnn_to_logits(h_next)\n",
    "        \n",
    "        return h_next, F.log_softmax(logits, -1)\n",
    "    \n",
    "    def initial_state(self, batch_size):\n",
    "        \"\"\" return rnn state before it processes first input (aka h0) \"\"\"\n",
    "        return torch.zeros(batch_size, self.num_units)"
   ],
   "execution_count": 10,
   "outputs": []
  },
  {
   "cell_type": "code",
   "metadata": {
    "collapsed": true,
    "id": "sNNwBbGzTtC9",
    "pycharm": {
     "name": "#%%\n"
    }
   },
   "source": [
    "char_rnn = CharRNNCell()"
   ],
   "execution_count": 11,
   "outputs": []
  },
  {
   "cell_type": "markdown",
   "metadata": {
    "id": "SHFGbrHbTtC9",
    "pycharm": {
     "name": "#%% md\n"
    }
   },
   "source": [
    "### RNN loop\n",
    "\n",
    "Once we've defined a single RNN step, we can apply it in a loop to get predictions on each step."
   ]
  },
  {
   "cell_type": "code",
   "metadata": {
    "collapsed": true,
    "id": "iY1pfGSpTtC9",
    "pycharm": {
     "name": "#%%\n"
    }
   },
   "source": [
    "def rnn_loop(char_rnn, batch_ix):\n",
    "    \"\"\"\n",
    "    Computes log P(next_character) for all time-steps in lines_ix\n",
    "    :param lines_ix: an int32 matrix of shape [batch, time], output of to_matrix(lines)\n",
    "    \"\"\"\n",
    "    batch_size, max_length = batch_ix.size()\n",
    "    hid_state = char_rnn.initial_state(batch_size)\n",
    "    logprobs = []\n",
    "\n",
    "    for x_t in batch_ix.transpose(0,1):\n",
    "        hid_state, logp_next = char_rnn(x_t, hid_state)  # <-- here we call your one-step code\n",
    "        logprobs.append(logp_next)\n",
    "        \n",
    "    return torch.stack(logprobs, dim=1)"
   ],
   "execution_count": 12,
   "outputs": []
  },
  {
   "cell_type": "code",
   "metadata": {
    "collapsed": true,
    "id": "LhnrYHMVTtC-",
    "colab": {
     "base_uri": "https://localhost:8080/"
    },
    "outputId": "cd43667c-7e6d-414e-9c2d-23516a5ba8e9",
    "pycharm": {
     "name": "#%%\n"
    }
   },
   "source": [
    "batch_ix = to_matrix(lines[:5])\n",
    "batch_ix = torch.tensor(batch_ix, dtype=torch.int64)\n",
    "\n",
    "logp_seq = rnn_loop(char_rnn, batch_ix)\n",
    "\n",
    "assert torch.max(logp_seq).data.numpy() <= 0\n",
    "assert tuple(logp_seq.size()) ==  batch_ix.shape + (num_tokens,)"
   ],
   "execution_count": 13,
   "outputs": [
    {
     "name": "stderr",
     "output_type": "stream",
     "text": [
      "/Users/kgb/opt/anaconda3/envs/conda_3.7/lib/python3.7/site-packages/torch/nn/functional.py:1794: UserWarning: nn.functional.tanh is deprecated. Use torch.tanh instead.\n",
      "  warnings.warn(\"nn.functional.tanh is deprecated. Use torch.tanh instead.\")\n"
     ]
    }
   ]
  },
  {
   "cell_type": "markdown",
   "metadata": {
    "id": "2VXxsFlNTtC-",
    "pycharm": {
     "name": "#%% md\n"
    }
   },
   "source": [
    "### Likelihood and gradients\n",
    "\n",
    "We can now train our neural network to minimize crossentropy (maximize log-likelihood) with the actual next tokens.\n",
    "\n",
    "To do so in a vectorized manner, we take `batch_ix[:, 1:]` - a matrix of token ids shifted i step to the left so i-th element is acutally the \"next token\" for i-th prediction"
   ]
  },
  {
   "cell_type": "code",
   "metadata": {
    "collapsed": true,
    "id": "N1PC-sPRTtC-",
    "pycharm": {
     "name": "#%%\n"
    }
   },
   "source": [
    "predictions_logp = logp_seq[:, :-1]\n",
    "actual_next_tokens = batch_ix[:, 1:]\n",
    "\n",
    "logp_next = torch.gather(predictions_logp, dim=2, index=actual_next_tokens[:,:,None])\n",
    "\n",
    "loss = -logp_next.mean()"
   ],
   "execution_count": 27,
   "outputs": []
  },
  {
   "cell_type": "code",
   "execution_count": 29,
   "outputs": [
    {
     "data": {
      "text/plain": "(torch.Size([32, 15, 55]), torch.Size([32, 15]), torch.Size([32, 15, 1]))"
     },
     "execution_count": 29,
     "metadata": {},
     "output_type": "execute_result"
    }
   ],
   "source": [
    "predictions_logp.shape, actual_next_tokens.shape, logp_next.shape"
   ],
   "metadata": {
    "collapsed": false,
    "pycharm": {
     "name": "#%%\n"
    }
   }
  },
  {
   "cell_type": "code",
   "metadata": {
    "collapsed": true,
    "id": "RTvam7TOTtC-",
    "pycharm": {
     "name": "#%%\n"
    }
   },
   "source": [
    "loss.backward()"
   ],
   "execution_count": 15,
   "outputs": []
  },
  {
   "cell_type": "code",
   "metadata": {
    "collapsed": true,
    "id": "GKYHOeP1TtC-",
    "pycharm": {
     "name": "#%%\n"
    }
   },
   "source": [
    "for w in char_rnn.parameters():\n",
    "    assert w.grad is not None and torch.max(torch.abs(w.grad)).data.numpy() != 0, \\\n",
    "        \"Loss is not differentiable w.r.t. a weight with shape %s. Check forward method.\" % (w.size(),)"
   ],
   "execution_count": 16,
   "outputs": []
  },
  {
   "cell_type": "markdown",
   "metadata": {
    "id": "8S3dFrL5TtC_",
    "pycharm": {
     "name": "#%% md\n"
    }
   },
   "source": [
    "### The training loop\n",
    "\n",
    "We train our char-rnn exactly the same way we train any deep learning model: by minibatch sgd.\n",
    "\n",
    "The only difference is that this time we sample strings, not images or sound."
   ]
  },
  {
   "cell_type": "code",
   "metadata": {
    "collapsed": true,
    "id": "iYNCH2KpTtC_",
    "pycharm": {
     "name": "#%%\n"
    }
   },
   "source": [
    "from IPython.display import clear_output\n",
    "from random import sample\n",
    "\n",
    "char_rnn = CharRNNCell()\n",
    "opt = torch.optim.Adam(char_rnn.parameters())\n",
    "history = []"
   ],
   "execution_count": 17,
   "outputs": []
  },
  {
   "cell_type": "code",
   "metadata": {
    "id": "OR_XAXV3TtC_",
    "colab": {
     "base_uri": "https://localhost:8080/",
     "height": 265
    },
    "outputId": "78fc7513-bd5b-42c5-b6d8-f72530ade703",
    "pycharm": {
     "name": "#%%\n"
    }
   },
   "source": [
    "for i in range(1000):\n",
    "    batch_ix = to_matrix(sample(lines, 32), max_len=MAX_LENGTH)\n",
    "    batch_ix = torch.tensor(batch_ix, dtype=torch.int64)\n",
    "    \n",
    "    logp_seq = rnn_loop(char_rnn, batch_ix)\n",
    "    \n",
    "    # compute loss\n",
    "    predictions_logp = logp_seq[:, :-1]\n",
    "    actual_next_tokens = batch_ix[:, 1:]\n",
    "\n",
    "    logp_next = torch.gather(predictions_logp, dim=2, index=actual_next_tokens[:,:,None])\n",
    "\n",
    "    loss = -logp_next.mean()\n",
    " \n",
    "    \n",
    "    # train with backprop\n",
    "    loss.backward()\n",
    "    opt.step()\n",
    "    opt.zero_grad()\n",
    "    \n",
    "    history.append(loss.data.numpy())\n",
    "    if (i+1)%100==0:\n",
    "        clear_output(True)\n",
    "        plt.plot(history,label='loss')\n",
    "        plt.legend()\n",
    "        plt.show()\n",
    "\n",
    "assert np.mean(history[:10]) > np.mean(history[-10:]), \"RNN didn't converge.\""
   ],
   "execution_count": 18,
   "outputs": [
    {
     "data": {
      "text/plain": "<Figure size 432x288 with 1 Axes>",
      "image/png": "[encoded data removed]"
     },
     "metadata": {
      "needs_background": "light"
     },
     "output_type": "display_data"
    }
   ]
  },
  {
   "cell_type": "markdown",
   "metadata": {
    "id": "g6RTr-wWTtC_",
    "pycharm": {
     "name": "#%% md\n"
    }
   },
   "source": [
    "### RNN: sampling\n",
    "Once we've trained our network a bit, let's get to actually generating stuff. \n",
    "All we need is the single rnn step function you have defined in `char_rnn.forward`."
   ]
  },
  {
   "cell_type": "code",
   "metadata": {
    "collapsed": true,
    "id": "mEhbx8lmTtC_",
    "pycharm": {
     "name": "#%%\n"
    }
   },
   "source": [
    "def generate_sample(char_rnn, seed_phrase=' ', max_length=MAX_LENGTH, temperature=1.0):\n",
    "    \"\"\"\n",
    "    The function generates text given a phrase of length at least SEQ_LENGTH.\n",
    "    :param seed_phrase: prefix characters. The RNN is asked to continue the phrase\n",
    "    :param max_length: maximum output length, including seed_phrase\n",
    "    :param temperature: coefficient for sampling.  higher temperature produces more chaotic outputs,\n",
    "                        smaller temperature converges to the single most likely output\n",
    "    \"\"\"\n",
    "    \n",
    "    x_sequence = [token_to_id[token] for token in seed_phrase]\n",
    "    x_sequence = torch.tensor([x_sequence], dtype=torch.int64)\n",
    "    hid_state = char_rnn.initial_state(batch_size=1)\n",
    "    \n",
    "    #feed the seed phrase, if any\n",
    "    for i in range(len(seed_phrase) - 1):\n",
    "        hid_state, _ = char_rnn(x_sequence[:, i], hid_state)\n",
    "    \n",
    "    #start generating\n",
    "    for _ in range(max_length - len(seed_phrase)):\n",
    "        hid_state, logp_next = char_rnn(x_sequence[:, -1], hid_state)\n",
    "        p_next = F.softmax(logp_next / temperature, dim=-1).data.numpy()[0]\n",
    "        \n",
    "        # sample next token and push it back into x_sequence\n",
    "        next_ix = np.random.choice(num_tokens,p=p_next)\n",
    "        next_ix = torch.tensor([[next_ix]], dtype=torch.int64)\n",
    "        x_sequence = torch.cat([x_sequence, next_ix], dim=1)\n",
    "        \n",
    "    return ''.join([tokens[ix] for ix in x_sequence.data.numpy()[0]])"
   ],
   "execution_count": 19,
   "outputs": []
  },
  {
   "cell_type": "code",
   "metadata": {
    "id": "wXeEze9rTtDA",
    "pycharm": {
     "name": "#%%\n"
    }
   },
   "source": [
    "for _ in range(10):\n",
    "    print(generate_sample(char_rnn))"
   ],
   "execution_count": 20,
   "outputs": [
    {
     "name": "stdout",
     "output_type": "stream",
     "text": [
      " Lerintii       \n",
      " Maglia         \n",
      " Cellilet       \n",
      " Neensa         \n",
      " Phiteeornt     \n",
      " Carin          \n",
      " Sarsta S       \n",
      " Abmriha        \n",
      " Mardhe         \n",
      " Vullina        \n"
     ]
    }
   ]
  },
  {
   "cell_type": "code",
   "metadata": {
    "id": "yw7AjXXOTtDA",
    "pycharm": {
     "name": "#%%\n"
    }
   },
   "source": [
    "for _ in range(50):\n",
    "    print(generate_sample(char_rnn, seed_phrase=' Trump'))"
   ],
   "execution_count": 21,
   "outputs": [
    {
     "name": "stdout",
     "output_type": "stream",
     "text": [
      " Trumpe         \n",
      " Trump          \n",
      " Trumpere       \n",
      " Trumpy         \n",
      " Trumpa         \n",
      " Trumpe         \n",
      " Trumpeotca     \n",
      " Trumpe         \n",
      " Trumpnarua     \n",
      " Trumper        \n",
      " Trumpy         \n",
      " Trumpotte      \n",
      " Trump          \n",
      " Trumpi         \n",
      " Trumpi         \n",
      " Trump          \n",
      " Trumpe         \n",
      " Trump h        \n",
      " Trumpy         \n",
      " Trump          \n",
      " Trumportkh     \n",
      " Trumphie       \n",
      " Trumpia        \n",
      " Trumpa         \n",
      " Trump          \n",
      " Trumpe         \n",
      " Trump          \n",
      " Trump          \n",
      " Trumpen        \n",
      " Trumper        \n",
      " Trumpon        \n",
      " Trump          \n",
      " Trumpill       \n",
      " Trumpia        \n",
      " Trump          \n",
      " Trumpa         \n",
      " Trump          \n",
      " Trumpee        \n",
      " Trumpaa        \n",
      " Trumpolvpe     \n",
      " Trumph m       \n",
      " Trumpf        h\n",
      " Trumpy         \n",
      " Trumpn         \n",
      " Trumpiny       \n",
      " Trumpe         \n",
      " Trumpne        \n",
      " Trumphiete     \n",
      " Trump          \n",
      " Trumpe         \n"
     ]
    }
   ]
  },
  {
   "cell_type": "markdown",
   "metadata": {
    "id": "LiL1FKa8TtDA",
    "pycharm": {
     "name": "#%% md\n"
    }
   },
   "source": [
    "### Try it out!\n",
    "You've just implemented a recurrent language model that can be tasked with generating any kind of sequence, so there's plenty of data you can try it on:\n",
    "\n",
    "* Novels/poems/songs of your favorite author\n",
    "* News titles/clickbait titles\n",
    "* Source code of Linux or Tensorflow\n",
    "* Molecules in [smiles](https://en.wikipedia.org/wiki/Simplified_molecular-input_line-entry_system) format\n",
    "* Melody in notes/chords format\n",
    "* Ikea catalog titles\n",
    "* Pokemon names\n",
    "* Cards from Magic, the Gathering / Hearthstone\n",
    "\n",
    "If you're willing to give it a try, here's what you wanna look at:\n",
    "* Current data format is a sequence of lines, so a novel can be formatted as a list of sentences. Alternatively, you can change data preprocessing altogether.\n",
    "* While some datasets are readily available, others can only be scraped from the web. Try `Selenium` or `Scrapy` for that.\n",
    "* Make sure MAX_LENGTH is adjusted for longer datasets. There's also a bonus section about dynamic RNNs at the bottom.\n",
    "* More complex tasks require larger RNN architecture, try more neurons or several layers. It would also require more training iterations.\n",
    "* Long-term dependencies in music, novels or molecules are better handled with LSTM or GRU\n",
    "\n",
    "__Good hunting!__"
   ]
  },
  {
   "cell_type": "markdown",
   "metadata": {
    "collapsed": true,
    "id": "IzWSf9-ZTtDA",
    "pycharm": {
     "name": "#%% md\n"
    }
   },
   "source": [
    "### More seriously\n",
    "\n",
    "What we just did is a manual low-level implementation of RNN. While it's cool, i guess you won't like the idea of re-writing it from scratch on every occasion. \n",
    "\n",
    "As you might have guessed, torch has a solution for this. To be more specific, there are two options:\n",
    "* `nn.RNNCell(emb_size, rnn_num_units)` - implements a single step of RNN just like you did. Basically concat-linear-tanh\n",
    "* `nn.RNN(emb_size, rnn_num_units` - implements the whole rnn_loop for you.\n",
    "\n",
    "There's also `nn.LSTMCell` vs `nn.LSTM`, `nn.GRUCell` vs `nn.GRU`, etc. etc.\n",
    "\n",
    "In this example we'll rewrite the char_rnn and rnn_loop using high-level rnn API."
   ]
  },
  {
   "cell_type": "code",
   "metadata": {
    "collapsed": true,
    "id": "BqF-5BaZTtDA",
    "pycharm": {
     "name": "#%%\n"
    }
   },
   "source": [
    "class CharRNNLoop(nn.Module):\n",
    "    def __init__(self, num_tokens=num_tokens, emb_size=16, rnn_num_units=64):\n",
    "        super(self.__class__, self).__init__()\n",
    "        self.emb = nn.Embedding(num_tokens, emb_size)\n",
    "        self.rnn = nn.RNN(emb_size, rnn_num_units, batch_first=True)\n",
    "        self.hid_to_logits = nn.Linear(rnn_num_units, num_tokens)\n",
    "        \n",
    "    def forward(self, x):\n",
    "        h_seq, _ = self.rnn(self.emb(x))\n",
    "        next_logits = self.hid_to_logits(h_seq)\n",
    "        next_logp = F.log_softmax(next_logits, dim=-1)\n",
    "        return next_logp\n",
    "    \n",
    "model = CharRNNLoop()"
   ],
   "execution_count": 22,
   "outputs": []
  },
  {
   "cell_type": "code",
   "metadata": {
    "collapsed": true,
    "id": "O6WqqObvTtDB",
    "pycharm": {
     "name": "#%%\n"
    }
   },
   "source": [
    "# the model applies over the whole sequence\n",
    "batch_ix = to_matrix(sample(lines, 32), max_len=MAX_LENGTH)\n",
    "batch_ix = torch.tensor(batch_ix, dtype=torch.int64)\n",
    "\n",
    "logp_seq = model(batch_ix)\n",
    "\n",
    "# compute loss. This time we use nll_loss with some duct tape\n",
    "loss = F.nll_loss(logp_seq[:, :-1].contiguous().view(-1, num_tokens), \n",
    "                  batch_ix[:, 1:].contiguous().view(-1))\n",
    "\n",
    "loss.backward()"
   ],
   "execution_count": 23,
   "outputs": []
  },
  {
   "cell_type": "markdown",
   "metadata": {
    "collapsed": true,
    "id": "S0V2rLh8TtDB",
    "pycharm": {
     "name": "#%% md\n"
    }
   },
   "source": [
    "Here's another example"
   ]
  },
  {
   "cell_type": "code",
   "metadata": {
    "collapsed": true,
    "id": "I1HZsrLKTtDB",
    "pycharm": {
     "name": "#%%\n"
    }
   },
   "source": [
    "import torch, torch.nn as nn\n",
    "import torch.nn.functional as F\n",
    "\n",
    "class CharLSTMCell(nn.Module):\n",
    "    \"\"\"\n",
    "    Implements something like CharRNNCell, but with LSTM\n",
    "    \"\"\"\n",
    "    def __init__(self, num_tokens=len(tokens), embedding_size=16, rnn_num_units=64):\n",
    "        super(self.__class__,self).__init__()\n",
    "        self.num_units = rnn_num_units\n",
    "        self.emb = nn.Embedding(num_tokens, embedding_size)\n",
    "        self.lstm = nn.LSTMCell(embedding_size, rnn_num_units)\n",
    "        self.rnn_to_logits = nn.Linear(rnn_num_units, num_tokens)\n",
    "        \n",
    "    def forward(self, x, prev_state):\n",
    "        (prev_h, prev_c) = prev_state\n",
    "        (next_h, next_c) = self.lstm(self.emb(x), (prev_h, prev_c))\n",
    "        logits = self.rnn_to_logits(next_h)\n",
    "        \n",
    "        return (next_h, next_c), F.log_softmax(logits, -1)\n",
    "    \n",
    "    def initial_state(self, batch_size):\n",
    "        \"\"\" LSTM has two state variables, cell and hid \"\"\"\n",
    "        return torch.zeros(batch_size, self.num_units), torch.zeros(batch_size, self.num_units)\n",
    "    \n",
    "char_lstm = CharLSTMCell()"
   ],
   "execution_count": 24,
   "outputs": []
  },
  {
   "cell_type": "code",
   "metadata": {
    "collapsed": true,
    "id": "PL7t41BJTtDB",
    "pycharm": {
     "name": "#%%\n"
    }
   },
   "source": [
    "# the model applies over the whole sequence\n",
    "batch_ix = to_matrix(sample(lines, 32), max_len=MAX_LENGTH)\n",
    "batch_ix = torch.tensor(batch_ix, dtype=torch.int64)\n",
    "\n",
    "logp_seq = rnn_loop(char_lstm, batch_ix)\n",
    "\n",
    "# compute loss. This time we use nll_loss with some duct tape\n",
    "loss = F.nll_loss(logp_seq[:, :-1].contiguous().view(-1, num_tokens), \n",
    "                  batch_ix[:, 1:].contiguous().view(-1))\n",
    "\n",
    "loss.backward()"
   ],
   "execution_count": 25,
   "outputs": []
  }
 ]
}